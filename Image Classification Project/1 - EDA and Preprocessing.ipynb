{
 "cells": [
  {
   "cell_type": "markdown",
   "id": "5c13bd06-b32f-4b4f-bfea-c9373e7b8958",
   "metadata": {
    "jp-MarkdownHeadingCollapsed": true
   },
   "source": [
    "### Imports"
   ]
  },
  {
   "cell_type": "code",
   "execution_count": 1,
   "id": "9e9238ce-00fc-44ba-851c-c94904394b68",
   "metadata": {},
   "outputs": [],
   "source": [
    "import pandas as pd\n",
    "import numpy as np\n",
    "import matplotlib.pyplot as plt\n",
    "import requests\n",
    "import os\n",
    "from pathlib import Path\n",
    "import shutil\n",
    "import random\n",
    "from skimage.io import imread\n",
    "from PIL import Image\n",
    "\n",
    "# Train Test split\n",
    "from sklearn.model_selection import train_test_split\n",
    "\n",
    "import warnings\n",
    "warnings.filterwarnings('ignore')"
   ]
  },
  {
   "cell_type": "markdown",
   "id": "fe9d7bfd-7965-4326-bd1e-1c06a60f8b3e",
   "metadata": {},
   "source": [
    "# Importing fitzpatrick17k dataset"
   ]
  },
  {
   "cell_type": "code",
   "execution_count": 3,
   "id": "dab2b2d3-bbfa-4f40-9a62-5d8cdbaca741",
   "metadata": {},
   "outputs": [
    {
     "data": {
      "text/html": [
       "<div>\n",
       "<style scoped>\n",
       "    .dataframe tbody tr th:only-of-type {\n",
       "        vertical-align: middle;\n",
       "    }\n",
       "\n",
       "    .dataframe tbody tr th {\n",
       "        vertical-align: top;\n",
       "    }\n",
       "\n",
       "    .dataframe thead th {\n",
       "        text-align: right;\n",
       "    }\n",
       "</style>\n",
       "<table border=\"1\" class=\"dataframe\">\n",
       "  <thead>\n",
       "    <tr style=\"text-align: right;\">\n",
       "      <th></th>\n",
       "      <th>md5hash</th>\n",
       "      <th>fitzpatrick_scale</th>\n",
       "      <th>fitzpatrick_centaur</th>\n",
       "      <th>label</th>\n",
       "      <th>nine_partition_label</th>\n",
       "      <th>three_partition_label</th>\n",
       "      <th>qc</th>\n",
       "      <th>url</th>\n",
       "      <th>url_alphanum</th>\n",
       "    </tr>\n",
       "  </thead>\n",
       "  <tbody>\n",
       "    <tr>\n",
       "      <th>0</th>\n",
       "      <td>5e82a45bc5d78bd24ae9202d194423f8</td>\n",
       "      <td>3</td>\n",
       "      <td>3</td>\n",
       "      <td>drug induced pigmentary changes</td>\n",
       "      <td>inflammatory</td>\n",
       "      <td>non-neoplastic</td>\n",
       "      <td>NaN</td>\n",
       "      <td>https://www.dermaamin.com/site/images/clinical...</td>\n",
       "      <td>httpwwwdermaamincomsiteimagesclinicalpicmminoc...</td>\n",
       "    </tr>\n",
       "    <tr>\n",
       "      <th>1</th>\n",
       "      <td>fa2911a9b13b6f8af79cb700937cc14f</td>\n",
       "      <td>1</td>\n",
       "      <td>1</td>\n",
       "      <td>photodermatoses</td>\n",
       "      <td>inflammatory</td>\n",
       "      <td>non-neoplastic</td>\n",
       "      <td>NaN</td>\n",
       "      <td>https://www.dermaamin.com/site/images/clinical...</td>\n",
       "      <td>httpwwwdermaamincomsiteimagesclinicalpicpphoto...</td>\n",
       "    </tr>\n",
       "    <tr>\n",
       "      <th>2</th>\n",
       "      <td>d2bac3c9e4499032ca8e9b07c7d3bc40</td>\n",
       "      <td>2</td>\n",
       "      <td>3</td>\n",
       "      <td>dermatofibroma</td>\n",
       "      <td>benign dermal</td>\n",
       "      <td>benign</td>\n",
       "      <td>NaN</td>\n",
       "      <td>https://www.dermaamin.com/site/images/clinical...</td>\n",
       "      <td>httpwwwdermaamincomsiteimagesclinicalpicdderma...</td>\n",
       "    </tr>\n",
       "    <tr>\n",
       "      <th>3</th>\n",
       "      <td>0a94359e7eaacd7178e06b2823777789</td>\n",
       "      <td>1</td>\n",
       "      <td>1</td>\n",
       "      <td>psoriasis</td>\n",
       "      <td>inflammatory</td>\n",
       "      <td>non-neoplastic</td>\n",
       "      <td>NaN</td>\n",
       "      <td>https://www.dermaamin.com/site/images/clinical...</td>\n",
       "      <td>httpwwwdermaamincomsiteimagesclinicalpicppsori...</td>\n",
       "    </tr>\n",
       "    <tr>\n",
       "      <th>4</th>\n",
       "      <td>a39ec3b1f22c08a421fa20535e037bba</td>\n",
       "      <td>1</td>\n",
       "      <td>1</td>\n",
       "      <td>psoriasis</td>\n",
       "      <td>inflammatory</td>\n",
       "      <td>non-neoplastic</td>\n",
       "      <td>NaN</td>\n",
       "      <td>https://www.dermaamin.com/site/images/clinical...</td>\n",
       "      <td>httpwwwdermaamincomsiteimagesclinicalpicppsori...</td>\n",
       "    </tr>\n",
       "    <tr>\n",
       "      <th>...</th>\n",
       "      <td>...</td>\n",
       "      <td>...</td>\n",
       "      <td>...</td>\n",
       "      <td>...</td>\n",
       "      <td>...</td>\n",
       "      <td>...</td>\n",
       "      <td>...</td>\n",
       "      <td>...</td>\n",
       "      <td>...</td>\n",
       "    </tr>\n",
       "    <tr>\n",
       "      <th>16572</th>\n",
       "      <td>cd90e491ddaa92f0f4eb07f73aa09f64</td>\n",
       "      <td>5</td>\n",
       "      <td>5</td>\n",
       "      <td>scleroderma</td>\n",
       "      <td>inflammatory</td>\n",
       "      <td>non-neoplastic</td>\n",
       "      <td>NaN</td>\n",
       "      <td>http://atlasdermatologico.com.br/img?imageId=4529</td>\n",
       "      <td>httpwwwatlasdermatologicocombrimgimageId4529.jpg</td>\n",
       "    </tr>\n",
       "    <tr>\n",
       "      <th>16573</th>\n",
       "      <td>5f1ed6de6a9110d7dc580a6a0312af63</td>\n",
       "      <td>4</td>\n",
       "      <td>5</td>\n",
       "      <td>pityriasis rosea</td>\n",
       "      <td>inflammatory</td>\n",
       "      <td>non-neoplastic</td>\n",
       "      <td>NaN</td>\n",
       "      <td>http://atlasdermatologico.com.br/img?imageId=5630</td>\n",
       "      <td>httpwwwatlasdermatologicocombrimgimageId5630.jpg</td>\n",
       "    </tr>\n",
       "    <tr>\n",
       "      <th>16574</th>\n",
       "      <td>f198aaf1f0550c2464b285454d34926e</td>\n",
       "      <td>3</td>\n",
       "      <td>3</td>\n",
       "      <td>myiasis</td>\n",
       "      <td>inflammatory</td>\n",
       "      <td>non-neoplastic</td>\n",
       "      <td>NaN</td>\n",
       "      <td>http://atlasdermatologico.com.br/img?imageId=4609</td>\n",
       "      <td>httpwwwatlasdermatologicocombrimgimageId4609.jpg</td>\n",
       "    </tr>\n",
       "    <tr>\n",
       "      <th>16575</th>\n",
       "      <td>6214de2e915835014235a1839cbc5938</td>\n",
       "      <td>-1</td>\n",
       "      <td>5</td>\n",
       "      <td>vitiligo</td>\n",
       "      <td>inflammatory</td>\n",
       "      <td>non-neoplastic</td>\n",
       "      <td>NaN</td>\n",
       "      <td>http://atlasdermatologico.com.br/img?imageId=7930</td>\n",
       "      <td>httpwwwatlasdermatologicocombrimgimageId7930.jpg</td>\n",
       "    </tr>\n",
       "    <tr>\n",
       "      <th>16576</th>\n",
       "      <td>5a3a4c1f0effb626b298e89c032b1d28</td>\n",
       "      <td>2</td>\n",
       "      <td>2</td>\n",
       "      <td>dariers disease</td>\n",
       "      <td>genodermatoses</td>\n",
       "      <td>non-neoplastic</td>\n",
       "      <td>NaN</td>\n",
       "      <td>http://atlasdermatologico.com.br/img?imageId=1327</td>\n",
       "      <td>httpwwwatlasdermatologicocombrimgimageId1327.jpg</td>\n",
       "    </tr>\n",
       "  </tbody>\n",
       "</table>\n",
       "<p>16577 rows × 9 columns</p>\n",
       "</div>"
      ],
      "text/plain": [
       "                                md5hash  fitzpatrick_scale  \\\n",
       "0      5e82a45bc5d78bd24ae9202d194423f8                  3   \n",
       "1      fa2911a9b13b6f8af79cb700937cc14f                  1   \n",
       "2      d2bac3c9e4499032ca8e9b07c7d3bc40                  2   \n",
       "3      0a94359e7eaacd7178e06b2823777789                  1   \n",
       "4      a39ec3b1f22c08a421fa20535e037bba                  1   \n",
       "...                                 ...                ...   \n",
       "16572  cd90e491ddaa92f0f4eb07f73aa09f64                  5   \n",
       "16573  5f1ed6de6a9110d7dc580a6a0312af63                  4   \n",
       "16574  f198aaf1f0550c2464b285454d34926e                  3   \n",
       "16575  6214de2e915835014235a1839cbc5938                 -1   \n",
       "16576  5a3a4c1f0effb626b298e89c032b1d28                  2   \n",
       "\n",
       "       fitzpatrick_centaur                            label  \\\n",
       "0                        3  drug induced pigmentary changes   \n",
       "1                        1                  photodermatoses   \n",
       "2                        3                   dermatofibroma   \n",
       "3                        1                        psoriasis   \n",
       "4                        1                        psoriasis   \n",
       "...                    ...                              ...   \n",
       "16572                    5                      scleroderma   \n",
       "16573                    5                 pityriasis rosea   \n",
       "16574                    3                          myiasis   \n",
       "16575                    5                         vitiligo   \n",
       "16576                    2                  dariers disease   \n",
       "\n",
       "      nine_partition_label three_partition_label   qc  \\\n",
       "0             inflammatory        non-neoplastic  NaN   \n",
       "1             inflammatory        non-neoplastic  NaN   \n",
       "2            benign dermal                benign  NaN   \n",
       "3             inflammatory        non-neoplastic  NaN   \n",
       "4             inflammatory        non-neoplastic  NaN   \n",
       "...                    ...                   ...  ...   \n",
       "16572         inflammatory        non-neoplastic  NaN   \n",
       "16573         inflammatory        non-neoplastic  NaN   \n",
       "16574         inflammatory        non-neoplastic  NaN   \n",
       "16575         inflammatory        non-neoplastic  NaN   \n",
       "16576       genodermatoses        non-neoplastic  NaN   \n",
       "\n",
       "                                                     url  \\\n",
       "0      https://www.dermaamin.com/site/images/clinical...   \n",
       "1      https://www.dermaamin.com/site/images/clinical...   \n",
       "2      https://www.dermaamin.com/site/images/clinical...   \n",
       "3      https://www.dermaamin.com/site/images/clinical...   \n",
       "4      https://www.dermaamin.com/site/images/clinical...   \n",
       "...                                                  ...   \n",
       "16572  http://atlasdermatologico.com.br/img?imageId=4529   \n",
       "16573  http://atlasdermatologico.com.br/img?imageId=5630   \n",
       "16574  http://atlasdermatologico.com.br/img?imageId=4609   \n",
       "16575  http://atlasdermatologico.com.br/img?imageId=7930   \n",
       "16576  http://atlasdermatologico.com.br/img?imageId=1327   \n",
       "\n",
       "                                            url_alphanum  \n",
       "0      httpwwwdermaamincomsiteimagesclinicalpicmminoc...  \n",
       "1      httpwwwdermaamincomsiteimagesclinicalpicpphoto...  \n",
       "2      httpwwwdermaamincomsiteimagesclinicalpicdderma...  \n",
       "3      httpwwwdermaamincomsiteimagesclinicalpicppsori...  \n",
       "4      httpwwwdermaamincomsiteimagesclinicalpicppsori...  \n",
       "...                                                  ...  \n",
       "16572   httpwwwatlasdermatologicocombrimgimageId4529.jpg  \n",
       "16573   httpwwwatlasdermatologicocombrimgimageId5630.jpg  \n",
       "16574   httpwwwatlasdermatologicocombrimgimageId4609.jpg  \n",
       "16575   httpwwwatlasdermatologicocombrimgimageId7930.jpg  \n",
       "16576   httpwwwatlasdermatologicocombrimgimageId1327.jpg  \n",
       "\n",
       "[16577 rows x 9 columns]"
      ]
     },
     "execution_count": 3,
     "metadata": {},
     "output_type": "execute_result"
    }
   ],
   "source": [
    "df_original = pd.read_csv(r\".\\fitzpatrick17k.csv\")\n",
    "df = df_original.copy()\n",
    "df"
   ]
  },
  {
   "cell_type": "code",
   "execution_count": 4,
   "id": "bcc944fa-978e-42c4-947f-9e96ed455d70",
   "metadata": {},
   "outputs": [
    {
     "data": {
      "text/plain": [
       "(16577, 9)"
      ]
     },
     "execution_count": 4,
     "metadata": {},
     "output_type": "execute_result"
    }
   ],
   "source": [
    "df.shape"
   ]
  },
  {
   "cell_type": "markdown",
   "id": "ba839fe0-e0ff-45d4-8b15-5098a9ed94ef",
   "metadata": {},
   "source": [
    "# EDA"
   ]
  },
  {
   "cell_type": "code",
   "execution_count": 5,
   "id": "825430c3-67a6-4d90-901a-3eae1862c19c",
   "metadata": {},
   "outputs": [
    {
     "data": {
      "text/plain": [
       "Index(['md5hash', 'fitzpatrick_scale', 'fitzpatrick_centaur', 'label',\n",
       "       'nine_partition_label', 'three_partition_label', 'qc', 'url',\n",
       "       'url_alphanum'],\n",
       "      dtype='object')"
      ]
     },
     "execution_count": 5,
     "metadata": {},
     "output_type": "execute_result"
    }
   ],
   "source": [
    "df.columns"
   ]
  },
  {
   "cell_type": "code",
   "execution_count": 6,
   "id": "62e71374-4509-4bdd-980f-6bab6e456f6a",
   "metadata": {},
   "outputs": [
    {
     "data": {
      "text/plain": [
       "md5hash                  object\n",
       "fitzpatrick_scale         int64\n",
       "fitzpatrick_centaur       int64\n",
       "label                    object\n",
       "nine_partition_label     object\n",
       "three_partition_label    object\n",
       "qc                       object\n",
       "url                      object\n",
       "url_alphanum             object\n",
       "dtype: object"
      ]
     },
     "execution_count": 6,
     "metadata": {},
     "output_type": "execute_result"
    }
   ],
   "source": [
    "df.dtypes"
   ]
  },
  {
   "cell_type": "code",
   "execution_count": 7,
   "id": "d38ed099-fafc-42c7-bcb9-5cac62162a0a",
   "metadata": {},
   "outputs": [
    {
     "data": {
      "text/plain": [
       "md5hash                      0\n",
       "fitzpatrick_scale            0\n",
       "fitzpatrick_centaur          0\n",
       "label                        0\n",
       "nine_partition_label         0\n",
       "three_partition_label        0\n",
       "qc                       16073\n",
       "url                         41\n",
       "url_alphanum                 0\n",
       "dtype: int64"
      ]
     },
     "execution_count": 7,
     "metadata": {},
     "output_type": "execute_result"
    }
   ],
   "source": [
    "df.isna().sum()"
   ]
  },
  {
   "cell_type": "markdown",
   "id": "41ebb774-c82e-4fde-8de1-1c2ab76ad018",
   "metadata": {},
   "source": [
    "### Labels"
   ]
  },
  {
   "cell_type": "code",
   "execution_count": 8,
   "id": "4143ac41-43e7-4cc7-8752-dbace23a53e8",
   "metadata": {
    "scrolled": true
   },
   "outputs": [
    {
     "data": {
      "text/plain": [
       "array(['drug induced pigmentary changes', 'photodermatoses',\n",
       "       'dermatofibroma', 'psoriasis', 'kaposi sarcoma',\n",
       "       'neutrophilic dermatoses', 'granuloma annulare',\n",
       "       'nematode infection', 'allergic contact dermatitis',\n",
       "       'necrobiosis lipoidica', 'hidradenitis', 'melanoma',\n",
       "       'acne vulgaris', 'sarcoidosis', 'xeroderma pigmentosum',\n",
       "       'actinic keratosis', 'scleroderma', 'syringoma', 'folliculitis',\n",
       "       'pityriasis lichenoides chronica', 'porphyria',\n",
       "       'dyshidrotic eczema', 'seborrheic dermatitis', 'prurigo nodularis',\n",
       "       'acne', 'neurofibromatosis', 'eczema', 'pediculosis lids',\n",
       "       'basal cell carcinoma', 'pityriasis rubra pilaris',\n",
       "       'pityriasis rosea', 'livedo reticularis',\n",
       "       'stevens johnson syndrome', 'erythema multiforme',\n",
       "       'acrodermatitis enteropathica', 'epidermolysis bullosa',\n",
       "       'dermatomyositis', 'urticaria', 'basal cell carcinoma morpheiform',\n",
       "       'vitiligo', 'erythema nodosum', 'lupus erythematosus',\n",
       "       'lichen planus', 'sun damaged skin', 'drug eruption', 'scabies',\n",
       "       'cheilitis', 'urticaria pigmentosa', 'behcets disease',\n",
       "       'nevocytic nevus', 'mycosis fungoides',\n",
       "       'superficial spreading melanoma ssm', 'porokeratosis of mibelli',\n",
       "       'juvenile xanthogranuloma', 'milia', 'granuloma pyogenic',\n",
       "       'papilomatosis confluentes and reticulate',\n",
       "       'neurotic excoriations', 'epidermal nevus', 'naevus comedonicus',\n",
       "       'erythema annulare centrifigum', 'pilar cyst',\n",
       "       'pustular psoriasis', 'ichthyosis vulgaris', 'lyme disease',\n",
       "       'striae', 'rhinophyma', 'calcinosis cutis', 'stasis edema',\n",
       "       'neurodermatitis', 'congenital nevus', 'squamous cell carcinoma',\n",
       "       'mucinosis', 'keratosis pilaris', 'keloid', 'tuberous sclerosis',\n",
       "       'acquired autoimmune bullous diseaseherpes gestationis',\n",
       "       'fixed eruptions', 'lentigo maligna', 'lichen simplex',\n",
       "       'dariers disease', 'lymphangioma', 'pilomatricoma',\n",
       "       'lupus subacute', 'perioral dermatitis',\n",
       "       'disseminated actinic porokeratosis', 'erythema elevatum diutinum',\n",
       "       'halo nevus', 'aplasia cutis', 'incontinentia pigmenti',\n",
       "       'tick bite', 'fordyce spots', 'telangiectases',\n",
       "       'solid cystic basal cell carcinoma', 'paronychia', 'becker nevus',\n",
       "       'pyogenic granuloma', 'langerhans cell histiocytosis',\n",
       "       'port wine stain', 'malignant melanoma', 'factitial dermatitis',\n",
       "       'xanthomas', 'nevus sebaceous of jadassohn',\n",
       "       'hailey hailey disease', 'scleromyxedema', 'porokeratosis actinic',\n",
       "       'rosacea', 'acanthosis nigricans', 'myiasis',\n",
       "       'seborrheic keratosis', 'mucous cyst', 'lichen amyloidosis',\n",
       "       'ehlers danlos syndrome', 'tungiasis'], dtype=object)"
      ]
     },
     "execution_count": 8,
     "metadata": {},
     "output_type": "execute_result"
    }
   ],
   "source": [
    "# 114 different target labels\n",
    "df['label'].unique()"
   ]
  },
  {
   "cell_type": "code",
   "execution_count": 9,
   "id": "c42225ac-5167-4c05-a3b1-ca1d2b42f65e",
   "metadata": {},
   "outputs": [
    {
     "data": {
      "text/plain": [
       "label\n",
       "psoriasis                      653\n",
       "squamous cell carcinoma        581\n",
       "lichen planus                  491\n",
       "basal cell carcinoma           468\n",
       "allergic contact dermatitis    430\n",
       "                              ... \n",
       "port wine stain                 59\n",
       "erythema elevatum diutinum      55\n",
       "pustular psoriasis              53\n",
       "xanthomas                       53\n",
       "pilomatricoma                   53\n",
       "Name: count, Length: 114, dtype: int64"
      ]
     },
     "execution_count": 9,
     "metadata": {},
     "output_type": "execute_result"
    }
   ],
   "source": [
    "df['label'].value_counts()"
   ]
  },
  {
   "cell_type": "code",
   "execution_count": 10,
   "id": "ad6021b0-82f9-4a49-894e-c998f61f666c",
   "metadata": {},
   "outputs": [
    {
     "data": {
      "text/plain": [
       "array(['inflammatory', 'benign dermal', 'malignant dermal',\n",
       "       'malignant melanoma', 'genodermatoses', 'malignant epidermal',\n",
       "       'benign epidermal', 'benign melanocyte',\n",
       "       'malignant cutaneous lymphoma'], dtype=object)"
      ]
     },
     "execution_count": 10,
     "metadata": {},
     "output_type": "execute_result"
    }
   ],
   "source": [
    "# 9 labels\n",
    "df['nine_partition_label'].unique()"
   ]
  },
  {
   "cell_type": "code",
   "execution_count": 11,
   "id": "cb04a764-203e-4d51-9867-b959b04e8361",
   "metadata": {},
   "outputs": [
    {
     "data": {
      "text/plain": [
       "array(['non-neoplastic', 'benign', 'malignant'], dtype=object)"
      ]
     },
     "execution_count": 11,
     "metadata": {},
     "output_type": "execute_result"
    }
   ],
   "source": [
    "# 3 labels\n",
    "df['three_partition_label'].unique()"
   ]
  },
  {
   "cell_type": "markdown",
   "id": "84c4ad63-e303-404b-ba5d-f432911a7ab9",
   "metadata": {},
   "source": [
    "### qc"
   ]
  },
  {
   "cell_type": "code",
   "execution_count": 65,
   "id": "f1c5710c-709f-413d-994c-fea1fcd8a6e0",
   "metadata": {},
   "outputs": [
    {
     "data": {
      "text/plain": [
       "array([nan, '1 Diagnostic', '5 Potentially', '3 Wrongly labelled',\n",
       "       '2 Characteristic', '4 Other'], dtype=object)"
      ]
     },
     "execution_count": 65,
     "metadata": {},
     "output_type": "execute_result"
    }
   ],
   "source": [
    "df['qc'].unique()"
   ]
  },
  {
   "cell_type": "code",
   "execution_count": 17,
   "id": "9a6116ac-113c-4de6-9ed7-0f710f63340b",
   "metadata": {},
   "outputs": [
    {
     "name": "stdout",
     "output_type": "stream",
     "text": [
      "Percentage of qc NaN: 96.95964287868733%\n"
     ]
    }
   ],
   "source": [
    "# Over 96% of this feature are missing values\n",
    "print(f'Percentage of qc NaN: {((df.qc.isna().sum())/len(df))*100}%')"
   ]
  },
  {
   "cell_type": "markdown",
   "id": "85da4ab2-8227-412b-b966-7693e94a6c7d",
   "metadata": {},
   "source": [
    "### URL"
   ]
  },
  {
   "cell_type": "code",
   "execution_count": 18,
   "id": "4550a0c0-1180-43d1-b118-67145481b216",
   "metadata": {},
   "outputs": [
    {
     "name": "stdout",
     "output_type": "stream",
     "text": [
      "https://www.dermaamin.com/site/images/clinical-pic/d/dermatofibroma/dermatofibroma71.jpg\n",
      "httpwwwdermaamincomsiteimagesclinicalpicddermatofibromadermatofibroma71jpg.jpg\n"
     ]
    }
   ],
   "source": [
    "# The URLs\n",
    "print(df['url'][2])\n",
    "print(df['url_alphanum'][2])"
   ]
  },
  {
   "cell_type": "code",
   "execution_count": 19,
   "id": "51509006-8784-44fb-8455-2124bab0ce25",
   "metadata": {},
   "outputs": [
    {
     "data": {
      "text/plain": [
       "'httpwwwdermaamincomsiteimagesclinicalpicLLichensimplexchronicusLichensimplexchronicus30jpg.jpg'"
      ]
     },
     "execution_count": 19,
     "metadata": {},
     "output_type": "execute_result"
    }
   ],
   "source": [
    "df.iloc[145]['url_alphanum']"
   ]
  },
  {
   "cell_type": "code",
   "execution_count": 69,
   "id": "d7c600f7-1fb7-4a38-ac15-b16591cbc780",
   "metadata": {
    "scrolled": true
   },
   "outputs": [
    {
     "data": {
      "text/html": [
       "<div>\n",
       "<style scoped>\n",
       "    .dataframe tbody tr th:only-of-type {\n",
       "        vertical-align: middle;\n",
       "    }\n",
       "\n",
       "    .dataframe tbody tr th {\n",
       "        vertical-align: top;\n",
       "    }\n",
       "\n",
       "    .dataframe thead th {\n",
       "        text-align: right;\n",
       "    }\n",
       "</style>\n",
       "<table border=\"1\" class=\"dataframe\">\n",
       "  <thead>\n",
       "    <tr style=\"text-align: right;\">\n",
       "      <th></th>\n",
       "      <th>url_alphanum</th>\n",
       "    </tr>\n",
       "  </thead>\n",
       "  <tbody>\n",
       "    <tr>\n",
       "      <th>145</th>\n",
       "      <td>httpwwwdermaamincomsiteimagesclinicalpicLLiche...</td>\n",
       "    </tr>\n",
       "    <tr>\n",
       "      <th>349</th>\n",
       "      <td>httpwwwdermaamincomsiteimagesclinicalpicooralm...</td>\n",
       "    </tr>\n",
       "    <tr>\n",
       "      <th>535</th>\n",
       "      <td>httpwwwdermaamincomsiteimagesclinicalpicLLiche...</td>\n",
       "    </tr>\n",
       "    <tr>\n",
       "      <th>868</th>\n",
       "      <td>httpwwwdermaamincomsiteimagesclinicalpicLLiche...</td>\n",
       "    </tr>\n",
       "    <tr>\n",
       "      <th>879</th>\n",
       "      <td>httpwwwdermaamincomsiteimagesclinicalpicooralm...</td>\n",
       "    </tr>\n",
       "    <tr>\n",
       "      <th>918</th>\n",
       "      <td>httpwwwdermaamincomsiteimagesclinicalpicLLiche...</td>\n",
       "    </tr>\n",
       "    <tr>\n",
       "      <th>1322</th>\n",
       "      <td>httpwwwdermaamincomsiteimagesclinicalpicLLiche...</td>\n",
       "    </tr>\n",
       "    <tr>\n",
       "      <th>1958</th>\n",
       "      <td>httpwwwdermaamincomsiteimageshistopicjjunction...</td>\n",
       "    </tr>\n",
       "    <tr>\n",
       "      <th>1972</th>\n",
       "      <td>httpwwwdermaamincomsiteimagesclinicalpicLLiche...</td>\n",
       "    </tr>\n",
       "    <tr>\n",
       "      <th>2078</th>\n",
       "      <td>httpwwwdermaamincomsiteimagesclinicalpicLLiche...</td>\n",
       "    </tr>\n",
       "    <tr>\n",
       "      <th>2519</th>\n",
       "      <td>httpwwwdermaamincomsiteimagesclinicalpicLLiche...</td>\n",
       "    </tr>\n",
       "    <tr>\n",
       "      <th>3601</th>\n",
       "      <td>httpwwwdermaamincomsiteimagesclinicalpicLLiche...</td>\n",
       "    </tr>\n",
       "    <tr>\n",
       "      <th>3672</th>\n",
       "      <td>httpwwwdermaamincomsiteimagesclinicalpicLLiche...</td>\n",
       "    </tr>\n",
       "    <tr>\n",
       "      <th>4267</th>\n",
       "      <td>httpwwwdermaamincomsiteimagesclinicalpicLLiche...</td>\n",
       "    </tr>\n",
       "    <tr>\n",
       "      <th>4426</th>\n",
       "      <td>httpwwwdermaamincomsiteimagesclinicalpicLLiche...</td>\n",
       "    </tr>\n",
       "    <tr>\n",
       "      <th>4795</th>\n",
       "      <td>httpwwwdermaamincomsiteimagesclinicalpicLLiche...</td>\n",
       "    </tr>\n",
       "    <tr>\n",
       "      <th>5410</th>\n",
       "      <td>httpwwwdermaamincomsiteimagesclinicalpicLLiche...</td>\n",
       "    </tr>\n",
       "    <tr>\n",
       "      <th>5432</th>\n",
       "      <td>httpwwwdermaamincomsiteimagesclinicalpicLLiche...</td>\n",
       "    </tr>\n",
       "    <tr>\n",
       "      <th>5787</th>\n",
       "      <td>httpwwwdermaamincomsiteimagesclinicalpicLLiche...</td>\n",
       "    </tr>\n",
       "    <tr>\n",
       "      <th>6201</th>\n",
       "      <td>httpwwwdermaamincomsiteimagesclinicalpicLLiche...</td>\n",
       "    </tr>\n",
       "    <tr>\n",
       "      <th>7265</th>\n",
       "      <td>httpwwwdermaamincomsiteimagesclinicalpicLLiche...</td>\n",
       "    </tr>\n",
       "    <tr>\n",
       "      <th>7328</th>\n",
       "      <td>httpwwwdermaamincomsiteimagesclinicalpicLLiche...</td>\n",
       "    </tr>\n",
       "    <tr>\n",
       "      <th>7444</th>\n",
       "      <td>httpwwwdermaamincomsiteimagesclinicalpicLLiche...</td>\n",
       "    </tr>\n",
       "    <tr>\n",
       "      <th>7618</th>\n",
       "      <td>httpwwwdermaamincomsiteimagesclinicalpicLLiche...</td>\n",
       "    </tr>\n",
       "    <tr>\n",
       "      <th>7790</th>\n",
       "      <td>httpwwwdermaamincomsiteimagesclinicalpicLLiche...</td>\n",
       "    </tr>\n",
       "    <tr>\n",
       "      <th>8887</th>\n",
       "      <td>httpwwwdermaamincomsiteimagesclinicalpicLLiche...</td>\n",
       "    </tr>\n",
       "    <tr>\n",
       "      <th>9126</th>\n",
       "      <td>httpwwwdermaamincomsiteimagesclinicalpicLLiche...</td>\n",
       "    </tr>\n",
       "    <tr>\n",
       "      <th>9572</th>\n",
       "      <td>httpwwwdermaamincomsiteimagesclinicalpicLLiche...</td>\n",
       "    </tr>\n",
       "    <tr>\n",
       "      <th>9684</th>\n",
       "      <td>httpwwwdermaamincomsiteimagesclinicalpicooralm...</td>\n",
       "    </tr>\n",
       "    <tr>\n",
       "      <th>9931</th>\n",
       "      <td>httpwwwdermaamincomsiteimagesclinicalpicLLiche...</td>\n",
       "    </tr>\n",
       "    <tr>\n",
       "      <th>9965</th>\n",
       "      <td>httpwwwdermaamincomsiteimagesclinicalpicLLiche...</td>\n",
       "    </tr>\n",
       "    <tr>\n",
       "      <th>10585</th>\n",
       "      <td>httpwwwdermaamincomsiteimagesclinicalpicLLiche...</td>\n",
       "    </tr>\n",
       "    <tr>\n",
       "      <th>10912</th>\n",
       "      <td>httpwwwdermaamincomsiteimagesclinicalpicLLiche...</td>\n",
       "    </tr>\n",
       "    <tr>\n",
       "      <th>10983</th>\n",
       "      <td>httpwwwdermaamincomsiteimagesclinicalpicLLiche...</td>\n",
       "    </tr>\n",
       "    <tr>\n",
       "      <th>11123</th>\n",
       "      <td>httpwwwdermaamincomsiteimagesclinicalpicLLiche...</td>\n",
       "    </tr>\n",
       "    <tr>\n",
       "      <th>11787</th>\n",
       "      <td>httpwwwdermaamincomsiteimagesclinicalpicLLiche...</td>\n",
       "    </tr>\n",
       "    <tr>\n",
       "      <th>11911</th>\n",
       "      <td>httpwwwdermaamincomsiteimageshistopicjjunction...</td>\n",
       "    </tr>\n",
       "    <tr>\n",
       "      <th>12156</th>\n",
       "      <td>httpwwwdermaamincomsiteimagesclinicalpicLLiche...</td>\n",
       "    </tr>\n",
       "    <tr>\n",
       "      <th>12192</th>\n",
       "      <td>httpwwwdermaamincomsiteimageshistopicjjunction...</td>\n",
       "    </tr>\n",
       "    <tr>\n",
       "      <th>12425</th>\n",
       "      <td>httpwwwdermaamincomsiteimagesclinicalpicLLiche...</td>\n",
       "    </tr>\n",
       "    <tr>\n",
       "      <th>12535</th>\n",
       "      <td>httpwwwdermaamincomsiteimagesclinicalpicLLiche...</td>\n",
       "    </tr>\n",
       "  </tbody>\n",
       "</table>\n",
       "</div>"
      ],
      "text/plain": [
       "                                            url_alphanum\n",
       "145    httpwwwdermaamincomsiteimagesclinicalpicLLiche...\n",
       "349    httpwwwdermaamincomsiteimagesclinicalpicooralm...\n",
       "535    httpwwwdermaamincomsiteimagesclinicalpicLLiche...\n",
       "868    httpwwwdermaamincomsiteimagesclinicalpicLLiche...\n",
       "879    httpwwwdermaamincomsiteimagesclinicalpicooralm...\n",
       "918    httpwwwdermaamincomsiteimagesclinicalpicLLiche...\n",
       "1322   httpwwwdermaamincomsiteimagesclinicalpicLLiche...\n",
       "1958   httpwwwdermaamincomsiteimageshistopicjjunction...\n",
       "1972   httpwwwdermaamincomsiteimagesclinicalpicLLiche...\n",
       "2078   httpwwwdermaamincomsiteimagesclinicalpicLLiche...\n",
       "2519   httpwwwdermaamincomsiteimagesclinicalpicLLiche...\n",
       "3601   httpwwwdermaamincomsiteimagesclinicalpicLLiche...\n",
       "3672   httpwwwdermaamincomsiteimagesclinicalpicLLiche...\n",
       "4267   httpwwwdermaamincomsiteimagesclinicalpicLLiche...\n",
       "4426   httpwwwdermaamincomsiteimagesclinicalpicLLiche...\n",
       "4795   httpwwwdermaamincomsiteimagesclinicalpicLLiche...\n",
       "5410   httpwwwdermaamincomsiteimagesclinicalpicLLiche...\n",
       "5432   httpwwwdermaamincomsiteimagesclinicalpicLLiche...\n",
       "5787   httpwwwdermaamincomsiteimagesclinicalpicLLiche...\n",
       "6201   httpwwwdermaamincomsiteimagesclinicalpicLLiche...\n",
       "7265   httpwwwdermaamincomsiteimagesclinicalpicLLiche...\n",
       "7328   httpwwwdermaamincomsiteimagesclinicalpicLLiche...\n",
       "7444   httpwwwdermaamincomsiteimagesclinicalpicLLiche...\n",
       "7618   httpwwwdermaamincomsiteimagesclinicalpicLLiche...\n",
       "7790   httpwwwdermaamincomsiteimagesclinicalpicLLiche...\n",
       "8887   httpwwwdermaamincomsiteimagesclinicalpicLLiche...\n",
       "9126   httpwwwdermaamincomsiteimagesclinicalpicLLiche...\n",
       "9572   httpwwwdermaamincomsiteimagesclinicalpicLLiche...\n",
       "9684   httpwwwdermaamincomsiteimagesclinicalpicooralm...\n",
       "9931   httpwwwdermaamincomsiteimagesclinicalpicLLiche...\n",
       "9965   httpwwwdermaamincomsiteimagesclinicalpicLLiche...\n",
       "10585  httpwwwdermaamincomsiteimagesclinicalpicLLiche...\n",
       "10912  httpwwwdermaamincomsiteimagesclinicalpicLLiche...\n",
       "10983  httpwwwdermaamincomsiteimagesclinicalpicLLiche...\n",
       "11123  httpwwwdermaamincomsiteimagesclinicalpicLLiche...\n",
       "11787  httpwwwdermaamincomsiteimagesclinicalpicLLiche...\n",
       "11911  httpwwwdermaamincomsiteimageshistopicjjunction...\n",
       "12156  httpwwwdermaamincomsiteimagesclinicalpicLLiche...\n",
       "12192  httpwwwdermaamincomsiteimageshistopicjjunction...\n",
       "12425  httpwwwdermaamincomsiteimagesclinicalpicLLiche...\n",
       "12535  httpwwwdermaamincomsiteimagesclinicalpicLLiche..."
      ]
     },
     "execution_count": 69,
     "metadata": {},
     "output_type": "execute_result"
    }
   ],
   "source": [
    "nan_df = df[df['url'].isnull()]\n",
    "nan_df[['url_alphanum']]"
   ]
  },
  {
   "cell_type": "markdown",
   "id": "0b993701-35ac-442a-8deb-ad97de6e704f",
   "metadata": {},
   "source": [
    "### fitzpatrick scales"
   ]
  },
  {
   "cell_type": "code",
   "execution_count": 70,
   "id": "98e5d924-3c90-4de2-b82f-0bca4bfc8fde",
   "metadata": {},
   "outputs": [
    {
     "data": {
      "text/plain": [
       "array([ 3,  1,  2,  6,  4, -1,  5], dtype=int64)"
      ]
     },
     "execution_count": 70,
     "metadata": {},
     "output_type": "execute_result"
    }
   ],
   "source": [
    "df['fitzpatrick_scale'].unique()"
   ]
  },
  {
   "cell_type": "code",
   "execution_count": 71,
   "id": "5bfdb054-9f5d-4c6a-9d04-870fdbbeb70c",
   "metadata": {},
   "outputs": [
    {
     "data": {
      "text/plain": [
       "array([ 3,  1,  5,  2,  4, -1,  6], dtype=int64)"
      ]
     },
     "execution_count": 71,
     "metadata": {},
     "output_type": "execute_result"
    }
   ],
   "source": [
    "df['fitzpatrick_centaur'].unique()"
   ]
  },
  {
   "cell_type": "code",
   "execution_count": 72,
   "id": "08c1aade-7959-402d-9bfb-ea1ee8b9302f",
   "metadata": {},
   "outputs": [
    {
     "data": {
      "image/png": "[encoded data removed]",
      "text/plain": [
       "<Figure size 640x480 with 1 Axes>"
      ]
     },
     "metadata": {},
     "output_type": "display_data"
    }
   ],
   "source": [
    "plt.hist(df['fitzpatrick_scale'])\n",
    "plt.xlabel('Fitzpatrick Scale Value')\n",
    "plt.title('Fitzpatrick Scale')\n",
    "plt.show()"
   ]
  },
  {
   "cell_type": "code",
   "execution_count": 73,
   "id": "99afae22-f1be-46d1-987d-91e17ca9b0c5",
   "metadata": {},
   "outputs": [
    {
     "data": {
      "image/png": "[encoded data removed]",
      "text/plain": [
       "<Figure size 640x480 with 1 Axes>"
      ]
     },
     "metadata": {},
     "output_type": "display_data"
    }
   ],
   "source": [
    "plt.hist(df['fitzpatrick_centaur'])\n",
    "plt.xlabel('Fitzpatrick Centaur Value')\n",
    "plt.title('Fitzpatrick Centaur')\n",
    "plt.show()"
   ]
  },
  {
   "cell_type": "markdown",
   "id": "7ea96cd1-4a83-4814-be67-8fdc6fb83916",
   "metadata": {},
   "source": [
    "# Preprocessing"
   ]
  },
  {
   "cell_type": "markdown",
   "id": "5596d2fd-b149-4433-9416-a67bb4767415",
   "metadata": {},
   "source": [
    "### Downloading images"
   ]
  },
  {
   "cell_type": "code",
   "execution_count": null,
   "id": "ea8ed46a-d4ce-46ea-a2ec-1d57f6d25b8c",
   "metadata": {},
   "outputs": [],
   "source": [
    "url_nan = df[df['url'].isna()]"
   ]
  },
  {
   "cell_type": "code",
   "execution_count": null,
   "id": "9f37c74f-9f83-4b70-8362-7f1b1de85196",
   "metadata": {},
   "outputs": [],
   "source": [
    "url_nan['url'] = url_nan['url_alphanum'].apply(lambda x: 'https://' + x.replace('http', '').replace('www', 'www.').replace('com', '.com/').replace('images', '/images/').replace('clinicalpic', 'clinical-pic/').replace('jpg.jpg', '.jpg'))"
   ]
  },
  {
   "cell_type": "code",
   "execution_count": null,
   "id": "e7975948-bebf-442f-b502-1bf81155599b",
   "metadata": {},
   "outputs": [],
   "source": [
    "def transform_url(alpha_num_url):\n",
    "    \"\"\"\n",
    "    Transforms the alphanumeric url into a valid url.\n",
    "    These are the cases where there is a missing value in the url column.\n",
    "    \"\"\"\n",
    "\n",
    "    base_url = 'https://www.dermaamin.com/site/images/'\n",
    "\n",
    "    if 'clinical-pic/LLichensimplexchronicus' in alpha_num_url:\n",
    "        folder_name = re.search(r'clinical-pic/(.+?)Lichen', alpha_num_url).group(1)\n",
    "        file_name = re.search(r'Lichen(.+)\\.jpg', alpha_num_url).group(1).replace('Lichen', '/Lichen').replace('simplex', ' simplex').replace('chronicus', ' chronicus')\n",
    "        transformed_url = f\"{base_url}clinical-pic/{folder_name}/Lichen {file_name.strip()}.jpg\"\n",
    "\n",
    "    elif 'histopicjjunctionnaevus' in alpha_num_url:\n",
    "        folder_name = re.search(r'histopic(.+?)junction', alpha_num_url).group(1)\n",
    "        file_name = re.search(r'junction(.+)\\.jpg', alpha_num_url).group(1).replace('junction', '/junction-')\n",
    "        transformed_url = f\"{base_url}histo-pic/{folder_name}/junction-{file_name.strip()}.jpg\"\n",
    "    \n",
    "    elif 'clinical-pic/ooralmucosalmelanoma' in alpha_num_url:\n",
    "        folder_name = re.search(r'clinical-pic/(.+?)oral', alpha_num_url).group(1)\n",
    "        file_name = re.search(r'oral(.+)\\.jpg', alpha_num_url).group(1).replace('oral', '/oral- ').replace('mucosal', 'mucosal-')\n",
    "        transformed_url = f\"{base_url}clinical-pic/{folder_name}/oral- {file_name.strip()}.jpg\"\n",
    "\n",
    "    else:\n",
    "        transformed_url = None\t\n",
    "    \n",
    "    return transformed_url"
   ]
  },
  {
   "cell_type": "code",
   "execution_count": null,
   "id": "073c3233-4099-4e43-8081-e74f606c36ea",
   "metadata": {},
   "outputs": [],
   "source": [
    "url_nan['url'] = url_nan['url'].apply(transform_url)"
   ]
  },
  {
   "cell_type": "code",
   "execution_count": null,
   "id": "3250200e-774e-4d7b-a057-e4b8826a8815",
   "metadata": {},
   "outputs": [],
   "source": [
    "# Filling the missing values in the url column on the original dataset\n",
    "df['url'] = df['url'].fillna(url_nan['url'])"
   ]
  },
  {
   "cell_type": "code",
   "execution_count": null,
   "id": "b375d6d6-1dd8-4e32-9f80-10f1a0fdbcd7",
   "metadata": {},
   "outputs": [],
   "source": [
    "def download_image(url, filename):\n",
    "    try:\n",
    "        headers = {'User-Agent': 'Mozilla/5.0 (Windows NT 10.0; Win64; x64) AppleWebKit/537.36 (KHTML, like Gecko) Chrome/58.0.3029.110 Safari/537.3'}\n",
    "        decoded_url = unquote(url)\n",
    "\n",
    "        response = requests.get(decoded_url, headers=headers, stream=True)\n",
    "        if response.status_code == 200:\n",
    "            with open(filename, 'wb') as file:\n",
    "                file.write(response.content)\n",
    "            return True\n",
    "        else:\n",
    "            print(f\"Failed to download image from url: {url} (Status Code: {response.status_code})\")\n",
    "    except requests.exceptions.RequestException as e:\n",
    "        print(f\"Failed to download image from url: {url} (Error: {e})\")\n",
    "    return False\n",
    "\n",
    "for index, row in df.iterrows():\n",
    "    url = row['url']\n",
    "    filename = os.path.join('images', f'image_{index}.jpg')\n",
    "    download_image(url, filename)"
   ]
  },
  {
   "cell_type": "code",
   "execution_count": null,
   "id": "e1f33d41-bef5-41da-8238-e8811f024c07",
   "metadata": {},
   "outputs": [],
   "source": [
    "for index in range(15555, 15598):  \n",
    "    row = df.loc[index]\n",
    "    url = row['url']\n",
    "    filename = os.path.join('images', f'image_{index}.jpg')\n",
    "    download_image(url, filename)"
   ]
  },
  {
   "cell_type": "markdown",
   "id": "55fab252-80e9-4351-991d-ad941745d526",
   "metadata": {},
   "source": [
    "### Linking Images to the dataset"
   ]
  },
  {
   "cell_type": "code",
   "execution_count": 20,
   "id": "a4a4ac84-dfa4-47a2-96a2-17c49c7d4ad1",
   "metadata": {},
   "outputs": [
    {
     "name": "stdout",
     "output_type": "stream",
     "text": [
      "Broken url: image_12847.jpg does not exist. Skipping...\n",
      "Broken url: image_13186.jpg does not exist. Skipping...\n",
      "Broken url: image_13244.jpg does not exist. Skipping...\n",
      "Broken url: image_13353.jpg does not exist. Skipping...\n",
      "Broken url: image_13357.jpg does not exist. Skipping...\n",
      "Broken url: image_13811.jpg does not exist. Skipping...\n",
      "Broken url: image_13846.jpg does not exist. Skipping...\n",
      "Broken url: image_14146.jpg does not exist. Skipping...\n",
      "Broken url: image_15278.jpg does not exist. Skipping...\n",
      "Broken url: image_15556.jpg does not exist. Skipping...\n"
     ]
    }
   ],
   "source": [
    "image_paths = []\n",
    "\n",
    "# Linking the images using their name\n",
    "# Images' names have the same suffix as the index of the dataframe e.g. image_15.jpg corresponds to the row with index 15\n",
    "for i in df.index:\n",
    "    image_name = f\"image_{i}.jpg\"\n",
    "    image_path = os.path.join(\"original_images\", image_name)\n",
    "    if os.path.exists(image_path):\n",
    "        image_paths.append(image_path)\n",
    "    else:\n",
    "        print(f\"Broken url: {image_name} does not exist. Skipping...\")"
   ]
  },
  {
   "cell_type": "code",
   "execution_count": 21,
   "id": "a0d5e9c9-a34c-47f5-a71f-d451b71a1c6c",
   "metadata": {},
   "outputs": [
    {
     "data": {
      "text/plain": [
       "(16567, 9)"
      ]
     },
     "execution_count": 21,
     "metadata": {},
     "output_type": "execute_result"
    }
   ],
   "source": [
    "# Removing missing images\n",
    "index = [12847, 13186, 13244, 13353, 13357, 13811, 13846, 14146, 15278, 15556]\n",
    "df = df.drop(index)\n",
    "df.shape"
   ]
  },
  {
   "cell_type": "code",
   "execution_count": 22,
   "id": "7c3130e6-da97-4eeb-88ec-a739b3f93dc3",
   "metadata": {},
   "outputs": [],
   "source": [
    "# Adding image_path column\n",
    "df['image_path'] = image_paths"
   ]
  },
  {
   "cell_type": "code",
   "execution_count": 23,
   "id": "75cb4547-e0da-4961-9f38-5e4e124a369b",
   "metadata": {},
   "outputs": [
    {
     "data": {
      "text/plain": [
       "12845    original_images\\image_12845.jpg\n",
       "12846    original_images\\image_12846.jpg\n",
       "12848    original_images\\image_12848.jpg\n",
       "12849    original_images\\image_12849.jpg\n",
       "12850    original_images\\image_12850.jpg\n",
       "Name: image_path, dtype: object"
      ]
     },
     "execution_count": 23,
     "metadata": {},
     "output_type": "execute_result"
    }
   ],
   "source": [
    "# Confirming that the images correspond to the correct df index\n",
    "df.iloc[12845:12850]['image_path']"
   ]
  },
  {
   "cell_type": "code",
   "execution_count": 24,
   "id": "f01d658f-20ce-48cd-9dac-b2e540d25401",
   "metadata": {},
   "outputs": [
    {
     "data": {
      "text/html": [
       "<div>\n",
       "<style scoped>\n",
       "    .dataframe tbody tr th:only-of-type {\n",
       "        vertical-align: middle;\n",
       "    }\n",
       "\n",
       "    .dataframe tbody tr th {\n",
       "        vertical-align: top;\n",
       "    }\n",
       "\n",
       "    .dataframe thead th {\n",
       "        text-align: right;\n",
       "    }\n",
       "</style>\n",
       "<table border=\"1\" class=\"dataframe\">\n",
       "  <thead>\n",
       "    <tr style=\"text-align: right;\">\n",
       "      <th></th>\n",
       "      <th>fitzpatrick_scale</th>\n",
       "      <th>nine_partition_label</th>\n",
       "      <th>three_partition_label</th>\n",
       "      <th>image_path</th>\n",
       "      <th>label</th>\n",
       "    </tr>\n",
       "  </thead>\n",
       "  <tbody>\n",
       "    <tr>\n",
       "      <th>0</th>\n",
       "      <td>3</td>\n",
       "      <td>inflammatory</td>\n",
       "      <td>non-neoplastic</td>\n",
       "      <td>original_images\\image_0.jpg</td>\n",
       "      <td>drug induced pigmentary changes</td>\n",
       "    </tr>\n",
       "    <tr>\n",
       "      <th>1</th>\n",
       "      <td>1</td>\n",
       "      <td>inflammatory</td>\n",
       "      <td>non-neoplastic</td>\n",
       "      <td>original_images\\image_1.jpg</td>\n",
       "      <td>photodermatoses</td>\n",
       "    </tr>\n",
       "    <tr>\n",
       "      <th>2</th>\n",
       "      <td>2</td>\n",
       "      <td>benign dermal</td>\n",
       "      <td>benign</td>\n",
       "      <td>original_images\\image_2.jpg</td>\n",
       "      <td>dermatofibroma</td>\n",
       "    </tr>\n",
       "    <tr>\n",
       "      <th>3</th>\n",
       "      <td>1</td>\n",
       "      <td>inflammatory</td>\n",
       "      <td>non-neoplastic</td>\n",
       "      <td>original_images\\image_3.jpg</td>\n",
       "      <td>psoriasis</td>\n",
       "    </tr>\n",
       "    <tr>\n",
       "      <th>4</th>\n",
       "      <td>1</td>\n",
       "      <td>inflammatory</td>\n",
       "      <td>non-neoplastic</td>\n",
       "      <td>original_images\\image_4.jpg</td>\n",
       "      <td>psoriasis</td>\n",
       "    </tr>\n",
       "    <tr>\n",
       "      <th>...</th>\n",
       "      <td>...</td>\n",
       "      <td>...</td>\n",
       "      <td>...</td>\n",
       "      <td>...</td>\n",
       "      <td>...</td>\n",
       "    </tr>\n",
       "    <tr>\n",
       "      <th>16572</th>\n",
       "      <td>5</td>\n",
       "      <td>inflammatory</td>\n",
       "      <td>non-neoplastic</td>\n",
       "      <td>original_images\\image_16572.jpg</td>\n",
       "      <td>scleroderma</td>\n",
       "    </tr>\n",
       "    <tr>\n",
       "      <th>16573</th>\n",
       "      <td>4</td>\n",
       "      <td>inflammatory</td>\n",
       "      <td>non-neoplastic</td>\n",
       "      <td>original_images\\image_16573.jpg</td>\n",
       "      <td>pityriasis rosea</td>\n",
       "    </tr>\n",
       "    <tr>\n",
       "      <th>16574</th>\n",
       "      <td>3</td>\n",
       "      <td>inflammatory</td>\n",
       "      <td>non-neoplastic</td>\n",
       "      <td>original_images\\image_16574.jpg</td>\n",
       "      <td>myiasis</td>\n",
       "    </tr>\n",
       "    <tr>\n",
       "      <th>16575</th>\n",
       "      <td>-1</td>\n",
       "      <td>inflammatory</td>\n",
       "      <td>non-neoplastic</td>\n",
       "      <td>original_images\\image_16575.jpg</td>\n",
       "      <td>vitiligo</td>\n",
       "    </tr>\n",
       "    <tr>\n",
       "      <th>16576</th>\n",
       "      <td>2</td>\n",
       "      <td>genodermatoses</td>\n",
       "      <td>non-neoplastic</td>\n",
       "      <td>original_images\\image_16576.jpg</td>\n",
       "      <td>dariers disease</td>\n",
       "    </tr>\n",
       "  </tbody>\n",
       "</table>\n",
       "<p>16567 rows × 5 columns</p>\n",
       "</div>"
      ],
      "text/plain": [
       "       fitzpatrick_scale nine_partition_label three_partition_label  \\\n",
       "0                      3         inflammatory        non-neoplastic   \n",
       "1                      1         inflammatory        non-neoplastic   \n",
       "2                      2        benign dermal                benign   \n",
       "3                      1         inflammatory        non-neoplastic   \n",
       "4                      1         inflammatory        non-neoplastic   \n",
       "...                  ...                  ...                   ...   \n",
       "16572                  5         inflammatory        non-neoplastic   \n",
       "16573                  4         inflammatory        non-neoplastic   \n",
       "16574                  3         inflammatory        non-neoplastic   \n",
       "16575                 -1         inflammatory        non-neoplastic   \n",
       "16576                  2       genodermatoses        non-neoplastic   \n",
       "\n",
       "                            image_path                            label  \n",
       "0          original_images\\image_0.jpg  drug induced pigmentary changes  \n",
       "1          original_images\\image_1.jpg                  photodermatoses  \n",
       "2          original_images\\image_2.jpg                   dermatofibroma  \n",
       "3          original_images\\image_3.jpg                        psoriasis  \n",
       "4          original_images\\image_4.jpg                        psoriasis  \n",
       "...                                ...                              ...  \n",
       "16572  original_images\\image_16572.jpg                      scleroderma  \n",
       "16573  original_images\\image_16573.jpg                 pityriasis rosea  \n",
       "16574  original_images\\image_16574.jpg                          myiasis  \n",
       "16575  original_images\\image_16575.jpg                         vitiligo  \n",
       "16576  original_images\\image_16576.jpg                  dariers disease  \n",
       "\n",
       "[16567 rows x 5 columns]"
      ]
     },
     "execution_count": 24,
     "metadata": {},
     "output_type": "execute_result"
    }
   ],
   "source": [
    "# df with the useful columns\n",
    "df = df[['fitzpatrick_scale','nine_partition_label','three_partition_label','image_path','label']]\n",
    "df"
   ]
  },
  {
   "cell_type": "code",
   "execution_count": 25,
   "id": "14c792a6-1af9-4e10-87e5-d72a4ae2dd39",
   "metadata": {},
   "outputs": [
    {
     "data": {
      "text/plain": [
       "fitzpatrick_scale        0\n",
       "nine_partition_label     0\n",
       "three_partition_label    0\n",
       "image_path               0\n",
       "label                    0\n",
       "dtype: int64"
      ]
     },
     "execution_count": 25,
     "metadata": {},
     "output_type": "execute_result"
    }
   ],
   "source": [
    "df.isna().sum()"
   ]
  },
  {
   "cell_type": "markdown",
   "id": "b8419724-588d-47bc-88f9-1861ef45ae03",
   "metadata": {},
   "source": [
    "### Stratify based on labels + fitzpatrick scale"
   ]
  },
  {
   "cell_type": "code",
   "execution_count": 26,
   "id": "df9d100b-08e8-42d3-849e-2e6f53af913a",
   "metadata": {},
   "outputs": [
    {
     "data": {
      "text/plain": [
       "fitzpatrick_scale  label                       \n",
       "-1                 squamous cell carcinoma         45\n",
       "                   pediculosis lids                38\n",
       "                   psoriasis                       31\n",
       "                   scabies                         28\n",
       "                   folliculitis                    25\n",
       "                                                   ..\n",
       " 6                 naevus comedonicus               1\n",
       "                   nevocytic nevus                  1\n",
       "                   nevus sebaceous of jadassohn     1\n",
       "                   striae                           1\n",
       "                   tick bite                        1\n",
       "Name: count, Length: 756, dtype: int64"
      ]
     },
     "execution_count": 26,
     "metadata": {},
     "output_type": "execute_result"
    }
   ],
   "source": [
    "# Some combinations label + fitz sacle have only 1 image example, so we need to combine the fitzpatrick scales in ranges\n",
    "df.groupby('fitzpatrick_scale')['label'].value_counts()"
   ]
  },
  {
   "cell_type": "code",
   "execution_count": 31,
   "id": "497bdb3f-8591-4b86-88e1-9fddce600be3",
   "metadata": {},
   "outputs": [
    {
     "data": {
      "text/html": [
       "<div>\n",
       "<style scoped>\n",
       "    .dataframe tbody tr th:only-of-type {\n",
       "        vertical-align: middle;\n",
       "    }\n",
       "\n",
       "    .dataframe tbody tr th {\n",
       "        vertical-align: top;\n",
       "    }\n",
       "\n",
       "    .dataframe thead th {\n",
       "        text-align: right;\n",
       "    }\n",
       "</style>\n",
       "<table border=\"1\" class=\"dataframe\">\n",
       "  <thead>\n",
       "    <tr style=\"text-align: right;\">\n",
       "      <th></th>\n",
       "      <th>fitzpatrick_scale</th>\n",
       "      <th>fitzpatrick_range</th>\n",
       "    </tr>\n",
       "  </thead>\n",
       "  <tbody>\n",
       "    <tr>\n",
       "      <th>11746</th>\n",
       "      <td>4</td>\n",
       "      <td>3-6</td>\n",
       "    </tr>\n",
       "    <tr>\n",
       "      <th>8557</th>\n",
       "      <td>5</td>\n",
       "      <td>3-6</td>\n",
       "    </tr>\n",
       "    <tr>\n",
       "      <th>3117</th>\n",
       "      <td>3</td>\n",
       "      <td>3-6</td>\n",
       "    </tr>\n",
       "    <tr>\n",
       "      <th>11088</th>\n",
       "      <td>1</td>\n",
       "      <td>1-2</td>\n",
       "    </tr>\n",
       "    <tr>\n",
       "      <th>6133</th>\n",
       "      <td>2</td>\n",
       "      <td>1-2</td>\n",
       "    </tr>\n",
       "  </tbody>\n",
       "</table>\n",
       "</div>"
      ],
      "text/plain": [
       "       fitzpatrick_scale fitzpatrick_range\n",
       "11746                  4               3-6\n",
       "8557                   5               3-6\n",
       "3117                   3               3-6\n",
       "11088                  1               1-2\n",
       "6133                   2               1-2"
      ]
     },
     "execution_count": 31,
     "metadata": {},
     "output_type": "execute_result"
    }
   ],
   "source": [
    "fitzpatrick_range_mapping = {\n",
    "    '-1':'1-2',\n",
    "    '1': '1-2',\n",
    "    '2': '1-2',  # mapping scales -1(unkown),1 and 2 to 1-2 range\n",
    "    \n",
    "    '3': '3-6',\n",
    "    '4': '3-6',\n",
    "    '5': '3-6',\n",
    "    '6': '3-6',  # mapping scales 3, 4, 5 and 6 to 3-6 range\n",
    "}\n",
    "df['fitzpatrick_range'] = df['fitzpatrick_scale'].astype(str).map(fitzpatrick_range_mapping)\n",
    "df[['fitzpatrick_scale','fitzpatrick_range']].sample(5)"
   ]
  },
  {
   "cell_type": "code",
   "execution_count": 32,
   "id": "9b5a77a3-ba37-4192-bb49-94c84b19dfdb",
   "metadata": {},
   "outputs": [
    {
     "data": {
      "text/plain": [
       "fitzpatrick_range  label                            \n",
       "1-2                psoriasis                            376\n",
       "                   squamous cell carcinoma              325\n",
       "                   allergic contact dermatitis          269\n",
       "                   basal cell carcinoma                 249\n",
       "                   acne vulgaris                        224\n",
       "                                                       ... \n",
       "3-6                aplasia cutis                         13\n",
       "                   perioral dermatitis                   12\n",
       "                   pilomatricoma                         11\n",
       "                   solid cystic basal cell carcinoma     11\n",
       "                   basal cell carcinoma morpheiform       6\n",
       "Name: count, Length: 228, dtype: int64"
      ]
     },
     "execution_count": 32,
     "metadata": {},
     "output_type": "execute_result"
    }
   ],
   "source": [
    "# Now we have multiple examples of each fitzpatrick scale / label combination\n",
    "df.groupby('fitzpatrick_range')['label'].value_counts()"
   ]
  },
  {
   "cell_type": "markdown",
   "id": "8928e45b-bfc0-4fd7-aa9f-743cab3b06e7",
   "metadata": {},
   "source": [
    "### Data split"
   ]
  },
  {
   "cell_type": "code",
   "execution_count": 33,
   "id": "028d6dd9-9e8f-4b24-8cc2-8e9cb3b0f24c",
   "metadata": {},
   "outputs": [
    {
     "name": "stdout",
     "output_type": "stream",
     "text": [
      "Train size: 11596\n",
      "Validation size: 2485\n",
      "Test size: 2486\n"
     ]
    }
   ],
   "source": [
    "# Splitting the data into train (70%) and temporary (30%)\n",
    "train_df, temp_df = train_test_split(df, test_size=0.3,\n",
    "                                     random_state=42,\n",
    "                                     stratify=df[['label', 'fitzpatrick_range']])\n",
    "\n",
    "# Splitting the temporary data into validation (50%) and test (50%)\n",
    "validation_df, test_df = train_test_split(temp_df, test_size=0.5,\n",
    "                                          random_state=42,\n",
    "                                          stratify=temp_df[['label', 'fitzpatrick_range']])\n",
    "\n",
    "# Confirming the sizes of the splits\n",
    "print(\"Train size:\", len(train_df))\n",
    "print(\"Validation size:\", len(validation_df))\n",
    "print(\"Test size:\", len(test_df))"
   ]
  },
  {
   "cell_type": "code",
   "execution_count": 74,
   "id": "49445915-f4b1-4877-83e9-8f72a4e15413",
   "metadata": {},
   "outputs": [],
   "source": [
    "def move_images_to_folders(data, split_name, main_folder='images_split'):\n",
    "    \n",
    "    split_folder = os.path.join(main_folder, split_name)\n",
    "\n",
    "    for index, row in data.iterrows():\n",
    "        image_path = row['image_path']\n",
    "        label = row['label']\n",
    "        image_name = os.path.basename(image_path)\n",
    "        destination_folder = os.path.join(split_folder, label)\n",
    "        if not os.path.exists(destination_folder):\n",
    "            os.makedirs(destination_folder)\n",
    "        shutil.copy(image_path, os.path.join(destination_folder, image_name))\n",
    "    \n",
    "    print(f\"{split_name} images. Done!\")"
   ]
  },
  {
   "cell_type": "code",
   "execution_count": 75,
   "id": "66fb16d9-c066-49c8-83aa-937812c39c48",
   "metadata": {},
   "outputs": [
    {
     "name": "stdout",
     "output_type": "stream",
     "text": [
      "Training images. Done!\n",
      "Validation images. Done!\n",
      "Test images. Done!\n"
     ]
    }
   ],
   "source": [
    "# Moving images to Training, Validation and Test folders\n",
    "move_images_to_folders(train_df, 'Training')\n",
    "move_images_to_folders(validation_df, 'Validation')\n",
    "move_images_to_folders(test_df, 'Test')"
   ]
  },
  {
   "cell_type": "markdown",
   "id": "b1dce804-1261-4550-8a00-98623b4d97e3",
   "metadata": {},
   "source": [
    "# Defining images paths"
   ]
  },
  {
   "cell_type": "code",
   "execution_count": 34,
   "id": "88017c1e-0fe0-4746-aaa2-7d6d6ef85608",
   "metadata": {},
   "outputs": [],
   "source": [
    "# path to the images folder\n",
    "data_dir = Path('original_images')\n",
    "\n",
    "# path to Training, Validation and Test images folders\n",
    "train_dir = Path('images_split/Training')\n",
    "val_dir = Path('images_split/Validation')\n",
    "test_dir = Path('images_split/Test')"
   ]
  }
 ],
 "metadata": {
  "kernelspec": {
   "display_name": "Python 3 (ipykernel)",
   "language": "python",
   "name": "python3"
  },
  "language_info": {
   "codemirror_mode": {
    "name": "ipython",
    "version": 3
   },
   "file_extension": ".py",
   "mimetype": "text/x-python",
   "name": "python",
   "nbconvert_exporter": "python",
   "pygments_lexer": "ipython3",
   "version": "3.10.14"
  }
 },
 "nbformat": 4,
 "nbformat_minor": 5
}
