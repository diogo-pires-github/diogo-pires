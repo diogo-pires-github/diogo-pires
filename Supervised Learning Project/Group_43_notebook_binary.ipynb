{
 "cells": [
  {
   "cell_type": "markdown",
   "id": "80e5cac0-40be-4dda-a764-5f3704ef8386",
   "metadata": {},
   "source": [
    "# Imports"
   ]
  },
  {
   "cell_type": "code",
   "execution_count": 5,
   "id": "75fea884-4df9-4efc-a6bd-a39b63b2579b",
   "metadata": {},
   "outputs": [
    {
     "name": "stdout",
     "output_type": "stream",
     "text": [
      "The autoreload extension is already loaded. To reload it, use:\n",
      "  %reload_ext autoreload\n"
     ]
    },
    {
     "ename": "ModuleNotFoundError",
     "evalue": "No module named 'cuml'",
     "output_type": "error",
     "traceback": [
      "\u001b[1;31m---------------------------------------------------------------------------\u001b[0m",
      "\u001b[1;31mModuleNotFoundError\u001b[0m                       Traceback (most recent call last)",
      "Cell \u001b[1;32mIn[5], line 21\u001b[0m\n\u001b[0;32m     18\u001b[0m \u001b[38;5;28;01mfrom\u001b[39;00m \u001b[38;5;21;01msklearn\u001b[39;00m\u001b[38;5;21;01m.\u001b[39;00m\u001b[38;5;21;01mpreprocessing\u001b[39;00m \u001b[38;5;28;01mimport\u001b[39;00m TargetEncoder, MinMaxScaler, PowerTransformer, LabelEncoder\n\u001b[0;32m     19\u001b[0m \u001b[38;5;28;01mfrom\u001b[39;00m \u001b[38;5;21;01msklearn\u001b[39;00m\u001b[38;5;21;01m.\u001b[39;00m\u001b[38;5;21;01mimpute\u001b[39;00m \u001b[38;5;28;01mimport\u001b[39;00m SimpleImputer\n\u001b[1;32m---> 21\u001b[0m \u001b[38;5;28;01mfrom\u001b[39;00m \u001b[38;5;21;01mcuml\u001b[39;00m\u001b[38;5;21;01m.\u001b[39;00m\u001b[38;5;21;01msvm\u001b[39;00m \u001b[38;5;28;01mimport\u001b[39;00m SVC \u001b[38;5;66;03m# Using this to select model, sklearn one for prediction, if best model\u001b[39;00m\n\u001b[0;32m     23\u001b[0m \u001b[38;5;28;01mimport\u001b[39;00m \u001b[38;5;21;01mwarnings\u001b[39;00m; warnings\u001b[38;5;241m.\u001b[39mfilterwarnings(\u001b[38;5;124m'\u001b[39m\u001b[38;5;124mignore\u001b[39m\u001b[38;5;124m'\u001b[39m)\n",
      "\u001b[1;31mModuleNotFoundError\u001b[0m: No module named 'cuml'"
     ]
    }
   ],
   "source": [
    "%load_ext autoreload\n",
    "%autoreload 2\n",
    "    \n",
    "import os\n",
    "\n",
    "import pandas as pd\n",
    "import numpy as np\n",
    "import seaborn as sns\n",
    "\n",
    "from utils import CustomCleaner, get_submission_data\n",
    "from scipy.stats import uniform\n",
    "\n",
    "from sklearn.model_selection import train_test_split, cross_val_score, RandomizedSearchCV\n",
    "from sklearn.pipeline import Pipeline\n",
    "from sklearn.compose import ColumnTransformer\n",
    "from sklearn.linear_model import SGDClassifier\n",
    "from sklearn.metrics import f1_score\n",
    "from sklearn.preprocessing import TargetEncoder, MinMaxScaler, PowerTransformer, LabelEncoder\n",
    "from sklearn.impute import SimpleImputer\n",
    "\n",
    "from cuml.svm import SVC # Using this to select model, sklearn one for prediction, if best model\n",
    "\n",
    "import warnings; warnings.filterwarnings('ignore')"
   ]
  },
  {
   "cell_type": "markdown",
   "id": "a0c136a9-13e2-4de4-b365-06023b2b53cb",
   "metadata": {},
   "source": [
    "# Load data"
   ]
  },
  {
   "cell_type": "code",
   "execution_count": 3,
   "id": "5be02078-7f49-42ce-b4b9-c15960b1a0d7",
   "metadata": {},
   "outputs": [
    {
     "data": {
      "text/html": [
       "<div>\n",
       "<style scoped>\n",
       "    .dataframe tbody tr th:only-of-type {\n",
       "        vertical-align: middle;\n",
       "    }\n",
       "\n",
       "    .dataframe tbody tr th {\n",
       "        vertical-align: top;\n",
       "    }\n",
       "\n",
       "    .dataframe thead th {\n",
       "        text-align: right;\n",
       "    }\n",
       "</style>\n",
       "<table border=\"1\" class=\"dataframe\">\n",
       "  <thead>\n",
       "    <tr style=\"text-align: right;\">\n",
       "      <th></th>\n",
       "      <th>encounter_id</th>\n",
       "      <th>country</th>\n",
       "      <th>patient_id</th>\n",
       "      <th>race</th>\n",
       "      <th>gender</th>\n",
       "      <th>age</th>\n",
       "      <th>weight</th>\n",
       "      <th>payer_code</th>\n",
       "      <th>outpatient_visits_in_previous_year</th>\n",
       "      <th>emergency_visits_in_previous_year</th>\n",
       "      <th>inpatient_visits_in_previous_year</th>\n",
       "      <th>admission_type</th>\n",
       "      <th>medical_specialty</th>\n",
       "      <th>average_pulse_bpm</th>\n",
       "      <th>discharge_disposition</th>\n",
       "      <th>admission_source</th>\n",
       "      <th>length_of_stay_in_hospital</th>\n",
       "      <th>number_lab_tests</th>\n",
       "      <th>non_lab_procedures</th>\n",
       "      <th>number_of_medications</th>\n",
       "      <th>primary_diagnosis</th>\n",
       "      <th>secondary_diagnosis</th>\n",
       "      <th>additional_diagnosis</th>\n",
       "      <th>number_diagnoses</th>\n",
       "      <th>glucose_test_result</th>\n",
       "      <th>a1c_test_result</th>\n",
       "      <th>change_in_meds_during_hospitalization</th>\n",
       "      <th>prescribed_diabetes_meds</th>\n",
       "      <th>medication</th>\n",
       "      <th>readmitted_binary</th>\n",
       "      <th>readmitted_multiclass</th>\n",
       "    </tr>\n",
       "  </thead>\n",
       "  <tbody>\n",
       "    <tr>\n",
       "      <th>0</th>\n",
       "      <td>533253</td>\n",
       "      <td>USA</td>\n",
       "      <td>70110</td>\n",
       "      <td>Caucasian</td>\n",
       "      <td>Female</td>\n",
       "      <td>[70-80)</td>\n",
       "      <td>?</td>\n",
       "      <td>?</td>\n",
       "      <td>0</td>\n",
       "      <td>0</td>\n",
       "      <td>2</td>\n",
       "      <td>Emergency</td>\n",
       "      <td>Family/GeneralPractice</td>\n",
       "      <td>127</td>\n",
       "      <td>Discharged to home</td>\n",
       "      <td>Emergency Room</td>\n",
       "      <td>2</td>\n",
       "      <td>48</td>\n",
       "      <td>0</td>\n",
       "      <td>20</td>\n",
       "      <td>515</td>\n",
       "      <td>276</td>\n",
       "      <td>466</td>\n",
       "      <td>8</td>\n",
       "      <td>NaN</td>\n",
       "      <td>NaN</td>\n",
       "      <td>No</td>\n",
       "      <td>No</td>\n",
       "      <td>[]</td>\n",
       "      <td>No</td>\n",
       "      <td>&gt;30 days</td>\n",
       "    </tr>\n",
       "    <tr>\n",
       "      <th>1</th>\n",
       "      <td>426224</td>\n",
       "      <td>USA</td>\n",
       "      <td>29775006</td>\n",
       "      <td>AfricanAmerican</td>\n",
       "      <td>Male</td>\n",
       "      <td>[50-60)</td>\n",
       "      <td>?</td>\n",
       "      <td>?</td>\n",
       "      <td>0</td>\n",
       "      <td>0</td>\n",
       "      <td>0</td>\n",
       "      <td>Emergency</td>\n",
       "      <td>?</td>\n",
       "      <td>128</td>\n",
       "      <td>Discharged/transferred to a federal health car...</td>\n",
       "      <td>Clinic Referral</td>\n",
       "      <td>14</td>\n",
       "      <td>71</td>\n",
       "      <td>0</td>\n",
       "      <td>25</td>\n",
       "      <td>38</td>\n",
       "      <td>785</td>\n",
       "      <td>162</td>\n",
       "      <td>9</td>\n",
       "      <td>NaN</td>\n",
       "      <td>NaN</td>\n",
       "      <td>No</td>\n",
       "      <td>Yes</td>\n",
       "      <td>['insulin']</td>\n",
       "      <td>No</td>\n",
       "      <td>No</td>\n",
       "    </tr>\n",
       "    <tr>\n",
       "      <th>2</th>\n",
       "      <td>634063</td>\n",
       "      <td>USA</td>\n",
       "      <td>80729253</td>\n",
       "      <td>Caucasian</td>\n",
       "      <td>Female</td>\n",
       "      <td>[60-70)</td>\n",
       "      <td>?</td>\n",
       "      <td>?</td>\n",
       "      <td>0</td>\n",
       "      <td>0</td>\n",
       "      <td>1</td>\n",
       "      <td>NaN</td>\n",
       "      <td>Family/GeneralPractice</td>\n",
       "      <td>94</td>\n",
       "      <td>Discharged to home</td>\n",
       "      <td>NaN</td>\n",
       "      <td>6</td>\n",
       "      <td>60</td>\n",
       "      <td>1</td>\n",
       "      <td>22</td>\n",
       "      <td>534</td>\n",
       "      <td>135</td>\n",
       "      <td>250</td>\n",
       "      <td>6</td>\n",
       "      <td>NaN</td>\n",
       "      <td>NaN</td>\n",
       "      <td>Ch</td>\n",
       "      <td>Yes</td>\n",
       "      <td>['glimepiride', 'insulin']</td>\n",
       "      <td>No</td>\n",
       "      <td>No</td>\n",
       "    </tr>\n",
       "    <tr>\n",
       "      <th>3</th>\n",
       "      <td>890610</td>\n",
       "      <td>USA</td>\n",
       "      <td>2919042</td>\n",
       "      <td>AfricanAmerican</td>\n",
       "      <td>Male</td>\n",
       "      <td>[60-70)</td>\n",
       "      <td>?</td>\n",
       "      <td>MC</td>\n",
       "      <td>0</td>\n",
       "      <td>0</td>\n",
       "      <td>1</td>\n",
       "      <td>Emergency</td>\n",
       "      <td>InternalMedicine</td>\n",
       "      <td>81</td>\n",
       "      <td>Discharged to home</td>\n",
       "      <td>Transfer from another health care facility</td>\n",
       "      <td>6</td>\n",
       "      <td>48</td>\n",
       "      <td>2</td>\n",
       "      <td>9</td>\n",
       "      <td>569</td>\n",
       "      <td>562</td>\n",
       "      <td>455</td>\n",
       "      <td>5</td>\n",
       "      <td>NaN</td>\n",
       "      <td>NaN</td>\n",
       "      <td>No</td>\n",
       "      <td>No</td>\n",
       "      <td>[]</td>\n",
       "      <td>No</td>\n",
       "      <td>No</td>\n",
       "    </tr>\n",
       "    <tr>\n",
       "      <th>4</th>\n",
       "      <td>654194</td>\n",
       "      <td>USA</td>\n",
       "      <td>84871971</td>\n",
       "      <td>Caucasian</td>\n",
       "      <td>Female</td>\n",
       "      <td>[70-80)</td>\n",
       "      <td>?</td>\n",
       "      <td>HM</td>\n",
       "      <td>1</td>\n",
       "      <td>0</td>\n",
       "      <td>0</td>\n",
       "      <td>Elective</td>\n",
       "      <td>?</td>\n",
       "      <td>126</td>\n",
       "      <td>Discharged/transferred to home with home healt...</td>\n",
       "      <td>Physician Referral</td>\n",
       "      <td>6</td>\n",
       "      <td>47</td>\n",
       "      <td>1</td>\n",
       "      <td>15</td>\n",
       "      <td>715</td>\n",
       "      <td>599</td>\n",
       "      <td>428</td>\n",
       "      <td>9</td>\n",
       "      <td>NaN</td>\n",
       "      <td>NaN</td>\n",
       "      <td>No</td>\n",
       "      <td>No</td>\n",
       "      <td>[]</td>\n",
       "      <td>No</td>\n",
       "      <td>&gt;30 days</td>\n",
       "    </tr>\n",
       "  </tbody>\n",
       "</table>\n",
       "</div>"
      ],
      "text/plain": [
       "   encounter_id country  ...  readmitted_binary readmitted_multiclass\n",
       "0        533253     USA  ...                 No              >30 days\n",
       "1        426224     USA  ...                 No                    No\n",
       "2        634063     USA  ...                 No                    No\n",
       "3        890610     USA  ...                 No                    No\n",
       "4        654194     USA  ...                 No              >30 days\n",
       "\n",
       "[5 rows x 31 columns]"
      ]
     },
     "execution_count": 3,
     "metadata": {},
     "output_type": "execute_result"
    }
   ],
   "source": [
    "df = pd.read_csv(os.path.join('..', 'raw_data', 'train.csv'))\n",
    "df.head()"
   ]
  },
  {
   "cell_type": "markdown",
   "id": "cd4f522f-5092-42d4-9a32-dababfa3f5fa",
   "metadata": {},
   "source": [
    "# Data exploration"
   ]
  },
  {
   "cell_type": "code",
   "execution_count": 4,
   "id": "87fffb9f-3b4a-48c7-b71b-f7a5bf6cb7a2",
   "metadata": {},
   "outputs": [
    {
     "data": {
      "text/plain": [
       "(71236, 31)"
      ]
     },
     "execution_count": 4,
     "metadata": {},
     "output_type": "execute_result"
    }
   ],
   "source": [
    "df.shape"
   ]
  },
  {
   "cell_type": "code",
   "execution_count": 5,
   "id": "01109eb9-16ba-46de-95f2-4dfc432e846c",
   "metadata": {},
   "outputs": [
    {
     "data": {
      "text/plain": [
       "encounter_id                                 0\n",
       "country                                      0\n",
       "patient_id                                   0\n",
       "race                                      3554\n",
       "gender                                       0\n",
       "age                                       3557\n",
       "weight                                       0\n",
       "payer_code                                   0\n",
       "outpatient_visits_in_previous_year           0\n",
       "emergency_visits_in_previous_year            0\n",
       "inpatient_visits_in_previous_year            0\n",
       "admission_type                            3706\n",
       "medical_specialty                            0\n",
       "average_pulse_bpm                            0\n",
       "discharge_disposition                     2590\n",
       "admission_source                          4718\n",
       "length_of_stay_in_hospital                   0\n",
       "number_lab_tests                             0\n",
       "non_lab_procedures                           0\n",
       "number_of_medications                        0\n",
       "primary_diagnosis                            0\n",
       "secondary_diagnosis                          0\n",
       "additional_diagnosis                         0\n",
       "number_diagnoses                             0\n",
       "glucose_test_result                      67548\n",
       "a1c_test_result                          59320\n",
       "change_in_meds_during_hospitalization        0\n",
       "prescribed_diabetes_meds                     0\n",
       "medication                                   0\n",
       "readmitted_binary                            0\n",
       "readmitted_multiclass                        0\n",
       "dtype: int64"
      ]
     },
     "execution_count": 5,
     "metadata": {},
     "output_type": "execute_result"
    }
   ],
   "source": [
    "df.isna().sum()"
   ]
  },
  {
   "cell_type": "markdown",
   "id": "946f27a1-9e60-4cad-889c-419825b46416",
   "metadata": {},
   "source": [
    "## Categorical features"
   ]
  },
  {
   "cell_type": "code",
   "execution_count": 8,
   "id": "44115c27-29e0-455b-9be8-112553a13364",
   "metadata": {},
   "outputs": [
    {
     "data": {
      "text/plain": [
       "['country',\n",
       " 'race',\n",
       " 'gender',\n",
       " 'age',\n",
       " 'weight',\n",
       " 'payer_code',\n",
       " 'admission_type',\n",
       " 'medical_specialty',\n",
       " 'discharge_disposition',\n",
       " 'admission_source',\n",
       " 'primary_diagnosis',\n",
       " 'secondary_diagnosis',\n",
       " 'additional_diagnosis',\n",
       " 'glucose_test_result',\n",
       " 'a1c_test_result',\n",
       " 'change_in_meds_during_hospitalization',\n",
       " 'prescribed_diabetes_meds',\n",
       " 'medication',\n",
       " 'readmitted_binary',\n",
       " 'readmitted_multiclass']"
      ]
     },
     "execution_count": 8,
     "metadata": {},
     "output_type": "execute_result"
    }
   ],
   "source": [
    "cat_cols = df.select_dtypes(exclude=np.number).columns.to_list()\n",
    "cat_cols"
   ]
  },
  {
   "cell_type": "code",
   "execution_count": 9,
   "id": "febaceb5-2864-484a-83ca-49da4b1ab139",
   "metadata": {},
   "outputs": [
    {
     "data": {
      "text/plain": [
       "country                                  0.000000\n",
       "race                                     0.049891\n",
       "gender                                   0.000000\n",
       "age                                      0.049933\n",
       "weight                                   0.000000\n",
       "payer_code                               0.000000\n",
       "admission_type                           0.052024\n",
       "medical_specialty                        0.000000\n",
       "discharge_disposition                    0.036358\n",
       "admission_source                         0.066231\n",
       "primary_diagnosis                        0.000000\n",
       "secondary_diagnosis                      0.000000\n",
       "additional_diagnosis                     0.000000\n",
       "glucose_test_result                      0.948228\n",
       "a1c_test_result                          0.832725\n",
       "change_in_meds_during_hospitalization    0.000000\n",
       "prescribed_diabetes_meds                 0.000000\n",
       "medication                               0.000000\n",
       "readmitted_binary                        0.000000\n",
       "readmitted_multiclass                    0.000000\n",
       "dtype: float64"
      ]
     },
     "execution_count": 9,
     "metadata": {},
     "output_type": "execute_result"
    }
   ],
   "source": [
    "df[cat_cols].isna().sum() / df.shape[0]"
   ]
  },
  {
   "cell_type": "markdown",
   "id": "9a1d7cc2-9e7b-48a0-a6ba-5bf6da567972",
   "metadata": {},
   "source": [
    "### Country"
   ]
  },
  {
   "cell_type": "markdown",
   "id": "54d4c32a-d7af-4edb-aa4e-deae3569c4f6",
   "metadata": {},
   "source": [
    "<font color=\"red\" size=3> Only one value, drop."
   ]
  },
  {
   "cell_type": "code",
   "execution_count": 11,
   "id": "2882f810-19e9-45e3-a1d4-e37e38df6559",
   "metadata": {},
   "outputs": [
    {
     "data": {
      "text/plain": [
       "array(['USA'], dtype=object)"
      ]
     },
     "execution_count": 11,
     "metadata": {},
     "output_type": "execute_result"
    }
   ],
   "source": [
    "df.country.unique()"
   ]
  },
  {
   "cell_type": "markdown",
   "id": "a37a9925-6b33-4a77-9b7b-a03a18a5c4c7",
   "metadata": {},
   "source": [
    "### Race"
   ]
  },
  {
   "cell_type": "markdown",
   "id": "de097835-31fd-42f3-9a80-504ef2c52198",
   "metadata": {},
   "source": [
    "<font color=\"red\" size=3> Value '?' == nan; deal with nans."
   ]
  },
  {
   "cell_type": "code",
   "execution_count": 12,
   "id": "ac7c2791-a0ce-4e8c-98b6-b13f70a97ae3",
   "metadata": {},
   "outputs": [
    {
     "data": {
      "text/plain": [
       "array(['Caucasian', 'AfricanAmerican', 'Other', nan, 'Hispanic', 'Asian',\n",
       "       '?'], dtype=object)"
      ]
     },
     "execution_count": 12,
     "metadata": {},
     "output_type": "execute_result"
    }
   ],
   "source": [
    "df.race.unique()"
   ]
  },
  {
   "cell_type": "code",
   "execution_count": 15,
   "id": "94e14b95-10e7-44d9-8f42-8050bcd74a0e",
   "metadata": {},
   "outputs": [
    {
     "data": {
      "image/png": "[encoded data removed]",
      "text/plain": [
       "<Figure size 640x480 with 1 Axes>"
      ]
     },
     "metadata": {},
     "output_type": "display_data"
    }
   ],
   "source": [
    "sns.countplot(x='race', data=df, hue='readmitted_binary');"
   ]
  },
  {
   "cell_type": "markdown",
   "id": "f8eb075a-9fbe-4deb-8e26-d91287f431cd",
   "metadata": {},
   "source": [
    "### Gender"
   ]
  },
  {
   "cell_type": "markdown",
   "id": "dd6445ec-fdbd-42be-8891-815c9d048c6c",
   "metadata": {},
   "source": [
    "<font color=\"red\" size=3>Deal with 'Unknown/Invalid'"
   ]
  },
  {
   "cell_type": "code",
   "execution_count": 23,
   "id": "77313cb1-f074-4e79-af72-44f044474b31",
   "metadata": {},
   "outputs": [
    {
     "data": {
      "text/plain": [
       "array(['Female', 'Male', 'Unknown/Invalid'], dtype=object)"
      ]
     },
     "execution_count": 23,
     "metadata": {},
     "output_type": "execute_result"
    }
   ],
   "source": [
    "df.gender.unique()"
   ]
  },
  {
   "cell_type": "code",
   "execution_count": 24,
   "id": "a662d787-a9be-45e9-b487-94e431c77c1e",
   "metadata": {},
   "outputs": [
    {
     "data": {
      "image/png": "[encoded data removed]",
      "text/plain": [
       "<Figure size 640x480 with 1 Axes>"
      ]
     },
     "metadata": {},
     "output_type": "display_data"
    }
   ],
   "source": [
    "sns.countplot(x='gender', hue='readmitted_binary', data=df);"
   ]
  },
  {
   "cell_type": "code",
   "execution_count": 25,
   "id": "5d6da201-2330-4e7a-97fd-7727a69860f6",
   "metadata": {},
   "outputs": [
    {
     "data": {
      "text/plain": [
       "Female             38228\n",
       "Male               33005\n",
       "Unknown/Invalid        3\n",
       "Name: gender, dtype: int64"
      ]
     },
     "execution_count": 25,
     "metadata": {},
     "output_type": "execute_result"
    }
   ],
   "source": [
    "df.gender.value_counts()"
   ]
  },
  {
   "cell_type": "markdown",
   "id": "c23f518a-cb18-4755-ae88-56dcb9753347",
   "metadata": {},
   "source": [
    "### Age"
   ]
  },
  {
   "cell_type": "markdown",
   "id": "21afd6ce-ce1e-4565-9038-2d4c951aba97",
   "metadata": {},
   "source": [
    "<font color=\"red\" size=3>Deal with nan; turn into numeric"
   ]
  },
  {
   "cell_type": "code",
   "execution_count": 26,
   "id": "72876603-cd0e-4b1c-b5bc-dc9d4418aacd",
   "metadata": {},
   "outputs": [
    {
     "data": {
      "text/plain": [
       "array(['[70-80)', '[50-60)', '[60-70)', '[80-90)', nan, '[40-50)',\n",
       "       '[20-30)', '[30-40)', '[90-100)', '[10-20)', '[0-10)'],\n",
       "      dtype=object)"
      ]
     },
     "execution_count": 26,
     "metadata": {},
     "output_type": "execute_result"
    }
   ],
   "source": [
    "df.age.unique()"
   ]
  },
  {
   "cell_type": "code",
   "execution_count": 28,
   "id": "b6467658-9a3d-4c1e-ae73-8d8ae61bc444",
   "metadata": {},
   "outputs": [
    {
     "data": {
      "image/png": "[encoded data removed]",
      "text/plain": [
       "<Figure size 640x480 with 1 Axes>"
      ]
     },
     "metadata": {},
     "output_type": "display_data"
    }
   ],
   "source": [
    "sns.countplot(x='age', hue='readmitted_binary', data=df);"
   ]
  },
  {
   "cell_type": "markdown",
   "id": "0b3f5ec7-0d9b-4016-a052-b11b2280110a",
   "metadata": {},
   "source": [
    "### Weight"
   ]
  },
  {
   "cell_type": "markdown",
   "id": "d11f49f5-2585-4b8e-a7d5-75f51e65af60",
   "metadata": {},
   "source": [
    "<font color=\"red\" size=3>97% of \"?\", which are nan. DROP"
   ]
  },
  {
   "cell_type": "code",
   "execution_count": 29,
   "id": "9c9ec448-a4ff-494b-893b-248f0832d94e",
   "metadata": {},
   "outputs": [
    {
     "data": {
      "text/plain": [
       "array(['?', '[50-75)', '[100-125)', '[75-100)', '[125-150)', '[25-50)',\n",
       "       '>200', '[0-25)', '[150-175)', '[175-200)'], dtype=object)"
      ]
     },
     "execution_count": 29,
     "metadata": {},
     "output_type": "execute_result"
    }
   ],
   "source": [
    "df.weight.unique()"
   ]
  },
  {
   "cell_type": "code",
   "execution_count": 32,
   "id": "70e3a15c-1d81-49a4-b4bb-b9d7690bab5a",
   "metadata": {
    "scrolled": true
   },
   "outputs": [
    {
     "data": {
      "text/plain": [
       "?            0.968471\n",
       "[75-100)     0.013097\n",
       "[50-75)      0.008928\n",
       "[100-125)    0.006303\n",
       "[125-150)    0.001348\n",
       "[25-50)      0.000941\n",
       "[0-25)       0.000491\n",
       "[150-175)    0.000295\n",
       "[175-200)    0.000098\n",
       ">200         0.000028\n",
       "Name: weight, dtype: float64"
      ]
     },
     "execution_count": 32,
     "metadata": {},
     "output_type": "execute_result"
    }
   ],
   "source": [
    "df.weight.value_counts() / df.shape[0]"
   ]
  },
  {
   "cell_type": "markdown",
   "id": "db9b3429-09ba-4844-a15b-a767ad330311",
   "metadata": {},
   "source": [
    "### Payer code"
   ]
  },
  {
   "cell_type": "markdown",
   "id": "15f59ab5-1b6d-49dd-b705-8235fe3b70b1",
   "metadata": {},
   "source": [
    "<font color=\"red\" size=3>\"?\" are nan. Are they true nan, or they mean \"no insurance\"? Try both approaches."
   ]
  },
  {
   "cell_type": "code",
   "execution_count": 33,
   "id": "b59f504b-494f-44f8-86fd-d8b3dbc30e17",
   "metadata": {},
   "outputs": [
    {
     "data": {
      "text/plain": [
       "array(['?', 'MC', 'HM', 'UN', 'SP', 'SI', 'CM', 'DM', 'CP', 'MD', 'OG',\n",
       "       'BC', 'PO', 'WC', 'OT', 'MP', 'CH', 'FR'], dtype=object)"
      ]
     },
     "execution_count": 33,
     "metadata": {},
     "output_type": "execute_result"
    }
   ],
   "source": [
    "df.payer_code.unique()"
   ]
  },
  {
   "cell_type": "code",
   "execution_count": 36,
   "id": "12087c47-ce2d-4041-8eb6-8fac986055d2",
   "metadata": {},
   "outputs": [
    {
     "data": {
      "text/plain": [
       "?     0.395881\n",
       "MC    0.318420\n",
       "HM    0.060629\n",
       "SP    0.049708\n",
       "BC    0.046213\n",
       "MD    0.034870\n",
       "CP    0.024735\n",
       "UN    0.024328\n",
       "CM    0.018909\n",
       "OG    0.010234\n",
       "PO    0.005685\n",
       "DM    0.005306\n",
       "CH    0.001432\n",
       "WC    0.001390\n",
       "OT    0.000856\n",
       "MP    0.000758\n",
       "SI    0.000632\n",
       "FR    0.000014\n",
       "Name: payer_code, dtype: float64"
      ]
     },
     "execution_count": 36,
     "metadata": {},
     "output_type": "execute_result"
    }
   ],
   "source": [
    "df.payer_code.value_counts() / df.shape[0]"
   ]
  },
  {
   "cell_type": "markdown",
   "id": "b374a25f-3e98-4810-9eb7-1ddcef06d76f",
   "metadata": {},
   "source": [
    "### Admission type"
   ]
  },
  {
   "cell_type": "markdown",
   "id": "ec2bf4e4-cccb-4da2-b101-4d4fe140d917",
   "metadata": {},
   "source": [
    "<font color=\"red\" size=3>Impute nan; Discretize even more the data (get fewer categories)"
   ]
  },
  {
   "cell_type": "code",
   "execution_count": 37,
   "id": "330c6e1c-97d7-4590-88f5-25f7da02267d",
   "metadata": {},
   "outputs": [
    {
     "data": {
      "text/plain": [
       "array(['Emergency', nan, 'Elective', 'Urgent', 'Not Available', 'Newborn',\n",
       "       'Not Mapped', 'Trauma Center'], dtype=object)"
      ]
     },
     "execution_count": 37,
     "metadata": {},
     "output_type": "execute_result"
    }
   ],
   "source": [
    "df.admission_type.unique()"
   ]
  },
  {
   "cell_type": "code",
   "execution_count": 39,
   "id": "9ef1d91d-b246-4da3-8a10-2ec42e75eaf0",
   "metadata": {},
   "outputs": [
    {
     "data": {
      "image/png": "[encoded data removed]",
      "text/plain": [
       "<Figure size 640x480 with 1 Axes>"
      ]
     },
     "metadata": {},
     "output_type": "display_data"
    }
   ],
   "source": [
    "sns.countplot(x='admission_type', hue='readmitted_binary', data=df);"
   ]
  },
  {
   "cell_type": "markdown",
   "id": "f32d5660-f4d7-4bdb-b8bb-e68fb84e7bda",
   "metadata": {},
   "source": [
    "### Medical specialty"
   ]
  },
  {
   "cell_type": "markdown",
   "id": "bbc30335-9156-45f3-b235-fd2117168582",
   "metadata": {},
   "source": [
    "<font color=\"red\" size=3>\"?\" are nan; Impute nan (50%); Discretize even more or drop?"
   ]
  },
  {
   "cell_type": "code",
   "execution_count": 40,
   "id": "5f82d05e-71db-4d0c-bcb0-66a6e25e1a61",
   "metadata": {},
   "outputs": [
    {
     "data": {
      "text/plain": [
       "array(['Family/GeneralPractice', '?', 'InternalMedicine',\n",
       "       'Surgery-General', 'Radiologist', 'Emergency/Trauma', 'Hematology',\n",
       "       'Nephrology', 'Orthopedics', 'ObstetricsandGynecology',\n",
       "       'Psychiatry', 'Cardiology', 'Gastroenterology', 'Psychology',\n",
       "       'Surgery-Thoracic', 'Orthopedics-Reconstructive',\n",
       "       'Surgery-Vascular', 'PhysicianNotFound', 'Neurology',\n",
       "       'PhysicalMedicineandRehabilitation', 'Pulmonology',\n",
       "       'Hematology/Oncology', 'Oncology', 'Surgery-Neuro', 'Radiology',\n",
       "       'Urology', 'Pediatrics', 'Surgery-Cardiovascular/Thoracic',\n",
       "       'Gynecology', 'Pediatrics-Endocrinology', 'Surgery-Maxillofacial',\n",
       "       'Podiatry', 'Ophthalmology', 'Endocrinology', 'Obstetrics',\n",
       "       'Pediatrics-CriticalCare', 'Otolaryngology',\n",
       "       'Pediatrics-Neurology', 'Surgery-Cardiovascular', 'Hospitalist',\n",
       "       'Surgery-Plastic', 'Osteopath', 'Pediatrics-Pulmonology',\n",
       "       'SurgicalSpecialty', 'InfectiousDiseases', 'AllergyandImmunology',\n",
       "       'Surgeon', 'DCPTEAM', 'Anesthesiology-Pediatric',\n",
       "       'Obsterics&Gynecology-GynecologicOnco', 'Surgery-Colon&Rectal',\n",
       "       'Pathology', 'Rheumatology', 'Anesthesiology',\n",
       "       'Pediatrics-EmergencyMedicine', 'Cardiology-Pediatric',\n",
       "       'Psychiatry-Child/Adolescent', 'Dentistry', 'OutreachServices',\n",
       "       'Speech', 'Pediatrics-AllergyandImmunology', 'Surgery-Pediatric',\n",
       "       'Pediatrics-Hematology-Oncology', 'Endocrinology-Metabolism',\n",
       "       'SportsMedicine', 'Pediatrics-InfectiousDiseases', 'Proctology',\n",
       "       'Resident', 'Neurophysiology'], dtype=object)"
      ]
     },
     "execution_count": 40,
     "metadata": {},
     "output_type": "execute_result"
    }
   ],
   "source": [
    "df.medical_specialty.unique()"
   ]
  },
  {
   "cell_type": "code",
   "execution_count": 43,
   "id": "fcab3f43-febd-4b78-b107-a6900d247122",
   "metadata": {
    "scrolled": true
   },
   "outputs": [
    {
     "data": {
      "text/plain": [
       "?                                0.490230\n",
       "InternalMedicine                 0.144478\n",
       "Emergency/Trauma                 0.074667\n",
       "Family/GeneralPractice           0.073235\n",
       "Cardiology                       0.052165\n",
       "                                   ...   \n",
       "Speech                           0.000014\n",
       "SportsMedicine                   0.000014\n",
       "Pediatrics-InfectiousDiseases    0.000014\n",
       "Proctology                       0.000014\n",
       "Neurophysiology                  0.000014\n",
       "Name: medical_specialty, Length: 69, dtype: float64"
      ]
     },
     "execution_count": 43,
     "metadata": {},
     "output_type": "execute_result"
    }
   ],
   "source": [
    "df.medical_specialty.value_counts() / df.shape[0]"
   ]
  },
  {
   "cell_type": "markdown",
   "id": "9a554621-5517-45a7-8c40-019add0ea943",
   "metadata": {},
   "source": [
    "### Discharge disposition"
   ]
  },
  {
   "cell_type": "markdown",
   "id": "47b87913-d077-4db7-b105-36bfd604aa33",
   "metadata": {},
   "source": [
    "<font color=\"red\" size=3>Impute nans; Discretize even more"
   ]
  },
  {
   "cell_type": "code",
   "execution_count": 44,
   "id": "5ce2b50f-541d-48b4-b839-07aeb7a5f45a",
   "metadata": {},
   "outputs": [
    {
     "data": {
      "text/plain": [
       "array(['Discharged to home',\n",
       "       'Discharged/transferred to a federal health care facility.',\n",
       "       'Discharged/transferred to home with home health service',\n",
       "       'Discharged/transferred to SNF', 'Hospice / medical facility', nan,\n",
       "       'Discharged/transferred to another short term hospital',\n",
       "       'Discharged/transferred to ICF', 'Expired',\n",
       "       'Discharged/transferred to another type of inpatient care institution',\n",
       "       'Discharged/transferred to another rehab fac including rehab units of a hospital .',\n",
       "       'Discharged/transferred to a long term care hospital.', 'Left AMA',\n",
       "       'Hospice / home',\n",
       "       'Discharged/transferred to home under care of Home IV provider',\n",
       "       'Not Mapped',\n",
       "       'Discharged/transferred/referred to a psychiatric hospital of psychiatric distinct part unit of a hospital',\n",
       "       'Discharged/transferred within this institution to Medicare approved swing bed',\n",
       "       'Discharged/transferred to a nursing facility certified under Medicaid but not certified under Medicare.',\n",
       "       'Admitted as an inpatient to this hospital',\n",
       "       'Discharged/transferred/referred to this institution for outpatient services',\n",
       "       'Neonate discharged to another hospital for neonatal aftercare',\n",
       "       'Expired at home. Medicaid only, hospice.',\n",
       "       'Still patient or expected to return for outpatient services',\n",
       "       'Discharged/transferred/referred another institution for outpatient services',\n",
       "       'Expired in a medical facility. Medicaid only, hospice.'],\n",
       "      dtype=object)"
      ]
     },
     "execution_count": 44,
     "metadata": {},
     "output_type": "execute_result"
    }
   ],
   "source": [
    "df.discharge_disposition.unique()"
   ]
  },
  {
   "cell_type": "code",
   "execution_count": 47,
   "id": "8117719b-78bc-40ae-b718-4cc421cad83f",
   "metadata": {},
   "outputs": [
    {
     "data": {
      "text/plain": [
       "Discharged to home                                                                                           42256\n",
       "Discharged/transferred to SNF                                                                                 9780\n",
       "Discharged/transferred to home with home health service                                                       9005\n",
       "Discharged/transferred to another short term hospital                                                         1488\n",
       "Discharged/transferred to another rehab fac including rehab units of a hospital .                             1393\n",
       "Expired                                                                                                       1135\n",
       "Discharged/transferred to another type of inpatient care institution                                           822\n",
       "Not Mapped                                                                                                     679\n",
       "Discharged/transferred to ICF                                                                                  571\n",
       "Left AMA                                                                                                       421\n",
       "Discharged/transferred to a long term care hospital.                                                           280\n",
       "Hospice / medical facility                                                                                     261\n",
       "Hospice / home                                                                                                 258\n",
       "Discharged/transferred/referred to a psychiatric hospital of psychiatric distinct part unit of a hospital       98\n",
       "Discharged/transferred to home under care of Home IV provider                                                   81\n",
       "Discharged/transferred within this institution to Medicare approved swing bed                                   44\n",
       "Discharged/transferred to a nursing facility certified under Medicaid but not certified under Medicare.         32\n",
       "Admitted as an inpatient to this hospital                                                                       13\n",
       "Discharged/transferred/referred to this institution for outpatient services                                      8\n",
       "Discharged/transferred/referred another institution for outpatient services                                      7\n",
       "Expired at home. Medicaid only, hospice.                                                                         6\n",
       "Discharged/transferred to a federal health care facility.                                                        3\n",
       "Neonate discharged to another hospital for neonatal aftercare                                                    2\n",
       "Still patient or expected to return for outpatient services                                                      2\n",
       "Expired in a medical facility. Medicaid only, hospice.                                                           1\n",
       "Name: discharge_disposition, dtype: int64"
      ]
     },
     "execution_count": 47,
     "metadata": {},
     "output_type": "execute_result"
    }
   ],
   "source": [
    "df.discharge_disposition.value_counts()"
   ]
  },
  {
   "cell_type": "markdown",
   "id": "440186e7-7ecd-4976-aeeb-36b130f5e627",
   "metadata": {},
   "source": [
    "### Admission source"
   ]
  },
  {
   "cell_type": "markdown",
   "id": "7e185627-10c3-4729-bc18-7553db466a8b",
   "metadata": {},
   "source": [
    "<font color=\"red\" size=3>Impute nans; Discretize even more"
   ]
  },
  {
   "cell_type": "code",
   "execution_count": 48,
   "id": "c1336253-2ab5-419b-a84d-7774aacce136",
   "metadata": {},
   "outputs": [
    {
     "data": {
      "text/plain": [
       "array([' Emergency Room', 'Clinic Referral', nan,\n",
       "       ' Transfer from another health care facility',\n",
       "       ' Physician Referral', 'Transfer from a hospital', 'HMO Referral',\n",
       "       ' Transfer from a Skilled Nursing Facility (SNF)', ' Not Mapped',\n",
       "       ' Not Available', ' Court/Law Enforcement',\n",
       "       ' Transfer from hospital inpt/same fac reslt in a sep claim',\n",
       "       ' Transfer from critial access hospital', ' Extramural Birth',\n",
       "       'Normal Delivery', ' Transfer from Ambulatory Surgery Center',\n",
       "       ' Sick Baby'], dtype=object)"
      ]
     },
     "execution_count": 48,
     "metadata": {},
     "output_type": "execute_result"
    }
   ],
   "source": [
    "df.admission_source.unique()"
   ]
  },
  {
   "cell_type": "code",
   "execution_count": 49,
   "id": "314c806b-787b-47a1-82fb-7bedc452654d",
   "metadata": {},
   "outputs": [
    {
     "data": {
      "text/plain": [
       " Emergency Room                                               40319\n",
       " Physician Referral                                           20678\n",
       "Transfer from a hospital                                       2230\n",
       " Transfer from another health care facility                    1562\n",
       "Clinic Referral                                                 779\n",
       " Transfer from a Skilled Nursing Facility (SNF)                 595\n",
       "HMO Referral                                                    129\n",
       " Not Mapped                                                     107\n",
       " Not Available                                                   88\n",
       " Court/Law Enforcement                                           11\n",
       " Transfer from hospital inpt/same fac reslt in a sep claim        8\n",
       " Transfer from critial access hospital                            7\n",
       " Transfer from Ambulatory Surgery Center                          2\n",
       " Extramural Birth                                                 1\n",
       "Normal Delivery                                                   1\n",
       " Sick Baby                                                        1\n",
       "Name: admission_source, dtype: int64"
      ]
     },
     "execution_count": 49,
     "metadata": {},
     "output_type": "execute_result"
    }
   ],
   "source": [
    "df.admission_source.value_counts()"
   ]
  },
  {
   "cell_type": "markdown",
   "id": "2cccc365-2e14-4ec7-80d9-b28292af908a",
   "metadata": {},
   "source": [
    "### Primary, secondary, additional diagnoses"
   ]
  },
  {
   "cell_type": "markdown",
   "id": "b3f4e1a5-cb67-4c38-b866-928b59469bd3",
   "metadata": {},
   "source": [
    "<font color=\"red\" size=3>Discretize even more"
   ]
  },
  {
   "cell_type": "code",
   "execution_count": 51,
   "id": "82de78dd-79aa-40db-9e4a-086b1dcba24d",
   "metadata": {},
   "outputs": [
    {
     "data": {
      "text/plain": [
       "687"
      ]
     },
     "execution_count": 51,
     "metadata": {},
     "output_type": "execute_result"
    }
   ],
   "source": [
    "df.primary_diagnosis.nunique()"
   ]
  },
  {
   "cell_type": "code",
   "execution_count": 52,
   "id": "10ecd671-ede6-458d-a4ac-e02ec376ec2e",
   "metadata": {},
   "outputs": [
    {
     "data": {
      "text/plain": [
       "699"
      ]
     },
     "execution_count": 52,
     "metadata": {},
     "output_type": "execute_result"
    }
   ],
   "source": [
    "df.secondary_diagnosis.nunique()"
   ]
  },
  {
   "cell_type": "code",
   "execution_count": 53,
   "id": "07c75d73-83ef-4d17-a721-19cce694e066",
   "metadata": {},
   "outputs": [
    {
     "data": {
      "text/plain": [
       "747"
      ]
     },
     "execution_count": 53,
     "metadata": {},
     "output_type": "execute_result"
    }
   ],
   "source": [
    "df.additional_diagnosis.nunique()"
   ]
  },
  {
   "cell_type": "markdown",
   "id": "ecf8e972-9de0-4e7c-90ff-68cb76e4b9df",
   "metadata": {},
   "source": [
    "### Glucose test result"
   ]
  },
  {
   "cell_type": "markdown",
   "id": "53057015-4de2-4aa2-9eb7-de07ef47a475",
   "metadata": {},
   "source": [
    "<font color=\"red\" size=3>95% nan; DROP"
   ]
  },
  {
   "cell_type": "code",
   "execution_count": 55,
   "id": "e197464b-38b6-4099-96fb-f0908516bb32",
   "metadata": {},
   "outputs": [
    {
     "data": {
      "text/plain": [
       "array([nan, '>300', 'Norm', '>200'], dtype=object)"
      ]
     },
     "execution_count": 55,
     "metadata": {},
     "output_type": "execute_result"
    }
   ],
   "source": [
    "df.glucose_test_result.unique()"
   ]
  },
  {
   "cell_type": "markdown",
   "id": "bbaaed56-f7a8-48a6-8b5a-79572bdbd53f",
   "metadata": {},
   "source": [
    "### a1c test result"
   ]
  },
  {
   "cell_type": "markdown",
   "id": "649db6c8-99f1-40a6-a90a-44307fd8fc21",
   "metadata": {},
   "source": [
    "<font color=\"red\" size=3>83% nan; DROP"
   ]
  },
  {
   "cell_type": "code",
   "execution_count": 56,
   "id": "2001465e-d14d-42d1-b23b-9e4027d55cda",
   "metadata": {},
   "outputs": [
    {
     "data": {
      "text/plain": [
       "array([nan, 'Norm', '>8', '>7'], dtype=object)"
      ]
     },
     "execution_count": 56,
     "metadata": {},
     "output_type": "execute_result"
    }
   ],
   "source": [
    "df.a1c_test_result.unique()"
   ]
  },
  {
   "cell_type": "markdown",
   "id": "e2c4fc3b-ef47-4773-9a9b-542d0653ff4e",
   "metadata": {},
   "source": [
    "### Change in meds during hospitalization"
   ]
  },
  {
   "cell_type": "markdown",
   "id": "df986533-1d85-4566-8b41-949ff5a68e24",
   "metadata": {},
   "source": [
    "<font color=\"red\" size=3>Clean"
   ]
  },
  {
   "cell_type": "code",
   "execution_count": 58,
   "id": "d8a3cd94-1f51-463d-ac00-bfad50f3a443",
   "metadata": {},
   "outputs": [
    {
     "data": {
      "text/plain": [
       "array(['No', 'Ch'], dtype=object)"
      ]
     },
     "execution_count": 58,
     "metadata": {},
     "output_type": "execute_result"
    }
   ],
   "source": [
    "df.change_in_meds_during_hospitalization.unique()"
   ]
  },
  {
   "cell_type": "code",
   "execution_count": 59,
   "id": "65cc1ec4-0597-4977-92b3-d6e33fd1a181",
   "metadata": {},
   "outputs": [
    {
     "data": {
      "image/png": "[encoded data removed]",
      "text/plain": [
       "<Figure size 640x480 with 1 Axes>"
      ]
     },
     "metadata": {},
     "output_type": "display_data"
    }
   ],
   "source": [
    "sns.countplot(x='change_in_meds_during_hospitalization', hue='readmitted_binary', data=df);"
   ]
  },
  {
   "cell_type": "markdown",
   "id": "c38f0862-db27-41a4-ac2b-31966a957cc7",
   "metadata": {},
   "source": [
    "### Prescribed diabetes meds"
   ]
  },
  {
   "cell_type": "markdown",
   "id": "e58673b7-ffc6-4563-9a8a-51804fa1d9ea",
   "metadata": {},
   "source": [
    "<font color=\"red\" size=3>Clean"
   ]
  },
  {
   "cell_type": "code",
   "execution_count": 60,
   "id": "bbb93462-75d9-42c9-b339-ff3c06559942",
   "metadata": {},
   "outputs": [
    {
     "data": {
      "text/plain": [
       "array(['No', 'Yes'], dtype=object)"
      ]
     },
     "execution_count": 60,
     "metadata": {},
     "output_type": "execute_result"
    }
   ],
   "source": [
    "df.prescribed_diabetes_meds.unique()"
   ]
  },
  {
   "cell_type": "code",
   "execution_count": 61,
   "id": "23becada-3ad9-45c8-bbde-6de83bf5fe43",
   "metadata": {},
   "outputs": [
    {
     "data": {
      "image/png": "[encoded data removed]",
      "text/plain": [
       "<Figure size 640x480 with 1 Axes>"
      ]
     },
     "metadata": {},
     "output_type": "display_data"
    }
   ],
   "source": [
    "sns.countplot(x='prescribed_diabetes_meds', hue='readmitted_binary', data=df);"
   ]
  },
  {
   "cell_type": "markdown",
   "id": "d79a7eee-e399-44ad-9097-87918b9b8774",
   "metadata": {},
   "source": [
    "### Medication"
   ]
  },
  {
   "cell_type": "markdown",
   "id": "be60f00d-3358-480d-a668-ab7b5591bae7",
   "metadata": {},
   "source": [
    "<font color=\"red\" size=3>Extract medication names from list."
   ]
  },
  {
   "cell_type": "code",
   "execution_count": 63,
   "id": "24e8f9ec-4a81-4327-a9a6-6d1f4ff25e62",
   "metadata": {},
   "outputs": [
    {
     "data": {
      "text/plain": [
       "303"
      ]
     },
     "execution_count": 63,
     "metadata": {},
     "output_type": "execute_result"
    }
   ],
   "source": [
    "df.medication.nunique()"
   ]
  },
  {
   "cell_type": "code",
   "execution_count": 68,
   "id": "54b3977d-a33a-4298-8b92-93b9960fa368",
   "metadata": {},
   "outputs": [
    {
     "name": "stdout",
     "output_type": "stream",
     "text": [
      "[]\n",
      "['insulin']\n",
      "['glimepiride', 'insulin']\n",
      "[]\n",
      "[]\n"
     ]
    }
   ],
   "source": [
    "for n in range(5):\n",
    "    print(df.medication[n])"
   ]
  },
  {
   "cell_type": "markdown",
   "id": "6b5f0e09-a0f5-4f94-af05-4e4c578749e4",
   "metadata": {},
   "source": [
    "## Numerical features"
   ]
  },
  {
   "cell_type": "code",
   "execution_count": 69,
   "id": "ffd964ca-d074-4476-aac8-531f6f079ec1",
   "metadata": {},
   "outputs": [
    {
     "data": {
      "text/plain": [
       "['encounter_id',\n",
       " 'patient_id',\n",
       " 'outpatient_visits_in_previous_year',\n",
       " 'emergency_visits_in_previous_year',\n",
       " 'inpatient_visits_in_previous_year',\n",
       " 'average_pulse_bpm',\n",
       " 'length_of_stay_in_hospital',\n",
       " 'number_lab_tests',\n",
       " 'non_lab_procedures',\n",
       " 'number_of_medications',\n",
       " 'number_diagnoses']"
      ]
     },
     "execution_count": 69,
     "metadata": {},
     "output_type": "execute_result"
    }
   ],
   "source": [
    "num_cols = df.select_dtypes(include=np.number).columns.to_list()\n",
    "num_cols"
   ]
  },
  {
   "cell_type": "code",
   "execution_count": 71,
   "id": "cf7ba82b-a7e7-4b2c-a45d-bb0e076e3b17",
   "metadata": {},
   "outputs": [
    {
     "data": {
      "text/plain": [
       "encounter_id                          0.0\n",
       "patient_id                            0.0\n",
       "outpatient_visits_in_previous_year    0.0\n",
       "emergency_visits_in_previous_year     0.0\n",
       "inpatient_visits_in_previous_year     0.0\n",
       "average_pulse_bpm                     0.0\n",
       "length_of_stay_in_hospital            0.0\n",
       "number_lab_tests                      0.0\n",
       "non_lab_procedures                    0.0\n",
       "number_of_medications                 0.0\n",
       "number_diagnoses                      0.0\n",
       "dtype: float64"
      ]
     },
     "execution_count": 71,
     "metadata": {},
     "output_type": "execute_result"
    }
   ],
   "source": [
    "df[num_cols].isna().sum() / df.shape[0]"
   ]
  },
  {
   "cell_type": "code",
   "execution_count": 72,
   "id": "af904565-5db0-4907-8b4c-84c57cb71a78",
   "metadata": {},
   "outputs": [
    {
     "data": {
      "text/html": [
       "<div>\n",
       "<style scoped>\n",
       "    .dataframe tbody tr th:only-of-type {\n",
       "        vertical-align: middle;\n",
       "    }\n",
       "\n",
       "    .dataframe tbody tr th {\n",
       "        vertical-align: top;\n",
       "    }\n",
       "\n",
       "    .dataframe thead th {\n",
       "        text-align: right;\n",
       "    }\n",
       "</style>\n",
       "<table border=\"1\" class=\"dataframe\">\n",
       "  <thead>\n",
       "    <tr style=\"text-align: right;\">\n",
       "      <th></th>\n",
       "      <th>count</th>\n",
       "      <th>mean</th>\n",
       "      <th>std</th>\n",
       "      <th>min</th>\n",
       "      <th>25%</th>\n",
       "      <th>50%</th>\n",
       "      <th>75%</th>\n",
       "      <th>max</th>\n",
       "    </tr>\n",
       "  </thead>\n",
       "  <tbody>\n",
       "    <tr>\n",
       "      <th>encounter_id</th>\n",
       "      <td>71236.0</td>\n",
       "      <td>5.487986e+05</td>\n",
       "      <td>2.597047e+05</td>\n",
       "      <td>100000.0</td>\n",
       "      <td>323118.50</td>\n",
       "      <td>548370.0</td>\n",
       "      <td>774058.50</td>\n",
       "      <td>999980.0</td>\n",
       "    </tr>\n",
       "    <tr>\n",
       "      <th>patient_id</th>\n",
       "      <td>71236.0</td>\n",
       "      <td>5.430228e+07</td>\n",
       "      <td>3.879585e+07</td>\n",
       "      <td>135.0</td>\n",
       "      <td>23396510.25</td>\n",
       "      <td>45305631.0</td>\n",
       "      <td>87558374.25</td>\n",
       "      <td>189502619.0</td>\n",
       "    </tr>\n",
       "    <tr>\n",
       "      <th>outpatient_visits_in_previous_year</th>\n",
       "      <td>71236.0</td>\n",
       "      <td>3.695884e-01</td>\n",
       "      <td>1.287469e+00</td>\n",
       "      <td>0.0</td>\n",
       "      <td>0.00</td>\n",
       "      <td>0.0</td>\n",
       "      <td>0.00</td>\n",
       "      <td>42.0</td>\n",
       "    </tr>\n",
       "    <tr>\n",
       "      <th>emergency_visits_in_previous_year</th>\n",
       "      <td>71236.0</td>\n",
       "      <td>1.962491e-01</td>\n",
       "      <td>9.108537e-01</td>\n",
       "      <td>0.0</td>\n",
       "      <td>0.00</td>\n",
       "      <td>0.0</td>\n",
       "      <td>0.00</td>\n",
       "      <td>76.0</td>\n",
       "    </tr>\n",
       "    <tr>\n",
       "      <th>inpatient_visits_in_previous_year</th>\n",
       "      <td>71236.0</td>\n",
       "      <td>6.401539e-01</td>\n",
       "      <td>1.267271e+00</td>\n",
       "      <td>0.0</td>\n",
       "      <td>0.00</td>\n",
       "      <td>0.0</td>\n",
       "      <td>1.00</td>\n",
       "      <td>21.0</td>\n",
       "    </tr>\n",
       "    <tr>\n",
       "      <th>average_pulse_bpm</th>\n",
       "      <td>71236.0</td>\n",
       "      <td>9.961122e+01</td>\n",
       "      <td>2.304052e+01</td>\n",
       "      <td>60.0</td>\n",
       "      <td>80.00</td>\n",
       "      <td>100.0</td>\n",
       "      <td>119.00</td>\n",
       "      <td>139.0</td>\n",
       "    </tr>\n",
       "    <tr>\n",
       "      <th>length_of_stay_in_hospital</th>\n",
       "      <td>71236.0</td>\n",
       "      <td>4.391024e+00</td>\n",
       "      <td>2.988739e+00</td>\n",
       "      <td>1.0</td>\n",
       "      <td>2.00</td>\n",
       "      <td>4.0</td>\n",
       "      <td>6.00</td>\n",
       "      <td>14.0</td>\n",
       "    </tr>\n",
       "    <tr>\n",
       "      <th>number_lab_tests</th>\n",
       "      <td>71236.0</td>\n",
       "      <td>4.309565e+01</td>\n",
       "      <td>1.964292e+01</td>\n",
       "      <td>1.0</td>\n",
       "      <td>31.00</td>\n",
       "      <td>44.0</td>\n",
       "      <td>57.00</td>\n",
       "      <td>121.0</td>\n",
       "    </tr>\n",
       "    <tr>\n",
       "      <th>non_lab_procedures</th>\n",
       "      <td>71236.0</td>\n",
       "      <td>1.340923e+00</td>\n",
       "      <td>1.706664e+00</td>\n",
       "      <td>0.0</td>\n",
       "      <td>0.00</td>\n",
       "      <td>1.0</td>\n",
       "      <td>2.00</td>\n",
       "      <td>6.0</td>\n",
       "    </tr>\n",
       "    <tr>\n",
       "      <th>number_of_medications</th>\n",
       "      <td>71236.0</td>\n",
       "      <td>1.599545e+01</td>\n",
       "      <td>8.122347e+00</td>\n",
       "      <td>1.0</td>\n",
       "      <td>10.00</td>\n",
       "      <td>15.0</td>\n",
       "      <td>20.00</td>\n",
       "      <td>75.0</td>\n",
       "    </tr>\n",
       "    <tr>\n",
       "      <th>number_diagnoses</th>\n",
       "      <td>71236.0</td>\n",
       "      <td>7.421023e+00</td>\n",
       "      <td>1.937809e+00</td>\n",
       "      <td>1.0</td>\n",
       "      <td>6.00</td>\n",
       "      <td>8.0</td>\n",
       "      <td>9.00</td>\n",
       "      <td>16.0</td>\n",
       "    </tr>\n",
       "  </tbody>\n",
       "</table>\n",
       "</div>"
      ],
      "text/plain": [
       "                                      count  ...          max\n",
       "encounter_id                        71236.0  ...     999980.0\n",
       "patient_id                          71236.0  ...  189502619.0\n",
       "outpatient_visits_in_previous_year  71236.0  ...         42.0\n",
       "emergency_visits_in_previous_year   71236.0  ...         76.0\n",
       "inpatient_visits_in_previous_year   71236.0  ...         21.0\n",
       "average_pulse_bpm                   71236.0  ...        139.0\n",
       "length_of_stay_in_hospital          71236.0  ...         14.0\n",
       "number_lab_tests                    71236.0  ...        121.0\n",
       "non_lab_procedures                  71236.0  ...          6.0\n",
       "number_of_medications               71236.0  ...         75.0\n",
       "number_diagnoses                    71236.0  ...         16.0\n",
       "\n",
       "[11 rows x 8 columns]"
      ]
     },
     "execution_count": 72,
     "metadata": {},
     "output_type": "execute_result"
    }
   ],
   "source": [
    "df[num_cols].describe().T"
   ]
  },
  {
   "cell_type": "markdown",
   "id": "05800e68-3e5d-4eca-81e4-c5ff0444ec71",
   "metadata": {},
   "source": [
    "### Outpatient, inpatient, emergency visits in previous year"
   ]
  },
  {
   "cell_type": "markdown",
   "id": "2d9b06c1-a984-45dd-9d51-9e8e6a205301",
   "metadata": {},
   "source": [
    "<font color=\"red\" size=3>All 3 have similar distrubutions. Very skewed, long right tail. Maybe normalize somehow? Or engineer into something else."
   ]
  },
  {
   "cell_type": "code",
   "execution_count": 83,
   "id": "c7f0030d-c3ed-4d0f-a6e7-15b331ec89dd",
   "metadata": {},
   "outputs": [
    {
     "data": {
      "image/png": "[encoded data removed]",
      "text/plain": [
       "<Figure size 640x480 with 1 Axes>"
      ]
     },
     "metadata": {},
     "output_type": "display_data"
    }
   ],
   "source": [
    "sns.histplot(x='outpatient_visits_in_previous_year', data=df[df.outpatient_visits_in_previous_year>0]);"
   ]
  },
  {
   "cell_type": "code",
   "execution_count": 84,
   "id": "90e46334-1955-4c3e-af44-086df1c806f8",
   "metadata": {},
   "outputs": [
    {
     "data": {
      "image/png": "[encoded data removed]",
      "text/plain": [
       "<Figure size 640x480 with 1 Axes>"
      ]
     },
     "metadata": {},
     "output_type": "display_data"
    }
   ],
   "source": [
    "sns.histplot(x='inpatient_visits_in_previous_year', data=df[df.outpatient_visits_in_previous_year>0]);"
   ]
  },
  {
   "cell_type": "code",
   "execution_count": 85,
   "id": "a22c12ef-87f3-402d-93c1-efda97fa5f9c",
   "metadata": {},
   "outputs": [
    {
     "data": {
      "image/png": "[encoded data removed]",
      "text/plain": [
       "<Figure size 640x480 with 1 Axes>"
      ]
     },
     "metadata": {},
     "output_type": "display_data"
    }
   ],
   "source": [
    "sns.histplot(x='emergency_visits_in_previous_year', data=df[df.outpatient_visits_in_previous_year>0]);"
   ]
  },
  {
   "cell_type": "markdown",
   "id": "42a56fe6-2e97-4e52-929a-24e7e47625f6",
   "metadata": {},
   "source": [
    "### Average pulse bpm"
   ]
  },
  {
   "cell_type": "markdown",
   "id": "ae858af2-4c84-400c-b272-675fbdfeae2e",
   "metadata": {},
   "source": [
    "<font color=\"red\" size=3>Clean"
   ]
  },
  {
   "cell_type": "code",
   "execution_count": 96,
   "id": "e2f9396f-df6f-4f0d-82b3-ea5cd4ec33c7",
   "metadata": {},
   "outputs": [
    {
     "data": {
      "image/png": "[encoded data removed]",
      "text/plain": [
       "<Figure size 640x480 with 1 Axes>"
      ]
     },
     "metadata": {},
     "output_type": "display_data"
    }
   ],
   "source": [
    "sns.histplot(x='average_pulse_bpm', data=df);"
   ]
  },
  {
   "cell_type": "markdown",
   "id": "8afd4773-8ddc-43b8-a192-f6dea1857956",
   "metadata": {},
   "source": [
    "### Length of stay in hospital"
   ]
  },
  {
   "cell_type": "markdown",
   "id": "9df322dd-c678-41a2-84c7-dd13df260755",
   "metadata": {},
   "source": [
    "<font color=\"red\" size=3>Outliers > 13, by IQR definition"
   ]
  },
  {
   "cell_type": "code",
   "execution_count": 98,
   "id": "66380228-f9e0-4c7a-9d5f-d0c82623cf42",
   "metadata": {},
   "outputs": [
    {
     "data": {
      "image/png": "[encoded data removed]",
      "text/plain": [
       "<Figure size 640x480 with 1 Axes>"
      ]
     },
     "metadata": {},
     "output_type": "display_data"
    }
   ],
   "source": [
    "sns.histplot(x='length_of_stay_in_hospital', data=df);"
   ]
  },
  {
   "cell_type": "code",
   "execution_count": 99,
   "id": "47c99f9d-27e7-42c2-b632-8099a9211fe8",
   "metadata": {},
   "outputs": [
    {
     "data": {
      "image/png": "[encoded data removed]",
      "text/plain": [
       "<Figure size 640x480 with 1 Axes>"
      ]
     },
     "metadata": {},
     "output_type": "display_data"
    }
   ],
   "source": [
    "sns.boxplot(x='length_of_stay_in_hospital', data=df);"
   ]
  },
  {
   "cell_type": "markdown",
   "id": "17ec85e7-06d6-4dab-8274-a225869a1ffe",
   "metadata": {},
   "source": [
    "### Number lab tests"
   ]
  },
  {
   "cell_type": "markdown",
   "id": "e47e5285-134c-49ef-ba34-18d7214a9e00",
   "metadata": {},
   "source": [
    "<font color=\"red\" size=3>Outliers > 100"
   ]
  },
  {
   "cell_type": "code",
   "execution_count": 100,
   "id": "859d20ea-976b-4fd4-b931-f1a606e48929",
   "metadata": {},
   "outputs": [
    {
     "data": {
      "image/png": "[encoded data removed]",
      "text/plain": [
       "<Figure size 640x480 with 1 Axes>"
      ]
     },
     "metadata": {},
     "output_type": "display_data"
    }
   ],
   "source": [
    "sns.histplot(x='number_lab_tests', data=df);"
   ]
  },
  {
   "cell_type": "code",
   "execution_count": 101,
   "id": "4bd33b3f-2d89-4305-ab50-9170be9bd89f",
   "metadata": {},
   "outputs": [
    {
     "data": {
      "image/png": "[encoded data removed]",
      "text/plain": [
       "<Figure size 640x480 with 1 Axes>"
      ]
     },
     "metadata": {},
     "output_type": "display_data"
    }
   ],
   "source": [
    "sns.boxplot(x='number_lab_tests', data=df);"
   ]
  },
  {
   "cell_type": "markdown",
   "id": "1f3e5a46-add6-4cc8-ad7d-37ddc6d0fde7",
   "metadata": {},
   "source": [
    "### Non lab procedures"
   ]
  },
  {
   "cell_type": "markdown",
   "id": "0db4f850-e645-4cb7-bfb1-eea297cdbae9",
   "metadata": {},
   "source": [
    "<font color=\"red\" size=3>Clean; 6 could be outliers, but there are more than 5."
   ]
  },
  {
   "cell_type": "code",
   "execution_count": 102,
   "id": "e42ed5b0-9eb5-4e12-a2aa-9759aece9fcc",
   "metadata": {},
   "outputs": [
    {
     "data": {
      "image/png": "[encoded data removed]",
      "text/plain": [
       "<Figure size 640x480 with 1 Axes>"
      ]
     },
     "metadata": {},
     "output_type": "display_data"
    }
   ],
   "source": [
    "sns.histplot(x='non_lab_procedures', data=df);"
   ]
  },
  {
   "cell_type": "code",
   "execution_count": 103,
   "id": "9fc05526-afe9-49fa-b27d-2ad97de1ee33",
   "metadata": {},
   "outputs": [
    {
     "data": {
      "image/png": "[encoded data removed]",
      "text/plain": [
       "<Figure size 640x480 with 1 Axes>"
      ]
     },
     "metadata": {},
     "output_type": "display_data"
    }
   ],
   "source": [
    "sns.boxplot(x='non_lab_procedures', data=df);"
   ]
  },
  {
   "cell_type": "code",
   "execution_count": 110,
   "id": "4a9c06cc-e269-47c9-9297-78629605adc3",
   "metadata": {},
   "outputs": [
    {
     "data": {
      "text/plain": [
       "0    0.458083\n",
       "1    0.204012\n",
       "2    0.124881\n",
       "3    0.092846\n",
       "4    0.041103\n",
       "5    0.030252\n",
       "6    0.048824\n",
       "Name: non_lab_procedures, dtype: float64"
      ]
     },
     "execution_count": 110,
     "metadata": {},
     "output_type": "execute_result"
    }
   ],
   "source": [
    "df.non_lab_procedures.value_counts().sort_index() / df.shape[0]"
   ]
  },
  {
   "cell_type": "markdown",
   "id": "5ab1ceff-f4b4-407a-9bbd-50a7abf44d20",
   "metadata": {},
   "source": [
    "### Number of medications"
   ]
  },
  {
   "cell_type": "markdown",
   "id": "e2d0668e-d2bb-468f-b1f7-62f2cceeb2ec",
   "metadata": {},
   "source": [
    "<font color=\"red\" size=3>Outliers > 50"
   ]
  },
  {
   "cell_type": "code",
   "execution_count": 111,
   "id": "57aab1ed-1609-4049-9a77-71ded02d8289",
   "metadata": {},
   "outputs": [
    {
     "data": {
      "image/png": "[encoded data removed]",
      "text/plain": [
       "<Figure size 640x480 with 1 Axes>"
      ]
     },
     "metadata": {},
     "output_type": "display_data"
    }
   ],
   "source": [
    "sns.histplot(x='number_of_medications', data=df);"
   ]
  },
  {
   "cell_type": "code",
   "execution_count": 113,
   "id": "09da9f9a-bcad-4e20-ba8e-f9f3807e5b11",
   "metadata": {},
   "outputs": [
    {
     "data": {
      "image/png": "[encoded data removed]",
      "text/plain": [
       "<Figure size 640x480 with 1 Axes>"
      ]
     },
     "metadata": {},
     "output_type": "display_data"
    }
   ],
   "source": [
    "sns.boxplot(x='number_of_medications', data=df);"
   ]
  },
  {
   "cell_type": "markdown",
   "id": "d2063264-f2b6-4b81-b50a-ee88440f2350",
   "metadata": {},
   "source": [
    "### Number diagnoses"
   ]
  },
  {
   "cell_type": "markdown",
   "id": "29523d49-ed48-4d05-97c7-a44bf9422f57",
   "metadata": {},
   "source": [
    "<font color=\"red\" size=3>Outliers > 9. There's a clear threshold on 9"
   ]
  },
  {
   "cell_type": "code",
   "execution_count": 115,
   "id": "4b75c817-94e9-466e-9e96-3bb3ffb3821a",
   "metadata": {},
   "outputs": [
    {
     "data": {
      "image/png": "[encoded data removed]",
      "text/plain": [
       "<Figure size 640x480 with 1 Axes>"
      ]
     },
     "metadata": {},
     "output_type": "display_data"
    }
   ],
   "source": [
    "sns.histplot(x='number_diagnoses', data=df);"
   ]
  },
  {
   "cell_type": "code",
   "execution_count": 116,
   "id": "3b4da473-ca8e-45a7-b0f5-f5e6951e02cf",
   "metadata": {},
   "outputs": [
    {
     "data": {
      "image/png": "[encoded data removed]",
      "text/plain": [
       "<Figure size 640x480 with 1 Axes>"
      ]
     },
     "metadata": {},
     "output_type": "display_data"
    }
   ],
   "source": [
    "sns.boxplot(x='number_diagnoses', data=df);"
   ]
  },
  {
   "cell_type": "markdown",
   "id": "a1d1e886-6bb2-4138-a4e8-b4e2a7b423d2",
   "metadata": {},
   "source": [
    "# Preprocess"
   ]
  },
  {
   "cell_type": "markdown",
   "id": "63f0afe8-15f3-46de-8f87-3d9ba55fb883",
   "metadata": {},
   "source": [
    "## Outlier removal"
   ]
  },
  {
   "cell_type": "markdown",
   "id": "c3749443-bf58-4f34-a211-7db5781d8f71",
   "metadata": {},
   "source": [
    "<font color=\"red\" size=3>97% of original data kept after outlier removal."
   ]
  },
  {
   "cell_type": "code",
   "execution_count": 123,
   "id": "34475c9b-ecff-41e2-81ae-a8bf641913d6",
   "metadata": {},
   "outputs": [
    {
     "data": {
      "text/plain": [
       "(69250, 31)"
      ]
     },
     "execution_count": 123,
     "metadata": {},
     "output_type": "execute_result"
    }
   ],
   "source": [
    "filters = (df.length_of_stay_in_hospital < 13) & \\\n",
    "          (df.number_lab_tests < 100) & \\\n",
    "          (df.number_of_medications < 50) & \\\n",
    "          (df.number_diagnoses <=9)\n",
    "\n",
    "df[filters].shape"
   ]
  },
  {
   "cell_type": "code",
   "execution_count": 124,
   "id": "43e5cb0f-5179-48c1-b134-aee821262801",
   "metadata": {},
   "outputs": [
    {
     "data": {
      "text/plain": [
       "0.9721208377786512"
      ]
     },
     "execution_count": 124,
     "metadata": {},
     "output_type": "execute_result"
    }
   ],
   "source": [
    "df[filters].shape[0] / df.shape[0]"
   ]
  },
  {
   "cell_type": "code",
   "execution_count": 126,
   "id": "9355bdbc-4533-4318-a37d-a3b5348ae27e",
   "metadata": {},
   "outputs": [],
   "source": [
    "df[filters].to_csv(os.path.join('..', 'clean_data', 'outliers.csv')) # Save to use later"
   ]
  },
  {
   "cell_type": "markdown",
   "id": "b15395aa-5221-4643-a147-73d5f06ae7b8",
   "metadata": {},
   "source": [
    "## Preprocessing"
   ]
  },
  {
   "cell_type": "markdown",
   "id": "cf139da2-55ab-46c2-aeee-42058dd72ee1",
   "metadata": {},
   "source": [
    "In this section, the whole preprocessing and feature engineering was summarized into a CustomCleaner class, in a separated utils.py module, taking advantage of the sklearn.base classes \"TransformerMixin\" and \"BaseEstimator\"."
   ]
  },
  {
   "cell_type": "markdown",
   "id": "e0de9b07-9ad8-4f37-8c7c-363117ec2827",
   "metadata": {},
   "source": [
    "This way, our custom class has access to .fit and .transform methods, ensuring that whatever transformation we apply on the training set will be replicated in the test set and that any change in the transformations or new features addition can be easily done in an isolated way."
   ]
  },
  {
   "cell_type": "markdown",
   "id": "f3cf23f5-0a10-4dc5-a260-897899eb53d9",
   "metadata": {},
   "source": [
    "The specifics of the transformations are documented in the CustomCleaner docstring."
   ]
  },
  {
   "cell_type": "code",
   "execution_count": 128,
   "id": "0d72f53e-1503-42a5-8d8e-d698b3d89d0e",
   "metadata": {},
   "outputs": [
    {
     "name": "stdout",
     "output_type": "stream",
     "text": [
      "\n",
      "    Custom class to apply transformations to the dataset and creates new features. \n",
      "    The following transformations are performed:\n",
      "        - All \"?\" values are mapped as np.nan\n",
      "        - medications: is parsed and split into a dummy for each unique medication\n",
      "        - age: is transformed from categorical to numerical, using the middle point of the category. (ie,[0-10) becomes 5)\n",
      "        - gender: 'Unknown/Invalid' values are mapped as np.nan\n",
      "        - discharge_disposition: reduces all the categories to the following ones:\n",
      "            * Home;\n",
      "            * Home with medical care;\n",
      "            * Expired;\n",
      "            * Healthcare facility;\n",
      "            * Unknown;\n",
      "            * Other\n",
      "        - admission_source: reduces all the categories to the following ones:\n",
      "            * Emergency room;\n",
      "            * Transfered;\n",
      "            * Referral;\n",
      "            * Unknown admission;\n",
      "            * Other\n",
      "        - payer_code: assumes np.nan means \"no insurance\", mapping False to np.nan or True otherwise\n",
      "        - admission_type: reduces all the categories to the following ones:\n",
      "            * Emergency;\n",
      "            * Elective;\n",
      "            * Urgent;\n",
      "            * Other\n",
      "        - medical_specialty: reduces all the categories to the following ones:\n",
      "            * Allergy and immunology;\n",
      "            * Anesthesiology;\n",
      "            * Diagnostic radiology;\n",
      "            * Emergency medicine;\n",
      "            * Internal medicine;\n",
      "            * Neurology;\n",
      "            * Obstetrics and gynecology;\n",
      "            * Ophthalmology;\n",
      "            * Pathology;\n",
      "            * Pediatrics;\n",
      "            * Physical medicine and rehabilitation;\n",
      "            * Psychiatry;\n",
      "            * Radiation oncology;\n",
      "            * Surgery;\n",
      "            * Oncology;\n",
      "            * Other\n",
      "        - primary_diagnosis, secondary_diagnosis, additional_diagnosis: uses the given ICD-9 codes to map into the following categories:\n",
      "            * Circulatory;\n",
      "            * Respiratory;\n",
      "            * Gastrointestinal;\n",
      "            * Diabetes;\n",
      "            * Injury;\n",
      "            * Musculoskeletical;\n",
      "            * Genitourinary;\n",
      "            * Neoplasms;\n",
      "            * Other\n",
      "    The following features are created:\n",
      "        - several medications: for each unique medication in medications column, a dummy feature is created\n",
      "        - number_diab_meds: count of the dummy medications columns along same observation\n",
      "        - number_visits_per_patient: count of total times the same patient appeared in the dataset\n",
      "        - n_medication_per_day: average of number of medications the patient took per day in hospital\n",
      "        - n_lab_tests_per_day: average of number of lab tests the patient had per day in hospital\n",
      "        - prop_inpatient, prop_outpatient, prop_emergency: proportions of each type of visit to the total number of visits \n",
      "    \n"
     ]
    }
   ],
   "source": [
    "cleaner = CustomCleaner()\n",
    "print(cleaner.__doc__)"
   ]
  },
  {
   "cell_type": "code",
   "execution_count": 140,
   "id": "d1868109-a96d-4630-922c-a51e1785396e",
   "metadata": {},
   "outputs": [
    {
     "data": {
      "text/html": [
       "<div>\n",
       "<style scoped>\n",
       "    .dataframe tbody tr th:only-of-type {\n",
       "        vertical-align: middle;\n",
       "    }\n",
       "\n",
       "    .dataframe tbody tr th {\n",
       "        vertical-align: top;\n",
       "    }\n",
       "\n",
       "    .dataframe thead th {\n",
       "        text-align: right;\n",
       "    }\n",
       "</style>\n",
       "<table border=\"1\" class=\"dataframe\">\n",
       "  <thead>\n",
       "    <tr style=\"text-align: right;\">\n",
       "      <th></th>\n",
       "      <th>encounter_id</th>\n",
       "      <th>country</th>\n",
       "      <th>patient_id</th>\n",
       "      <th>race</th>\n",
       "      <th>gender</th>\n",
       "      <th>age</th>\n",
       "      <th>weight</th>\n",
       "      <th>payer_code</th>\n",
       "      <th>outpatient_visits_in_previous_year</th>\n",
       "      <th>emergency_visits_in_previous_year</th>\n",
       "      <th>inpatient_visits_in_previous_year</th>\n",
       "      <th>admission_type</th>\n",
       "      <th>medical_specialty</th>\n",
       "      <th>average_pulse_bpm</th>\n",
       "      <th>discharge_disposition</th>\n",
       "      <th>admission_source</th>\n",
       "      <th>length_of_stay_in_hospital</th>\n",
       "      <th>number_lab_tests</th>\n",
       "      <th>non_lab_procedures</th>\n",
       "      <th>number_of_medications</th>\n",
       "      <th>primary_diagnosis</th>\n",
       "      <th>secondary_diagnosis</th>\n",
       "      <th>additional_diagnosis</th>\n",
       "      <th>number_diagnoses</th>\n",
       "      <th>glucose_test_result</th>\n",
       "      <th>a1c_test_result</th>\n",
       "      <th>change_in_meds_during_hospitalization</th>\n",
       "      <th>prescribed_diabetes_meds</th>\n",
       "      <th>medication</th>\n",
       "      <th>readmitted_binary</th>\n",
       "      <th>readmitted_multiclass</th>\n",
       "    </tr>\n",
       "  </thead>\n",
       "  <tbody>\n",
       "    <tr>\n",
       "      <th>0</th>\n",
       "      <td>533253</td>\n",
       "      <td>USA</td>\n",
       "      <td>70110</td>\n",
       "      <td>Caucasian</td>\n",
       "      <td>Female</td>\n",
       "      <td>[70-80)</td>\n",
       "      <td>?</td>\n",
       "      <td>?</td>\n",
       "      <td>0</td>\n",
       "      <td>0</td>\n",
       "      <td>2</td>\n",
       "      <td>Emergency</td>\n",
       "      <td>Family/GeneralPractice</td>\n",
       "      <td>127</td>\n",
       "      <td>Discharged to home</td>\n",
       "      <td>Emergency Room</td>\n",
       "      <td>2</td>\n",
       "      <td>48</td>\n",
       "      <td>0</td>\n",
       "      <td>20</td>\n",
       "      <td>515</td>\n",
       "      <td>276</td>\n",
       "      <td>466</td>\n",
       "      <td>8</td>\n",
       "      <td>NaN</td>\n",
       "      <td>NaN</td>\n",
       "      <td>No</td>\n",
       "      <td>No</td>\n",
       "      <td>[]</td>\n",
       "      <td>No</td>\n",
       "      <td>&gt;30 days</td>\n",
       "    </tr>\n",
       "    <tr>\n",
       "      <th>2</th>\n",
       "      <td>634063</td>\n",
       "      <td>USA</td>\n",
       "      <td>80729253</td>\n",
       "      <td>Caucasian</td>\n",
       "      <td>Female</td>\n",
       "      <td>[60-70)</td>\n",
       "      <td>?</td>\n",
       "      <td>?</td>\n",
       "      <td>0</td>\n",
       "      <td>0</td>\n",
       "      <td>1</td>\n",
       "      <td>NaN</td>\n",
       "      <td>Family/GeneralPractice</td>\n",
       "      <td>94</td>\n",
       "      <td>Discharged to home</td>\n",
       "      <td>NaN</td>\n",
       "      <td>6</td>\n",
       "      <td>60</td>\n",
       "      <td>1</td>\n",
       "      <td>22</td>\n",
       "      <td>534</td>\n",
       "      <td>135</td>\n",
       "      <td>250</td>\n",
       "      <td>6</td>\n",
       "      <td>NaN</td>\n",
       "      <td>NaN</td>\n",
       "      <td>Ch</td>\n",
       "      <td>Yes</td>\n",
       "      <td>['glimepiride', 'insulin']</td>\n",
       "      <td>No</td>\n",
       "      <td>No</td>\n",
       "    </tr>\n",
       "    <tr>\n",
       "      <th>3</th>\n",
       "      <td>890610</td>\n",
       "      <td>USA</td>\n",
       "      <td>2919042</td>\n",
       "      <td>AfricanAmerican</td>\n",
       "      <td>Male</td>\n",
       "      <td>[60-70)</td>\n",
       "      <td>?</td>\n",
       "      <td>MC</td>\n",
       "      <td>0</td>\n",
       "      <td>0</td>\n",
       "      <td>1</td>\n",
       "      <td>Emergency</td>\n",
       "      <td>InternalMedicine</td>\n",
       "      <td>81</td>\n",
       "      <td>Discharged to home</td>\n",
       "      <td>Transfer from another health care facility</td>\n",
       "      <td>6</td>\n",
       "      <td>48</td>\n",
       "      <td>2</td>\n",
       "      <td>9</td>\n",
       "      <td>569</td>\n",
       "      <td>562</td>\n",
       "      <td>455</td>\n",
       "      <td>5</td>\n",
       "      <td>NaN</td>\n",
       "      <td>NaN</td>\n",
       "      <td>No</td>\n",
       "      <td>No</td>\n",
       "      <td>[]</td>\n",
       "      <td>No</td>\n",
       "      <td>No</td>\n",
       "    </tr>\n",
       "    <tr>\n",
       "      <th>4</th>\n",
       "      <td>654194</td>\n",
       "      <td>USA</td>\n",
       "      <td>84871971</td>\n",
       "      <td>Caucasian</td>\n",
       "      <td>Female</td>\n",
       "      <td>[70-80)</td>\n",
       "      <td>?</td>\n",
       "      <td>HM</td>\n",
       "      <td>1</td>\n",
       "      <td>0</td>\n",
       "      <td>0</td>\n",
       "      <td>Elective</td>\n",
       "      <td>?</td>\n",
       "      <td>126</td>\n",
       "      <td>Discharged/transferred to home with home healt...</td>\n",
       "      <td>Physician Referral</td>\n",
       "      <td>6</td>\n",
       "      <td>47</td>\n",
       "      <td>1</td>\n",
       "      <td>15</td>\n",
       "      <td>715</td>\n",
       "      <td>599</td>\n",
       "      <td>428</td>\n",
       "      <td>9</td>\n",
       "      <td>NaN</td>\n",
       "      <td>NaN</td>\n",
       "      <td>No</td>\n",
       "      <td>No</td>\n",
       "      <td>[]</td>\n",
       "      <td>No</td>\n",
       "      <td>&gt;30 days</td>\n",
       "    </tr>\n",
       "    <tr>\n",
       "      <th>5</th>\n",
       "      <td>269878</td>\n",
       "      <td>USA</td>\n",
       "      <td>279288</td>\n",
       "      <td>Caucasian</td>\n",
       "      <td>Female</td>\n",
       "      <td>[50-60)</td>\n",
       "      <td>?</td>\n",
       "      <td>?</td>\n",
       "      <td>0</td>\n",
       "      <td>0</td>\n",
       "      <td>0</td>\n",
       "      <td>Emergency</td>\n",
       "      <td>Surgery-General</td>\n",
       "      <td>93</td>\n",
       "      <td>Discharged to home</td>\n",
       "      <td>Emergency Room</td>\n",
       "      <td>3</td>\n",
       "      <td>58</td>\n",
       "      <td>2</td>\n",
       "      <td>10</td>\n",
       "      <td>574</td>\n",
       "      <td>250</td>\n",
       "      <td>244</td>\n",
       "      <td>3</td>\n",
       "      <td>NaN</td>\n",
       "      <td>Norm</td>\n",
       "      <td>No</td>\n",
       "      <td>No</td>\n",
       "      <td>[]</td>\n",
       "      <td>No</td>\n",
       "      <td>&gt;30 days</td>\n",
       "    </tr>\n",
       "  </tbody>\n",
       "</table>\n",
       "</div>"
      ],
      "text/plain": [
       "   encounter_id country  ...  readmitted_binary readmitted_multiclass\n",
       "0        533253     USA  ...                 No              >30 days\n",
       "2        634063     USA  ...                 No                    No\n",
       "3        890610     USA  ...                 No                    No\n",
       "4        654194     USA  ...                 No              >30 days\n",
       "5        269878     USA  ...                 No              >30 days\n",
       "\n",
       "[5 rows x 31 columns]"
      ]
     },
     "execution_count": 140,
     "metadata": {},
     "output_type": "execute_result"
    }
   ],
   "source": [
    "# Using the df with outlier removal\n",
    "df = pd.read_csv(os.path.join('..', 'clean_data', 'outliers.csv'), index_col=0)\n",
    "df.head()"
   ]
  },
  {
   "cell_type": "code",
   "execution_count": 141,
   "id": "4c94e047-791f-4d51-bc2b-40092fde777c",
   "metadata": {},
   "outputs": [
    {
     "data": {
      "text/html": [
       "<div>\n",
       "<style scoped>\n",
       "    .dataframe tbody tr th:only-of-type {\n",
       "        vertical-align: middle;\n",
       "    }\n",
       "\n",
       "    .dataframe tbody tr th {\n",
       "        vertical-align: top;\n",
       "    }\n",
       "\n",
       "    .dataframe thead th {\n",
       "        text-align: right;\n",
       "    }\n",
       "</style>\n",
       "<table border=\"1\" class=\"dataframe\">\n",
       "  <thead>\n",
       "    <tr style=\"text-align: right;\">\n",
       "      <th></th>\n",
       "      <th>encounter_id</th>\n",
       "      <th>country</th>\n",
       "      <th>patient_id</th>\n",
       "      <th>race</th>\n",
       "      <th>gender</th>\n",
       "      <th>age</th>\n",
       "      <th>weight</th>\n",
       "      <th>payer_code</th>\n",
       "      <th>outpatient_visits_in_previous_year</th>\n",
       "      <th>emergency_visits_in_previous_year</th>\n",
       "      <th>inpatient_visits_in_previous_year</th>\n",
       "      <th>admission_type</th>\n",
       "      <th>medical_specialty</th>\n",
       "      <th>average_pulse_bpm</th>\n",
       "      <th>discharge_disposition</th>\n",
       "      <th>admission_source</th>\n",
       "      <th>length_of_stay_in_hospital</th>\n",
       "      <th>number_lab_tests</th>\n",
       "      <th>non_lab_procedures</th>\n",
       "      <th>number_of_medications</th>\n",
       "      <th>primary_diagnosis</th>\n",
       "      <th>secondary_diagnosis</th>\n",
       "      <th>additional_diagnosis</th>\n",
       "      <th>number_diagnoses</th>\n",
       "      <th>glucose_test_result</th>\n",
       "      <th>a1c_test_result</th>\n",
       "      <th>change_in_meds_during_hospitalization</th>\n",
       "      <th>prescribed_diabetes_meds</th>\n",
       "      <th>medication</th>\n",
       "      <th>readmitted_binary</th>\n",
       "      <th>readmitted_multiclass</th>\n",
       "      <th>glipizide</th>\n",
       "      <th>metformin</th>\n",
       "      <th>metformin-rosiglitazone</th>\n",
       "      <th>glyburide</th>\n",
       "      <th>acarbose</th>\n",
       "      <th>metformin-pioglitazone</th>\n",
       "      <th>nateglinide</th>\n",
       "      <th>insulin</th>\n",
       "      <th>rosiglitazone</th>\n",
       "      <th>repaglinide</th>\n",
       "      <th>glipizide-metformin</th>\n",
       "      <th>glimepiride</th>\n",
       "      <th>tolazamide</th>\n",
       "      <th>pioglitazone</th>\n",
       "      <th>troglitazone</th>\n",
       "      <th>glimepiride-pioglitazone</th>\n",
       "      <th>tolbutamide</th>\n",
       "      <th>glyburide-metformin</th>\n",
       "      <th>miglitol</th>\n",
       "      <th>chlorpropamide</th>\n",
       "      <th>number_diab_meds</th>\n",
       "      <th>number_visits_per_patient</th>\n",
       "      <th>n_medication_per_day</th>\n",
       "      <th>n_lab_tests_per_day</th>\n",
       "      <th>prop_inpatient</th>\n",
       "      <th>prop_outpatient</th>\n",
       "      <th>prop_emergency</th>\n",
       "    </tr>\n",
       "  </thead>\n",
       "  <tbody>\n",
       "    <tr>\n",
       "      <th>0</th>\n",
       "      <td>533253</td>\n",
       "      <td>USA</td>\n",
       "      <td>70110</td>\n",
       "      <td>Caucasian</td>\n",
       "      <td>Female</td>\n",
       "      <td>75.0</td>\n",
       "      <td>NaN</td>\n",
       "      <td>False</td>\n",
       "      <td>0</td>\n",
       "      <td>0</td>\n",
       "      <td>2</td>\n",
       "      <td>Emergency</td>\n",
       "      <td>Emergency medicine</td>\n",
       "      <td>127</td>\n",
       "      <td>Home</td>\n",
       "      <td>Emergency Room</td>\n",
       "      <td>2</td>\n",
       "      <td>48</td>\n",
       "      <td>0</td>\n",
       "      <td>20</td>\n",
       "      <td>Respiratory</td>\n",
       "      <td>Other</td>\n",
       "      <td>Respiratory</td>\n",
       "      <td>8</td>\n",
       "      <td>NaN</td>\n",
       "      <td>NaN</td>\n",
       "      <td>No</td>\n",
       "      <td>No</td>\n",
       "      <td></td>\n",
       "      <td>No</td>\n",
       "      <td>&gt;30 days</td>\n",
       "      <td>False</td>\n",
       "      <td>False</td>\n",
       "      <td>False</td>\n",
       "      <td>False</td>\n",
       "      <td>False</td>\n",
       "      <td>False</td>\n",
       "      <td>False</td>\n",
       "      <td>False</td>\n",
       "      <td>False</td>\n",
       "      <td>False</td>\n",
       "      <td>False</td>\n",
       "      <td>False</td>\n",
       "      <td>False</td>\n",
       "      <td>False</td>\n",
       "      <td>False</td>\n",
       "      <td>False</td>\n",
       "      <td>False</td>\n",
       "      <td>False</td>\n",
       "      <td>False</td>\n",
       "      <td>False</td>\n",
       "      <td>0</td>\n",
       "      <td>6</td>\n",
       "      <td>2.302585</td>\n",
       "      <td>3.178054</td>\n",
       "      <td>0.333333</td>\n",
       "      <td>0.0</td>\n",
       "      <td>0.0</td>\n",
       "    </tr>\n",
       "    <tr>\n",
       "      <th>2</th>\n",
       "      <td>634063</td>\n",
       "      <td>USA</td>\n",
       "      <td>80729253</td>\n",
       "      <td>Caucasian</td>\n",
       "      <td>Female</td>\n",
       "      <td>65.0</td>\n",
       "      <td>NaN</td>\n",
       "      <td>False</td>\n",
       "      <td>0</td>\n",
       "      <td>0</td>\n",
       "      <td>1</td>\n",
       "      <td>Other</td>\n",
       "      <td>Emergency medicine</td>\n",
       "      <td>94</td>\n",
       "      <td>Home</td>\n",
       "      <td>Unknown Admission</td>\n",
       "      <td>6</td>\n",
       "      <td>60</td>\n",
       "      <td>1</td>\n",
       "      <td>22</td>\n",
       "      <td>Gastrointestinal</td>\n",
       "      <td>Other</td>\n",
       "      <td>Diabetes</td>\n",
       "      <td>6</td>\n",
       "      <td>NaN</td>\n",
       "      <td>NaN</td>\n",
       "      <td>Ch</td>\n",
       "      <td>Yes</td>\n",
       "      <td>glimepiride,insulin</td>\n",
       "      <td>No</td>\n",
       "      <td>No</td>\n",
       "      <td>False</td>\n",
       "      <td>False</td>\n",
       "      <td>False</td>\n",
       "      <td>False</td>\n",
       "      <td>False</td>\n",
       "      <td>False</td>\n",
       "      <td>False</td>\n",
       "      <td>True</td>\n",
       "      <td>False</td>\n",
       "      <td>False</td>\n",
       "      <td>False</td>\n",
       "      <td>True</td>\n",
       "      <td>False</td>\n",
       "      <td>False</td>\n",
       "      <td>False</td>\n",
       "      <td>False</td>\n",
       "      <td>False</td>\n",
       "      <td>False</td>\n",
       "      <td>False</td>\n",
       "      <td>False</td>\n",
       "      <td>2</td>\n",
       "      <td>1</td>\n",
       "      <td>1.299283</td>\n",
       "      <td>2.302585</td>\n",
       "      <td>1.000000</td>\n",
       "      <td>0.0</td>\n",
       "      <td>0.0</td>\n",
       "    </tr>\n",
       "    <tr>\n",
       "      <th>3</th>\n",
       "      <td>890610</td>\n",
       "      <td>USA</td>\n",
       "      <td>2919042</td>\n",
       "      <td>AfricanAmerican</td>\n",
       "      <td>Male</td>\n",
       "      <td>65.0</td>\n",
       "      <td>NaN</td>\n",
       "      <td>True</td>\n",
       "      <td>0</td>\n",
       "      <td>0</td>\n",
       "      <td>1</td>\n",
       "      <td>Emergency</td>\n",
       "      <td>Internal medicine</td>\n",
       "      <td>81</td>\n",
       "      <td>Home</td>\n",
       "      <td>Transfered</td>\n",
       "      <td>6</td>\n",
       "      <td>48</td>\n",
       "      <td>2</td>\n",
       "      <td>9</td>\n",
       "      <td>Gastrointestinal</td>\n",
       "      <td>Gastrointestinal</td>\n",
       "      <td>Circulatory</td>\n",
       "      <td>5</td>\n",
       "      <td>NaN</td>\n",
       "      <td>NaN</td>\n",
       "      <td>No</td>\n",
       "      <td>No</td>\n",
       "      <td></td>\n",
       "      <td>No</td>\n",
       "      <td>No</td>\n",
       "      <td>False</td>\n",
       "      <td>False</td>\n",
       "      <td>False</td>\n",
       "      <td>False</td>\n",
       "      <td>False</td>\n",
       "      <td>False</td>\n",
       "      <td>False</td>\n",
       "      <td>False</td>\n",
       "      <td>False</td>\n",
       "      <td>False</td>\n",
       "      <td>False</td>\n",
       "      <td>False</td>\n",
       "      <td>False</td>\n",
       "      <td>False</td>\n",
       "      <td>False</td>\n",
       "      <td>False</td>\n",
       "      <td>False</td>\n",
       "      <td>False</td>\n",
       "      <td>False</td>\n",
       "      <td>False</td>\n",
       "      <td>0</td>\n",
       "      <td>1</td>\n",
       "      <td>0.405465</td>\n",
       "      <td>2.079442</td>\n",
       "      <td>1.000000</td>\n",
       "      <td>0.0</td>\n",
       "      <td>0.0</td>\n",
       "    </tr>\n",
       "    <tr>\n",
       "      <th>4</th>\n",
       "      <td>654194</td>\n",
       "      <td>USA</td>\n",
       "      <td>84871971</td>\n",
       "      <td>Caucasian</td>\n",
       "      <td>Female</td>\n",
       "      <td>75.0</td>\n",
       "      <td>NaN</td>\n",
       "      <td>True</td>\n",
       "      <td>1</td>\n",
       "      <td>0</td>\n",
       "      <td>0</td>\n",
       "      <td>Elective</td>\n",
       "      <td>None</td>\n",
       "      <td>126</td>\n",
       "      <td>Home with medical care</td>\n",
       "      <td>Referral</td>\n",
       "      <td>6</td>\n",
       "      <td>47</td>\n",
       "      <td>1</td>\n",
       "      <td>15</td>\n",
       "      <td>Musculoskeletical</td>\n",
       "      <td>Genitourinary</td>\n",
       "      <td>Circulatory</td>\n",
       "      <td>9</td>\n",
       "      <td>NaN</td>\n",
       "      <td>NaN</td>\n",
       "      <td>No</td>\n",
       "      <td>No</td>\n",
       "      <td></td>\n",
       "      <td>No</td>\n",
       "      <td>&gt;30 days</td>\n",
       "      <td>False</td>\n",
       "      <td>False</td>\n",
       "      <td>False</td>\n",
       "      <td>False</td>\n",
       "      <td>False</td>\n",
       "      <td>False</td>\n",
       "      <td>False</td>\n",
       "      <td>False</td>\n",
       "      <td>False</td>\n",
       "      <td>False</td>\n",
       "      <td>False</td>\n",
       "      <td>False</td>\n",
       "      <td>False</td>\n",
       "      <td>False</td>\n",
       "      <td>False</td>\n",
       "      <td>False</td>\n",
       "      <td>False</td>\n",
       "      <td>False</td>\n",
       "      <td>False</td>\n",
       "      <td>False</td>\n",
       "      <td>0</td>\n",
       "      <td>2</td>\n",
       "      <td>0.916291</td>\n",
       "      <td>2.058388</td>\n",
       "      <td>0.000000</td>\n",
       "      <td>0.5</td>\n",
       "      <td>0.0</td>\n",
       "    </tr>\n",
       "    <tr>\n",
       "      <th>5</th>\n",
       "      <td>269878</td>\n",
       "      <td>USA</td>\n",
       "      <td>279288</td>\n",
       "      <td>Caucasian</td>\n",
       "      <td>Female</td>\n",
       "      <td>55.0</td>\n",
       "      <td>NaN</td>\n",
       "      <td>False</td>\n",
       "      <td>0</td>\n",
       "      <td>0</td>\n",
       "      <td>0</td>\n",
       "      <td>Emergency</td>\n",
       "      <td>Surgery</td>\n",
       "      <td>93</td>\n",
       "      <td>Home</td>\n",
       "      <td>Emergency Room</td>\n",
       "      <td>3</td>\n",
       "      <td>58</td>\n",
       "      <td>2</td>\n",
       "      <td>10</td>\n",
       "      <td>Gastrointestinal</td>\n",
       "      <td>Diabetes</td>\n",
       "      <td>Other</td>\n",
       "      <td>3</td>\n",
       "      <td>NaN</td>\n",
       "      <td>Norm</td>\n",
       "      <td>No</td>\n",
       "      <td>No</td>\n",
       "      <td></td>\n",
       "      <td>No</td>\n",
       "      <td>&gt;30 days</td>\n",
       "      <td>False</td>\n",
       "      <td>False</td>\n",
       "      <td>False</td>\n",
       "      <td>False</td>\n",
       "      <td>False</td>\n",
       "      <td>False</td>\n",
       "      <td>False</td>\n",
       "      <td>False</td>\n",
       "      <td>False</td>\n",
       "      <td>False</td>\n",
       "      <td>False</td>\n",
       "      <td>False</td>\n",
       "      <td>False</td>\n",
       "      <td>False</td>\n",
       "      <td>False</td>\n",
       "      <td>False</td>\n",
       "      <td>False</td>\n",
       "      <td>False</td>\n",
       "      <td>False</td>\n",
       "      <td>False</td>\n",
       "      <td>0</td>\n",
       "      <td>1</td>\n",
       "      <td>1.203973</td>\n",
       "      <td>2.961831</td>\n",
       "      <td>0.000000</td>\n",
       "      <td>0.0</td>\n",
       "      <td>0.0</td>\n",
       "    </tr>\n",
       "  </tbody>\n",
       "</table>\n",
       "</div>"
      ],
      "text/plain": [
       "   encounter_id country  ...  prop_outpatient prop_emergency\n",
       "0        533253     USA  ...              0.0            0.0\n",
       "2        634063     USA  ...              0.0            0.0\n",
       "3        890610     USA  ...              0.0            0.0\n",
       "4        654194     USA  ...              0.5            0.0\n",
       "5        269878     USA  ...              0.0            0.0\n",
       "\n",
       "[5 rows x 58 columns]"
      ]
     },
     "execution_count": 141,
     "metadata": {},
     "output_type": "execute_result"
    }
   ],
   "source": [
    "df_clean = df.copy()\n",
    "df_clean = cleaner.fit_transform(df_clean)\n",
    "df_clean.head()"
   ]
  },
  {
   "cell_type": "code",
   "execution_count": 142,
   "id": "deb0873e-368b-4c0f-83e1-2dbdb9716bdf",
   "metadata": {},
   "outputs": [],
   "source": [
    "# Drop unwanted columns\n",
    "df_clean = df_clean.drop(columns=['country', 'weight', 'glucose_test_result', 'a1c_test_result'])"
   ]
  },
  {
   "cell_type": "code",
   "execution_count": 143,
   "id": "28114304-6371-4349-900c-89259fe13d4b",
   "metadata": {},
   "outputs": [
    {
     "data": {
      "text/plain": [
       "(69250, 54)"
      ]
     },
     "execution_count": 143,
     "metadata": {},
     "output_type": "execute_result"
    }
   ],
   "source": [
    "df_clean.shape"
   ]
  },
  {
   "cell_type": "markdown",
   "id": "a73a4285-a160-47f3-ab19-0c0ee1c10080",
   "metadata": {},
   "source": [
    "### Train test split"
   ]
  },
  {
   "cell_type": "code",
   "execution_count": 150,
   "id": "0f02ba66-f65e-48e6-989d-9923c0b31ac2",
   "metadata": {},
   "outputs": [],
   "source": [
    "num_cols = df_clean.select_dtypes(include=np.number).drop(columns=['encounter_id', 'patient_id']).columns.to_list()"
   ]
  },
  {
   "cell_type": "code",
   "execution_count": 156,
   "id": "6a0f816c-0b2e-46a2-874f-e2269114eae5",
   "metadata": {},
   "outputs": [],
   "source": [
    "cat_cols = df_clean.select_dtypes(exclude=np.number).drop(columns=['readmitted_binary', 'readmitted_multiclass']).columns"
   ]
  },
  {
   "cell_type": "code",
   "execution_count": 191,
   "id": "c781cd7d-faff-4e24-8fb2-1ac31a6606cf",
   "metadata": {},
   "outputs": [],
   "source": [
    "X = df_clean.drop(columns=['readmitted_binary', 'readmitted_multiclass', 'encounter_id', 'patient_id'])\n",
    "y = df_clean.readmitted_binary\n",
    "\n",
    "label = LabelEncoder()\n",
    "y = label.fit_transform(y)"
   ]
  },
  {
   "cell_type": "code",
   "execution_count": 192,
   "id": "bbf64f87-b57b-41b8-aac3-b809933c4ea0",
   "metadata": {},
   "outputs": [],
   "source": [
    "X_train, X_test, y_train, y_test = train_test_split(X, y, stratify=y)"
   ]
  },
  {
   "cell_type": "markdown",
   "id": "77e03608-5cf9-4af7-96a0-e876662e00b8",
   "metadata": {},
   "source": [
    "### Preprocessing"
   ]
  },
  {
   "cell_type": "code",
   "execution_count": 185,
   "id": "6caffac8-4e67-4db9-be20-6854e2f0d8d1",
   "metadata": {},
   "outputs": [
    {
     "data": {
      "text/html": [
       "<style>#sk-container-id-9 {color: black;}#sk-container-id-9 pre{padding: 0;}#sk-container-id-9 div.sk-toggleable {background-color: white;}#sk-container-id-9 label.sk-toggleable__label {cursor: pointer;display: block;width: 100%;margin-bottom: 0;padding: 0.3em;box-sizing: border-box;text-align: center;}#sk-container-id-9 label.sk-toggleable__label-arrow:before {content: \"▸\";float: left;margin-right: 0.25em;color: #696969;}#sk-container-id-9 label.sk-toggleable__label-arrow:hover:before {color: black;}#sk-container-id-9 div.sk-estimator:hover label.sk-toggleable__label-arrow:before {color: black;}#sk-container-id-9 div.sk-toggleable__content {max-height: 0;max-width: 0;overflow: hidden;text-align: left;background-color: #f0f8ff;}#sk-container-id-9 div.sk-toggleable__content pre {margin: 0.2em;color: black;border-radius: 0.25em;background-color: #f0f8ff;}#sk-container-id-9 input.sk-toggleable__control:checked~div.sk-toggleable__content {max-height: 200px;max-width: 100%;overflow: auto;}#sk-container-id-9 input.sk-toggleable__control:checked~label.sk-toggleable__label-arrow:before {content: \"▾\";}#sk-container-id-9 div.sk-estimator input.sk-toggleable__control:checked~label.sk-toggleable__label {background-color: #d4ebff;}#sk-container-id-9 div.sk-label input.sk-toggleable__control:checked~label.sk-toggleable__label {background-color: #d4ebff;}#sk-container-id-9 input.sk-hidden--visually {border: 0;clip: rect(1px 1px 1px 1px);clip: rect(1px, 1px, 1px, 1px);height: 1px;margin: -1px;overflow: hidden;padding: 0;position: absolute;width: 1px;}#sk-container-id-9 div.sk-estimator {font-family: monospace;background-color: #f0f8ff;border: 1px dotted black;border-radius: 0.25em;box-sizing: border-box;margin-bottom: 0.5em;}#sk-container-id-9 div.sk-estimator:hover {background-color: #d4ebff;}#sk-container-id-9 div.sk-parallel-item::after {content: \"\";width: 100%;border-bottom: 1px solid gray;flex-grow: 1;}#sk-container-id-9 div.sk-label:hover label.sk-toggleable__label {background-color: #d4ebff;}#sk-container-id-9 div.sk-serial::before {content: \"\";position: absolute;border-left: 1px solid gray;box-sizing: border-box;top: 0;bottom: 0;left: 50%;z-index: 0;}#sk-container-id-9 div.sk-serial {display: flex;flex-direction: column;align-items: center;background-color: white;padding-right: 0.2em;padding-left: 0.2em;position: relative;}#sk-container-id-9 div.sk-item {position: relative;z-index: 1;}#sk-container-id-9 div.sk-parallel {display: flex;align-items: stretch;justify-content: center;background-color: white;position: relative;}#sk-container-id-9 div.sk-item::before, #sk-container-id-9 div.sk-parallel-item::before {content: \"\";position: absolute;border-left: 1px solid gray;box-sizing: border-box;top: 0;bottom: 0;left: 50%;z-index: -1;}#sk-container-id-9 div.sk-parallel-item {display: flex;flex-direction: column;z-index: 1;position: relative;background-color: white;}#sk-container-id-9 div.sk-parallel-item:first-child::after {align-self: flex-end;width: 50%;}#sk-container-id-9 div.sk-parallel-item:last-child::after {align-self: flex-start;width: 50%;}#sk-container-id-9 div.sk-parallel-item:only-child::after {width: 0;}#sk-container-id-9 div.sk-dashed-wrapped {border: 1px dashed gray;margin: 0 0.4em 0.5em 0.4em;box-sizing: border-box;padding-bottom: 0.4em;background-color: white;}#sk-container-id-9 div.sk-label label {font-family: monospace;font-weight: bold;display: inline-block;line-height: 1.2em;}#sk-container-id-9 div.sk-label-container {text-align: center;}#sk-container-id-9 div.sk-container {/* jupyter's `normalize.less` sets `[hidden] { display: none; }` but bootstrap.min.css set `[hidden] { display: none !important; }` so we also need the `!important` here to be able to override the default hidden behavior on the sphinx rendered scikit-learn.org. See: https://github.com/scikit-learn/scikit-learn/issues/21755 */display: inline-block !important;position: relative;}#sk-container-id-9 div.sk-text-repr-fallback {display: none;}</style><div id=\"sk-container-id-9\" class=\"sk-top-container\"><div class=\"sk-text-repr-fallback\"><pre>ColumnTransformer(transformers=[(&#x27;cat&#x27;,\n",
       "                                 Pipeline(steps=[(&#x27;encoder&#x27;,\n",
       "                                                  TargetEncoder(target_type=&#x27;binary&#x27;))]),\n",
       "                                 Index([&#x27;race&#x27;, &#x27;gender&#x27;, &#x27;payer_code&#x27;, &#x27;admission_type&#x27;, &#x27;medical_specialty&#x27;,\n",
       "       &#x27;discharge_disposition&#x27;, &#x27;admission_source&#x27;, &#x27;primary_diagnosis&#x27;,\n",
       "       &#x27;secondary_diagnosis&#x27;, &#x27;additional_diagnosis&#x27;,\n",
       "       &#x27;change_in_meds_during_hospitalization&#x27;, &#x27;prescribed_diabetes_med...\n",
       "                                  &#x27;emergency_visits_in_previous_year&#x27;,\n",
       "                                  &#x27;inpatient_visits_in_previous_year&#x27;,\n",
       "                                  &#x27;average_pulse_bpm&#x27;,\n",
       "                                  &#x27;length_of_stay_in_hospital&#x27;,\n",
       "                                  &#x27;number_lab_tests&#x27;, &#x27;non_lab_procedures&#x27;,\n",
       "                                  &#x27;number_of_medications&#x27;, &#x27;number_diagnoses&#x27;,\n",
       "                                  &#x27;number_diab_meds&#x27;,\n",
       "                                  &#x27;number_visits_per_patient&#x27;,\n",
       "                                  &#x27;n_medication_per_day&#x27;, &#x27;n_lab_tests_per_day&#x27;,\n",
       "                                  &#x27;prop_inpatient&#x27;, &#x27;prop_outpatient&#x27;,\n",
       "                                  &#x27;prop_emergency&#x27;])])</pre><b>In a Jupyter environment, please rerun this cell to show the HTML representation or trust the notebook. <br />On GitHub, the HTML representation is unable to render, please try loading this page with nbviewer.org.</b></div><div class=\"sk-container\" hidden><div class=\"sk-item sk-dashed-wrapped\"><div class=\"sk-label-container\"><div class=\"sk-label sk-toggleable\"><input class=\"sk-toggleable__control sk-hidden--visually\" id=\"sk-estimator-id-37\" type=\"checkbox\" ><label for=\"sk-estimator-id-37\" class=\"sk-toggleable__label sk-toggleable__label-arrow\">ColumnTransformer</label><div class=\"sk-toggleable__content\"><pre>ColumnTransformer(transformers=[(&#x27;cat&#x27;,\n",
       "                                 Pipeline(steps=[(&#x27;encoder&#x27;,\n",
       "                                                  TargetEncoder(target_type=&#x27;binary&#x27;))]),\n",
       "                                 Index([&#x27;race&#x27;, &#x27;gender&#x27;, &#x27;payer_code&#x27;, &#x27;admission_type&#x27;, &#x27;medical_specialty&#x27;,\n",
       "       &#x27;discharge_disposition&#x27;, &#x27;admission_source&#x27;, &#x27;primary_diagnosis&#x27;,\n",
       "       &#x27;secondary_diagnosis&#x27;, &#x27;additional_diagnosis&#x27;,\n",
       "       &#x27;change_in_meds_during_hospitalization&#x27;, &#x27;prescribed_diabetes_med...\n",
       "                                  &#x27;emergency_visits_in_previous_year&#x27;,\n",
       "                                  &#x27;inpatient_visits_in_previous_year&#x27;,\n",
       "                                  &#x27;average_pulse_bpm&#x27;,\n",
       "                                  &#x27;length_of_stay_in_hospital&#x27;,\n",
       "                                  &#x27;number_lab_tests&#x27;, &#x27;non_lab_procedures&#x27;,\n",
       "                                  &#x27;number_of_medications&#x27;, &#x27;number_diagnoses&#x27;,\n",
       "                                  &#x27;number_diab_meds&#x27;,\n",
       "                                  &#x27;number_visits_per_patient&#x27;,\n",
       "                                  &#x27;n_medication_per_day&#x27;, &#x27;n_lab_tests_per_day&#x27;,\n",
       "                                  &#x27;prop_inpatient&#x27;, &#x27;prop_outpatient&#x27;,\n",
       "                                  &#x27;prop_emergency&#x27;])])</pre></div></div></div><div class=\"sk-parallel\"><div class=\"sk-parallel-item\"><div class=\"sk-item\"><div class=\"sk-label-container\"><div class=\"sk-label sk-toggleable\"><input class=\"sk-toggleable__control sk-hidden--visually\" id=\"sk-estimator-id-38\" type=\"checkbox\" ><label for=\"sk-estimator-id-38\" class=\"sk-toggleable__label sk-toggleable__label-arrow\">cat</label><div class=\"sk-toggleable__content\"><pre>Index([&#x27;race&#x27;, &#x27;gender&#x27;, &#x27;payer_code&#x27;, &#x27;admission_type&#x27;, &#x27;medical_specialty&#x27;,\n",
       "       &#x27;discharge_disposition&#x27;, &#x27;admission_source&#x27;, &#x27;primary_diagnosis&#x27;,\n",
       "       &#x27;secondary_diagnosis&#x27;, &#x27;additional_diagnosis&#x27;,\n",
       "       &#x27;change_in_meds_during_hospitalization&#x27;, &#x27;prescribed_diabetes_meds&#x27;,\n",
       "       &#x27;medication&#x27;, &#x27;glipizide&#x27;, &#x27;metformin&#x27;, &#x27;metformin-rosiglitazone&#x27;,\n",
       "       &#x27;glyburide&#x27;, &#x27;acarbose&#x27;, &#x27;metformin-pioglitazone&#x27;, &#x27;nateglinide&#x27;,\n",
       "       &#x27;insulin&#x27;, &#x27;rosiglitazone&#x27;, &#x27;repaglinide&#x27;, &#x27;glipizide-metformin&#x27;,\n",
       "       &#x27;glimepiride&#x27;, &#x27;tolazamide&#x27;, &#x27;pioglitazone&#x27;, &#x27;troglitazone&#x27;,\n",
       "       &#x27;glimepiride-pioglitazone&#x27;, &#x27;tolbutamide&#x27;, &#x27;glyburide-metformin&#x27;,\n",
       "       &#x27;miglitol&#x27;, &#x27;chlorpropamide&#x27;],\n",
       "      dtype=&#x27;object&#x27;)</pre></div></div></div><div class=\"sk-serial\"><div class=\"sk-item\"><div class=\"sk-serial\"><div class=\"sk-item\"><div class=\"sk-estimator sk-toggleable\"><input class=\"sk-toggleable__control sk-hidden--visually\" id=\"sk-estimator-id-39\" type=\"checkbox\" ><label for=\"sk-estimator-id-39\" class=\"sk-toggleable__label sk-toggleable__label-arrow\">TargetEncoder</label><div class=\"sk-toggleable__content\"><pre>TargetEncoder(target_type=&#x27;binary&#x27;)</pre></div></div></div></div></div></div></div></div><div class=\"sk-parallel-item\"><div class=\"sk-item\"><div class=\"sk-label-container\"><div class=\"sk-label sk-toggleable\"><input class=\"sk-toggleable__control sk-hidden--visually\" id=\"sk-estimator-id-40\" type=\"checkbox\" ><label for=\"sk-estimator-id-40\" class=\"sk-toggleable__label sk-toggleable__label-arrow\">num</label><div class=\"sk-toggleable__content\"><pre>[&#x27;age&#x27;, &#x27;outpatient_visits_in_previous_year&#x27;, &#x27;emergency_visits_in_previous_year&#x27;, &#x27;inpatient_visits_in_previous_year&#x27;, &#x27;average_pulse_bpm&#x27;, &#x27;length_of_stay_in_hospital&#x27;, &#x27;number_lab_tests&#x27;, &#x27;non_lab_procedures&#x27;, &#x27;number_of_medications&#x27;, &#x27;number_diagnoses&#x27;, &#x27;number_diab_meds&#x27;, &#x27;number_visits_per_patient&#x27;, &#x27;n_medication_per_day&#x27;, &#x27;n_lab_tests_per_day&#x27;, &#x27;prop_inpatient&#x27;, &#x27;prop_outpatient&#x27;, &#x27;prop_emergency&#x27;]</pre></div></div></div><div class=\"sk-serial\"><div class=\"sk-item\"><div class=\"sk-serial\"><div class=\"sk-item\"><div class=\"sk-estimator sk-toggleable\"><input class=\"sk-toggleable__control sk-hidden--visually\" id=\"sk-estimator-id-41\" type=\"checkbox\" ><label for=\"sk-estimator-id-41\" class=\"sk-toggleable__label sk-toggleable__label-arrow\">SimpleImputer</label><div class=\"sk-toggleable__content\"><pre>SimpleImputer()</pre></div></div></div><div class=\"sk-item\"><div class=\"sk-estimator sk-toggleable\"><input class=\"sk-toggleable__control sk-hidden--visually\" id=\"sk-estimator-id-42\" type=\"checkbox\" ><label for=\"sk-estimator-id-42\" class=\"sk-toggleable__label sk-toggleable__label-arrow\">PowerTransformer</label><div class=\"sk-toggleable__content\"><pre>PowerTransformer()</pre></div></div></div><div class=\"sk-item\"><div class=\"sk-estimator sk-toggleable\"><input class=\"sk-toggleable__control sk-hidden--visually\" id=\"sk-estimator-id-43\" type=\"checkbox\" ><label for=\"sk-estimator-id-43\" class=\"sk-toggleable__label sk-toggleable__label-arrow\">MinMaxScaler</label><div class=\"sk-toggleable__content\"><pre>MinMaxScaler()</pre></div></div></div></div></div></div></div></div></div></div></div></div>"
      ],
      "text/plain": [
       "ColumnTransformer(transformers=[('cat',\n",
       "                                 Pipeline(steps=[('encoder',\n",
       "                                                  TargetEncoder(target_type='binary'))]),\n",
       "                                 Index(['race', 'gender', 'payer_code', 'admission_type', 'medical_specialty',\n",
       "       'discharge_disposition', 'admission_source', 'primary_diagnosis',\n",
       "       'secondary_diagnosis', 'additional_diagnosis',\n",
       "       'change_in_meds_during_hospitalization', 'prescribed_diabetes_med...\n",
       "                                  'emergency_visits_in_previous_year',\n",
       "                                  'inpatient_visits_in_previous_year',\n",
       "                                  'average_pulse_bpm',\n",
       "                                  'length_of_stay_in_hospital',\n",
       "                                  'number_lab_tests', 'non_lab_procedures',\n",
       "                                  'number_of_medications', 'number_diagnoses',\n",
       "                                  'number_diab_meds',\n",
       "                                  'number_visits_per_patient',\n",
       "                                  'n_medication_per_day', 'n_lab_tests_per_day',\n",
       "                                  'prop_inpatient', 'prop_outpatient',\n",
       "                                  'prop_emergency'])])"
      ]
     },
     "execution_count": 185,
     "metadata": {},
     "output_type": "execute_result"
    }
   ],
   "source": [
    "cat_pipe = Pipeline([\n",
    "    ('encoder', TargetEncoder(target_type='binary'))\n",
    "])\n",
    "\n",
    "num_pipe = Pipeline([\n",
    "    ('imputer', SimpleImputer()),\n",
    "    ('transformer', PowerTransformer()),\n",
    "    ('scaler', MinMaxScaler())\n",
    "])\n",
    "\n",
    "preproc_pipe = ColumnTransformer([\n",
    "    ('cat', cat_pipe, cat_cols),\n",
    "    ('num', num_pipe, num_cols)\n",
    "], remainder='drop')\n",
    "\n",
    "preproc_pipe"
   ]
  },
  {
   "cell_type": "code",
   "execution_count": 193,
   "id": "19b55280-bd68-4279-8d23-ae21033a312b",
   "metadata": {},
   "outputs": [],
   "source": [
    "X_train = np.float32(preproc_pipe.fit_transform(X_train, y_train))\n",
    "X_test = np.float32(preproc_pipe.transform(X_test))"
   ]
  },
  {
   "cell_type": "markdown",
   "id": "f93d7913-ead3-4ff8-bccc-9eab051e84ff",
   "metadata": {},
   "source": [
    "### Model selection"
   ]
  },
  {
   "cell_type": "code",
   "execution_count": 194,
   "id": "ab1c2870-e854-4c7d-b774-985a8afd30b7",
   "metadata": {
    "scrolled": true
   },
   "outputs": [],
   "source": [
    "model = SGDClassifier(n_jobs=-1, class_weight='balanced', early_stopping=True)"
   ]
  },
  {
   "cell_type": "code",
   "execution_count": 195,
   "id": "c12f140e-db4a-4212-9f2a-734977de1f87",
   "metadata": {},
   "outputs": [],
   "source": [
    "rand_params = {\n",
    "    'loss': ['hinge', 'log_loss', 'squared_hinge', 'perceptron', 'modified_huber'],\n",
    "    'penalty': ['l1', 'l2', 'elasticnet', None],\n",
    "    'l1_ratio': uniform(0, 1),\n",
    "    'alpha': uniform(0.00001, 1),\n",
    "    'learning_rate': ['optimal', 'invscaling', 'adaptive', 'constant'],\n",
    "    'eta0': uniform(0, 1),\n",
    "    'epsilon': uniform(0, 1),\n",
    "    'power_t': uniform(-1, 1)\n",
    "}"
   ]
  },
  {
   "cell_type": "code",
   "execution_count": 196,
   "id": "4d30e2b6-e724-42dc-b205-755597822eb9",
   "metadata": {},
   "outputs": [
    {
     "name": "stdout",
     "output_type": "stream",
     "text": [
      "Fitting 5 folds for each of 500 candidates, totalling 2500 fits\n"
     ]
    },
    {
     "data": {
      "text/html": [
       "<style>#sk-container-id-11 {color: black;}#sk-container-id-11 pre{padding: 0;}#sk-container-id-11 div.sk-toggleable {background-color: white;}#sk-container-id-11 label.sk-toggleable__label {cursor: pointer;display: block;width: 100%;margin-bottom: 0;padding: 0.3em;box-sizing: border-box;text-align: center;}#sk-container-id-11 label.sk-toggleable__label-arrow:before {content: \"▸\";float: left;margin-right: 0.25em;color: #696969;}#sk-container-id-11 label.sk-toggleable__label-arrow:hover:before {color: black;}#sk-container-id-11 div.sk-estimator:hover label.sk-toggleable__label-arrow:before {color: black;}#sk-container-id-11 div.sk-toggleable__content {max-height: 0;max-width: 0;overflow: hidden;text-align: left;background-color: #f0f8ff;}#sk-container-id-11 div.sk-toggleable__content pre {margin: 0.2em;color: black;border-radius: 0.25em;background-color: #f0f8ff;}#sk-container-id-11 input.sk-toggleable__control:checked~div.sk-toggleable__content {max-height: 200px;max-width: 100%;overflow: auto;}#sk-container-id-11 input.sk-toggleable__control:checked~label.sk-toggleable__label-arrow:before {content: \"▾\";}#sk-container-id-11 div.sk-estimator input.sk-toggleable__control:checked~label.sk-toggleable__label {background-color: #d4ebff;}#sk-container-id-11 div.sk-label input.sk-toggleable__control:checked~label.sk-toggleable__label {background-color: #d4ebff;}#sk-container-id-11 input.sk-hidden--visually {border: 0;clip: rect(1px 1px 1px 1px);clip: rect(1px, 1px, 1px, 1px);height: 1px;margin: -1px;overflow: hidden;padding: 0;position: absolute;width: 1px;}#sk-container-id-11 div.sk-estimator {font-family: monospace;background-color: #f0f8ff;border: 1px dotted black;border-radius: 0.25em;box-sizing: border-box;margin-bottom: 0.5em;}#sk-container-id-11 div.sk-estimator:hover {background-color: #d4ebff;}#sk-container-id-11 div.sk-parallel-item::after {content: \"\";width: 100%;border-bottom: 1px solid gray;flex-grow: 1;}#sk-container-id-11 div.sk-label:hover label.sk-toggleable__label {background-color: #d4ebff;}#sk-container-id-11 div.sk-serial::before {content: \"\";position: absolute;border-left: 1px solid gray;box-sizing: border-box;top: 0;bottom: 0;left: 50%;z-index: 0;}#sk-container-id-11 div.sk-serial {display: flex;flex-direction: column;align-items: center;background-color: white;padding-right: 0.2em;padding-left: 0.2em;position: relative;}#sk-container-id-11 div.sk-item {position: relative;z-index: 1;}#sk-container-id-11 div.sk-parallel {display: flex;align-items: stretch;justify-content: center;background-color: white;position: relative;}#sk-container-id-11 div.sk-item::before, #sk-container-id-11 div.sk-parallel-item::before {content: \"\";position: absolute;border-left: 1px solid gray;box-sizing: border-box;top: 0;bottom: 0;left: 50%;z-index: -1;}#sk-container-id-11 div.sk-parallel-item {display: flex;flex-direction: column;z-index: 1;position: relative;background-color: white;}#sk-container-id-11 div.sk-parallel-item:first-child::after {align-self: flex-end;width: 50%;}#sk-container-id-11 div.sk-parallel-item:last-child::after {align-self: flex-start;width: 50%;}#sk-container-id-11 div.sk-parallel-item:only-child::after {width: 0;}#sk-container-id-11 div.sk-dashed-wrapped {border: 1px dashed gray;margin: 0 0.4em 0.5em 0.4em;box-sizing: border-box;padding-bottom: 0.4em;background-color: white;}#sk-container-id-11 div.sk-label label {font-family: monospace;font-weight: bold;display: inline-block;line-height: 1.2em;}#sk-container-id-11 div.sk-label-container {text-align: center;}#sk-container-id-11 div.sk-container {/* jupyter's `normalize.less` sets `[hidden] { display: none; }` but bootstrap.min.css set `[hidden] { display: none !important; }` so we also need the `!important` here to be able to override the default hidden behavior on the sphinx rendered scikit-learn.org. See: https://github.com/scikit-learn/scikit-learn/issues/21755 */display: inline-block !important;position: relative;}#sk-container-id-11 div.sk-text-repr-fallback {display: none;}</style><div id=\"sk-container-id-11\" class=\"sk-top-container\"><div class=\"sk-text-repr-fallback\"><pre>RandomizedSearchCV(cv=5,\n",
       "                   estimator=SGDClassifier(class_weight=&#x27;balanced&#x27;,\n",
       "                                           early_stopping=True, n_jobs=-1),\n",
       "                   n_iter=500, n_jobs=-1,\n",
       "                   param_distributions={&#x27;alpha&#x27;: &lt;scipy.stats._distn_infrastructure.rv_continuous_frozen object at 0x7fb42d4ce3b0&gt;,\n",
       "                                        &#x27;epsilon&#x27;: &lt;scipy.stats._distn_infrastructure.rv_continuous_frozen object at 0x7fb42cf11cc0&gt;,\n",
       "                                        &#x27;eta0&#x27;: &lt;scipy.stats._distn_in...\n",
       "                                        &#x27;l1_ratio&#x27;: &lt;scipy.stats._distn_infrastructure.rv_continuous_frozen object at 0x7fb42d4ce380&gt;,\n",
       "                                        &#x27;learning_rate&#x27;: [&#x27;optimal&#x27;,\n",
       "                                                          &#x27;invscaling&#x27;,\n",
       "                                                          &#x27;adaptive&#x27;,\n",
       "                                                          &#x27;constant&#x27;],\n",
       "                                        &#x27;loss&#x27;: [&#x27;hinge&#x27;, &#x27;log_loss&#x27;,\n",
       "                                                 &#x27;squared_hinge&#x27;, &#x27;perceptron&#x27;,\n",
       "                                                 &#x27;modified_huber&#x27;],\n",
       "                                        &#x27;penalty&#x27;: [&#x27;l1&#x27;, &#x27;l2&#x27;, &#x27;elasticnet&#x27;,\n",
       "                                                    None],\n",
       "                                        &#x27;power_t&#x27;: &lt;scipy.stats._distn_infrastructure.rv_continuous_frozen object at 0x7fb42d4cfb80&gt;},\n",
       "                   scoring=&#x27;f1&#x27;, verbose=1)</pre><b>In a Jupyter environment, please rerun this cell to show the HTML representation or trust the notebook. <br />On GitHub, the HTML representation is unable to render, please try loading this page with nbviewer.org.</b></div><div class=\"sk-container\" hidden><div class=\"sk-item sk-dashed-wrapped\"><div class=\"sk-label-container\"><div class=\"sk-label sk-toggleable\"><input class=\"sk-toggleable__control sk-hidden--visually\" id=\"sk-estimator-id-47\" type=\"checkbox\" ><label for=\"sk-estimator-id-47\" class=\"sk-toggleable__label sk-toggleable__label-arrow\">RandomizedSearchCV</label><div class=\"sk-toggleable__content\"><pre>RandomizedSearchCV(cv=5,\n",
       "                   estimator=SGDClassifier(class_weight=&#x27;balanced&#x27;,\n",
       "                                           early_stopping=True, n_jobs=-1),\n",
       "                   n_iter=500, n_jobs=-1,\n",
       "                   param_distributions={&#x27;alpha&#x27;: &lt;scipy.stats._distn_infrastructure.rv_continuous_frozen object at 0x7fb42d4ce3b0&gt;,\n",
       "                                        &#x27;epsilon&#x27;: &lt;scipy.stats._distn_infrastructure.rv_continuous_frozen object at 0x7fb42cf11cc0&gt;,\n",
       "                                        &#x27;eta0&#x27;: &lt;scipy.stats._distn_in...\n",
       "                                        &#x27;l1_ratio&#x27;: &lt;scipy.stats._distn_infrastructure.rv_continuous_frozen object at 0x7fb42d4ce380&gt;,\n",
       "                                        &#x27;learning_rate&#x27;: [&#x27;optimal&#x27;,\n",
       "                                                          &#x27;invscaling&#x27;,\n",
       "                                                          &#x27;adaptive&#x27;,\n",
       "                                                          &#x27;constant&#x27;],\n",
       "                                        &#x27;loss&#x27;: [&#x27;hinge&#x27;, &#x27;log_loss&#x27;,\n",
       "                                                 &#x27;squared_hinge&#x27;, &#x27;perceptron&#x27;,\n",
       "                                                 &#x27;modified_huber&#x27;],\n",
       "                                        &#x27;penalty&#x27;: [&#x27;l1&#x27;, &#x27;l2&#x27;, &#x27;elasticnet&#x27;,\n",
       "                                                    None],\n",
       "                                        &#x27;power_t&#x27;: &lt;scipy.stats._distn_infrastructure.rv_continuous_frozen object at 0x7fb42d4cfb80&gt;},\n",
       "                   scoring=&#x27;f1&#x27;, verbose=1)</pre></div></div></div><div class=\"sk-parallel\"><div class=\"sk-parallel-item\"><div class=\"sk-item\"><div class=\"sk-label-container\"><div class=\"sk-label sk-toggleable\"><input class=\"sk-toggleable__control sk-hidden--visually\" id=\"sk-estimator-id-48\" type=\"checkbox\" ><label for=\"sk-estimator-id-48\" class=\"sk-toggleable__label sk-toggleable__label-arrow\">estimator: SGDClassifier</label><div class=\"sk-toggleable__content\"><pre>SGDClassifier(class_weight=&#x27;balanced&#x27;, early_stopping=True, n_jobs=-1)</pre></div></div></div><div class=\"sk-serial\"><div class=\"sk-item\"><div class=\"sk-estimator sk-toggleable\"><input class=\"sk-toggleable__control sk-hidden--visually\" id=\"sk-estimator-id-49\" type=\"checkbox\" ><label for=\"sk-estimator-id-49\" class=\"sk-toggleable__label sk-toggleable__label-arrow\">SGDClassifier</label><div class=\"sk-toggleable__content\"><pre>SGDClassifier(class_weight=&#x27;balanced&#x27;, early_stopping=True, n_jobs=-1)</pre></div></div></div></div></div></div></div></div></div></div>"
      ],
      "text/plain": [
       "RandomizedSearchCV(cv=5,\n",
       "                   estimator=SGDClassifier(class_weight='balanced',\n",
       "                                           early_stopping=True, n_jobs=-1),\n",
       "                   n_iter=500, n_jobs=-1,\n",
       "                   param_distributions={'alpha': <scipy.stats._distn_infrastructure.rv_continuous_frozen object at 0x7fb42d4ce3b0>,\n",
       "                                        'epsilon': <scipy.stats._distn_infrastructure.rv_continuous_frozen object at 0x7fb42cf11cc0>,\n",
       "                                        'eta0': <scipy.stats._distn_in...\n",
       "                                        'l1_ratio': <scipy.stats._distn_infrastructure.rv_continuous_frozen object at 0x7fb42d4ce380>,\n",
       "                                        'learning_rate': ['optimal',\n",
       "                                                          'invscaling',\n",
       "                                                          'adaptive',\n",
       "                                                          'constant'],\n",
       "                                        'loss': ['hinge', 'log_loss',\n",
       "                                                 'squared_hinge', 'perceptron',\n",
       "                                                 'modified_huber'],\n",
       "                                        'penalty': ['l1', 'l2', 'elasticnet',\n",
       "                                                    None],\n",
       "                                        'power_t': <scipy.stats._distn_infrastructure.rv_continuous_frozen object at 0x7fb42d4cfb80>},\n",
       "                   scoring='f1', verbose=1)"
      ]
     },
     "execution_count": 196,
     "metadata": {},
     "output_type": "execute_result"
    }
   ],
   "source": [
    "rand_search = RandomizedSearchCV(model, rand_params, n_iter=500, scoring='f1', cv=5, n_jobs=-1, verbose=1)\n",
    "rand_search.fit(X_train, y_train)"
   ]
  },
  {
   "cell_type": "code",
   "execution_count": 197,
   "id": "e0f09b85-a785-496f-a5f5-692858861889",
   "metadata": {},
   "outputs": [
    {
     "data": {
      "text/plain": [
       "{'alpha': 0.1992468080070841,\n",
       " 'epsilon': 0.008962892384382415,\n",
       " 'eta0': 0.20367302952929056,\n",
       " 'l1_ratio': 0.4993083489220981,\n",
       " 'learning_rate': 'adaptive',\n",
       " 'loss': 'hinge',\n",
       " 'penalty': None,\n",
       " 'power_t': -0.09637021368699661}"
      ]
     },
     "execution_count": 197,
     "metadata": {},
     "output_type": "execute_result"
    }
   ],
   "source": [
    "rand_search.best_params_"
   ]
  },
  {
   "cell_type": "code",
   "execution_count": 198,
   "id": "eb28f9d1-8a68-4d23-bce3-5b07163b567e",
   "metadata": {},
   "outputs": [
    {
     "data": {
      "text/plain": [
       "0.3146282093652802"
      ]
     },
     "execution_count": 198,
     "metadata": {},
     "output_type": "execute_result"
    }
   ],
   "source": [
    "rand_search.best_score_"
   ]
  },
  {
   "cell_type": "code",
   "execution_count": 199,
   "id": "6eb3f4e3-3fd7-40a3-a8fc-ddc21d841dcf",
   "metadata": {},
   "outputs": [
    {
     "data": {
      "text/plain": [
       "0.31704492820750346"
      ]
     },
     "execution_count": 199,
     "metadata": {},
     "output_type": "execute_result"
    }
   ],
   "source": [
    "y_pred_sgd = rand_search.predict(X_test)\n",
    "f1_score(y_test, y_pred_sgd)"
   ]
  },
  {
   "cell_type": "markdown",
   "id": "c7d82c2b-223c-45ba-80fc-d7a73aadc734",
   "metadata": {},
   "source": [
    "### SVC"
   ]
  },
  {
   "cell_type": "code",
   "execution_count": 202,
   "id": "af854f02-4f00-46b0-9e72-d8cd9c747041",
   "metadata": {},
   "outputs": [],
   "source": [
    "model_svc = SVC(class_weight='balanced')"
   ]
  },
  {
   "cell_type": "code",
   "execution_count": 203,
   "id": "7b0fb909-83ee-458c-acce-9b9fe4033dd7",
   "metadata": {},
   "outputs": [],
   "source": [
    "rand_params_svc = {\n",
    "    'C': uniform(0.0001, 5),\n",
    "    'kernel': ['poly', 'rbf', 'linear', 'sigmoid'],\n",
    "    'degree': [2, 3, 4, 5, 6],\n",
    "    'gamma': ['auto', 'scale'],\n",
    "    'coef0': uniform(0, 1)\n",
    "}"
   ]
  },
  {
   "cell_type": "code",
   "execution_count": 205,
   "id": "0345ecfa-d6c2-495e-b172-97bc8f8fb933",
   "metadata": {
    "scrolled": true
   },
   "outputs": [
    {
     "name": "stdout",
     "output_type": "stream",
     "text": [
      "Fitting 5 folds for each of 500 candidates, totalling 2500 fits\n"
     ]
    },
    {
     "name": "stderr",
     "output_type": "stream",
     "text": [
      "/home/vsn/.pyenv/versions/3.10.6/envs/mestrado/lib/python3.10/site-packages/sklearn/model_selection/_validation.py:821: UserWarning: Scoring failed. The score on this train-test partition for these parameters will be set to nan. Details: \n",
      "Traceback (most recent call last):\n",
      "  File \"/home/vsn/.pyenv/versions/3.10.6/envs/mestrado/lib/python3.10/site-packages/sklearn/model_selection/_validation.py\", line 810, in _score\n",
      "    scores = scorer(estimator, X_test, y_test)\n",
      "  File \"/home/vsn/.pyenv/versions/3.10.6/envs/mestrado/lib/python3.10/site-packages/sklearn/metrics/_scorer.py\", line 266, in __call__\n",
      "    return self._score(partial(_cached_call, None), estimator, X, y_true, **_kwargs)\n",
      "  File \"/home/vsn/.pyenv/versions/3.10.6/envs/mestrado/lib/python3.10/site-packages/sklearn/metrics/_scorer.py\", line 353, in _score\n",
      "    y_pred = method_caller(estimator, \"predict\", X)\n",
      "  File \"/home/vsn/.pyenv/versions/3.10.6/envs/mestrado/lib/python3.10/site-packages/sklearn/metrics/_scorer.py\", line 86, in _cached_call\n",
      "    result, _ = _get_response_values(\n",
      "  File \"/home/vsn/.pyenv/versions/3.10.6/envs/mestrado/lib/python3.10/site-packages/sklearn/utils/_response.py\", line 194, in _get_response_values\n",
      "    y_pred = prediction_method(X)\n",
      "  File \"/home/vsn/.pyenv/versions/3.10.6/envs/mestrado/lib/python3.10/site-packages/cuml/internals/api_decorators.py\", line 188, in wrapper\n",
      "    ret = func(*args, **kwargs)\n",
      "  File \"svc.pyx\", line 607, in cuml.svm.svc.SVC.predict\n",
      "  File \"/home/vsn/.pyenv/versions/3.10.6/envs/mestrado/lib/python3.10/site-packages/cuml/internals/api_decorators.py\", line 188, in wrapper\n",
      "    ret = func(*args, **kwargs)\n",
      "  File \"svm_base.pyx\", line 639, in cuml.svm.svm_base.SVMBase.predict\n",
      "MemoryError: std::bad_alloc: out_of_memory: CUDA error at: /__w/cuml/cuml/python/_skbuild/linux-x86_64-3.10/cmake-build/_deps/rmm-src/include/rmm/mr/device/cuda_memory_resource.hpp:72: cudaErrorMemoryAllocation out of memory\n",
      "\n",
      "  warnings.warn(\n",
      "/home/vsn/.pyenv/versions/3.10.6/envs/mestrado/lib/python3.10/site-packages/sklearn/model_selection/_validation.py:821: UserWarning: Scoring failed. The score on this train-test partition for these parameters will be set to nan. Details: \n",
      "Traceback (most recent call last):\n",
      "  File \"/home/vsn/.pyenv/versions/3.10.6/envs/mestrado/lib/python3.10/site-packages/sklearn/model_selection/_validation.py\", line 810, in _score\n",
      "    scores = scorer(estimator, X_test, y_test)\n",
      "  File \"/home/vsn/.pyenv/versions/3.10.6/envs/mestrado/lib/python3.10/site-packages/sklearn/metrics/_scorer.py\", line 266, in __call__\n",
      "    return self._score(partial(_cached_call, None), estimator, X, y_true, **_kwargs)\n",
      "  File \"/home/vsn/.pyenv/versions/3.10.6/envs/mestrado/lib/python3.10/site-packages/sklearn/metrics/_scorer.py\", line 353, in _score\n",
      "    y_pred = method_caller(estimator, \"predict\", X)\n",
      "  File \"/home/vsn/.pyenv/versions/3.10.6/envs/mestrado/lib/python3.10/site-packages/sklearn/metrics/_scorer.py\", line 86, in _cached_call\n",
      "    result, _ = _get_response_values(\n",
      "  File \"/home/vsn/.pyenv/versions/3.10.6/envs/mestrado/lib/python3.10/site-packages/sklearn/utils/_response.py\", line 194, in _get_response_values\n",
      "    y_pred = prediction_method(X)\n",
      "  File \"/home/vsn/.pyenv/versions/3.10.6/envs/mestrado/lib/python3.10/site-packages/cuml/internals/api_decorators.py\", line 188, in wrapper\n",
      "    ret = func(*args, **kwargs)\n",
      "  File \"svc.pyx\", line 607, in cuml.svm.svc.SVC.predict\n",
      "  File \"/home/vsn/.pyenv/versions/3.10.6/envs/mestrado/lib/python3.10/site-packages/cuml/internals/api_decorators.py\", line 188, in wrapper\n",
      "    ret = func(*args, **kwargs)\n",
      "  File \"svm_base.pyx\", line 639, in cuml.svm.svm_base.SVMBase.predict\n",
      "MemoryError: std::bad_alloc: out_of_memory: CUDA error at: /__w/cuml/cuml/python/_skbuild/linux-x86_64-3.10/cmake-build/_deps/rmm-src/include/rmm/mr/device/cuda_memory_resource.hpp:72: cudaErrorMemoryAllocation out of memory\n",
      "\n",
      "  warnings.warn(\n",
      "Traceback (most recent call last):\n",
      "  File \"cupy/cuda/memory.pyx\", line 740, in cupy.cuda.memory.alloc\n",
      "  File \"/home/vsn/.pyenv/versions/3.10.6/envs/mestrado/lib/python3.10/site-packages/rmm/allocators/cupy.py\", line 37, in rmm_cupy_allocator\n",
      "    buf = librmm.device_buffer.DeviceBuffer(size=nbytes, stream=stream)\n",
      "  File \"device_buffer.pyx\", line 85, in rmm._lib.device_buffer.DeviceBuffer.__cinit__\n",
      "MemoryError: std::bad_alloc: out_of_memory: CUDA error at: /__w/cuml/cuml/python/_skbuild/linux-x86_64-3.10/cmake-build/_deps/rmm-src/include/rmm/mr/device/cuda_memory_resource.hpp:72: cudaErrorMemoryAllocation out of memory\n",
      "Exception ignored in: 'cupy.cuda.thrust.cupy_malloc'\n",
      "Traceback (most recent call last):\n",
      "  File \"cupy/cuda/memory.pyx\", line 740, in cupy.cuda.memory.alloc\n",
      "  File \"/home/vsn/.pyenv/versions/3.10.6/envs/mestrado/lib/python3.10/site-packages/rmm/allocators/cupy.py\", line 37, in rmm_cupy_allocator\n",
      "    buf = librmm.device_buffer.DeviceBuffer(size=nbytes, stream=stream)\n",
      "  File \"device_buffer.pyx\", line 85, in rmm._lib.device_buffer.DeviceBuffer.__cinit__\n",
      "MemoryError: std::bad_alloc: out_of_memory: CUDA error at: /__w/cuml/cuml/python/_skbuild/linux-x86_64-3.10/cmake-build/_deps/rmm-src/include/rmm/mr/device/cuda_memory_resource.hpp:72: cudaErrorMemoryAllocation out of memory\n",
      "Traceback (most recent call last):\n",
      "  File \"cupy/cuda/memory.pyx\", line 740, in cupy.cuda.memory.alloc\n",
      "  File \"/home/vsn/.pyenv/versions/3.10.6/envs/mestrado/lib/python3.10/site-packages/rmm/allocators/cupy.py\", line 37, in rmm_cupy_allocator\n",
      "    buf = librmm.device_buffer.DeviceBuffer(size=nbytes, stream=stream)\n",
      "  File \"device_buffer.pyx\", line 85, in rmm._lib.device_buffer.DeviceBuffer.__cinit__\n",
      "MemoryError: std::bad_alloc: out_of_memory: CUDA error at: /__w/cuml/cuml/python/_skbuild/linux-x86_64-3.10/cmake-build/_deps/rmm-src/include/rmm/mr/device/cuda_memory_resource.hpp:72: cudaErrorMemoryAllocation out of memory\n",
      "Exception ignored in: 'cupy.cuda.thrust.cupy_malloc'\n",
      "Traceback (most recent call last):\n",
      "  File \"cupy/cuda/memory.pyx\", line 740, in cupy.cuda.memory.alloc\n",
      "  File \"/home/vsn/.pyenv/versions/3.10.6/envs/mestrado/lib/python3.10/site-packages/rmm/allocators/cupy.py\", line 37, in rmm_cupy_allocator\n",
      "    buf = librmm.device_buffer.DeviceBuffer(size=nbytes, stream=stream)\n",
      "  File \"device_buffer.pyx\", line 85, in rmm._lib.device_buffer.DeviceBuffer.__cinit__\n",
      "MemoryError: std::bad_alloc: out_of_memory: CUDA error at: /__w/cuml/cuml/python/_skbuild/linux-x86_64-3.10/cmake-build/_deps/rmm-src/include/rmm/mr/device/cuda_memory_resource.hpp:72: cudaErrorMemoryAllocation out of memory\n",
      "/home/vsn/.pyenv/versions/3.10.6/envs/mestrado/lib/python3.10/site-packages/sklearn/model_selection/_validation.py:821: UserWarning: Scoring failed. The score on this train-test partition for these parameters will be set to nan. Details: \n",
      "Traceback (most recent call last):\n",
      "  File \"/home/vsn/.pyenv/versions/3.10.6/envs/mestrado/lib/python3.10/site-packages/sklearn/model_selection/_validation.py\", line 810, in _score\n",
      "    scores = scorer(estimator, X_test, y_test)\n",
      "  File \"/home/vsn/.pyenv/versions/3.10.6/envs/mestrado/lib/python3.10/site-packages/sklearn/metrics/_scorer.py\", line 266, in __call__\n",
      "    return self._score(partial(_cached_call, None), estimator, X, y_true, **_kwargs)\n",
      "  File \"/home/vsn/.pyenv/versions/3.10.6/envs/mestrado/lib/python3.10/site-packages/sklearn/metrics/_scorer.py\", line 353, in _score\n",
      "    y_pred = method_caller(estimator, \"predict\", X)\n",
      "  File \"/home/vsn/.pyenv/versions/3.10.6/envs/mestrado/lib/python3.10/site-packages/sklearn/metrics/_scorer.py\", line 86, in _cached_call\n",
      "    result, _ = _get_response_values(\n",
      "  File \"/home/vsn/.pyenv/versions/3.10.6/envs/mestrado/lib/python3.10/site-packages/sklearn/utils/_response.py\", line 194, in _get_response_values\n",
      "    y_pred = prediction_method(X)\n",
      "  File \"/home/vsn/.pyenv/versions/3.10.6/envs/mestrado/lib/python3.10/site-packages/cuml/internals/api_decorators.py\", line 188, in wrapper\n",
      "    ret = func(*args, **kwargs)\n",
      "  File \"svc.pyx\", line 607, in cuml.svm.svc.SVC.predict\n",
      "  File \"/home/vsn/.pyenv/versions/3.10.6/envs/mestrado/lib/python3.10/site-packages/cuml/internals/api_decorators.py\", line 188, in wrapper\n",
      "    ret = func(*args, **kwargs)\n",
      "  File \"svm_base.pyx\", line 639, in cuml.svm.svm_base.SVMBase.predict\n",
      "MemoryError: std::bad_alloc: out_of_memory: CUDA error at: /__w/cuml/cuml/python/_skbuild/linux-x86_64-3.10/cmake-build/_deps/rmm-src/include/rmm/mr/device/cuda_memory_resource.hpp:72: cudaErrorMemoryAllocation out of memory\n",
      "\n",
      "  warnings.warn(\n",
      "/home/vsn/.pyenv/versions/3.10.6/envs/mestrado/lib/python3.10/site-packages/sklearn/model_selection/_validation.py:821: UserWarning: Scoring failed. The score on this train-test partition for these parameters will be set to nan. Details: \n",
      "Traceback (most recent call last):\n",
      "  File \"/home/vsn/.pyenv/versions/3.10.6/envs/mestrado/lib/python3.10/site-packages/sklearn/model_selection/_validation.py\", line 810, in _score\n",
      "    scores = scorer(estimator, X_test, y_test)\n",
      "  File \"/home/vsn/.pyenv/versions/3.10.6/envs/mestrado/lib/python3.10/site-packages/sklearn/metrics/_scorer.py\", line 266, in __call__\n",
      "    return self._score(partial(_cached_call, None), estimator, X, y_true, **_kwargs)\n",
      "  File \"/home/vsn/.pyenv/versions/3.10.6/envs/mestrado/lib/python3.10/site-packages/sklearn/metrics/_scorer.py\", line 353, in _score\n",
      "    y_pred = method_caller(estimator, \"predict\", X)\n",
      "  File \"/home/vsn/.pyenv/versions/3.10.6/envs/mestrado/lib/python3.10/site-packages/sklearn/metrics/_scorer.py\", line 86, in _cached_call\n",
      "    result, _ = _get_response_values(\n",
      "  File \"/home/vsn/.pyenv/versions/3.10.6/envs/mestrado/lib/python3.10/site-packages/sklearn/utils/_response.py\", line 194, in _get_response_values\n",
      "    y_pred = prediction_method(X)\n",
      "  File \"/home/vsn/.pyenv/versions/3.10.6/envs/mestrado/lib/python3.10/site-packages/cuml/internals/api_decorators.py\", line 188, in wrapper\n",
      "    ret = func(*args, **kwargs)\n",
      "  File \"svc.pyx\", line 607, in cuml.svm.svc.SVC.predict\n",
      "  File \"/home/vsn/.pyenv/versions/3.10.6/envs/mestrado/lib/python3.10/site-packages/cuml/internals/api_decorators.py\", line 188, in wrapper\n",
      "    ret = func(*args, **kwargs)\n",
      "  File \"svm_base.pyx\", line 639, in cuml.svm.svm_base.SVMBase.predict\n",
      "MemoryError: std::bad_alloc: out_of_memory: CUDA error at: /__w/cuml/cuml/python/_skbuild/linux-x86_64-3.10/cmake-build/_deps/rmm-src/include/rmm/mr/device/cuda_memory_resource.hpp:72: cudaErrorMemoryAllocation out of memory\n",
      "\n",
      "  warnings.warn(\n",
      "/home/vsn/.pyenv/versions/3.10.6/envs/mestrado/lib/python3.10/site-packages/sklearn/model_selection/_validation.py:821: UserWarning: Scoring failed. The score on this train-test partition for these parameters will be set to nan. Details: \n",
      "Traceback (most recent call last):\n",
      "  File \"/home/vsn/.pyenv/versions/3.10.6/envs/mestrado/lib/python3.10/site-packages/sklearn/model_selection/_validation.py\", line 810, in _score\n",
      "    scores = scorer(estimator, X_test, y_test)\n",
      "  File \"/home/vsn/.pyenv/versions/3.10.6/envs/mestrado/lib/python3.10/site-packages/sklearn/metrics/_scorer.py\", line 266, in __call__\n",
      "    return self._score(partial(_cached_call, None), estimator, X, y_true, **_kwargs)\n",
      "  File \"/home/vsn/.pyenv/versions/3.10.6/envs/mestrado/lib/python3.10/site-packages/sklearn/metrics/_scorer.py\", line 353, in _score\n",
      "    y_pred = method_caller(estimator, \"predict\", X)\n",
      "  File \"/home/vsn/.pyenv/versions/3.10.6/envs/mestrado/lib/python3.10/site-packages/sklearn/metrics/_scorer.py\", line 86, in _cached_call\n",
      "    result, _ = _get_response_values(\n",
      "  File \"/home/vsn/.pyenv/versions/3.10.6/envs/mestrado/lib/python3.10/site-packages/sklearn/utils/_response.py\", line 194, in _get_response_values\n",
      "    y_pred = prediction_method(X)\n",
      "  File \"/home/vsn/.pyenv/versions/3.10.6/envs/mestrado/lib/python3.10/site-packages/cuml/internals/api_decorators.py\", line 188, in wrapper\n",
      "    ret = func(*args, **kwargs)\n",
      "  File \"svc.pyx\", line 607, in cuml.svm.svc.SVC.predict\n",
      "  File \"/home/vsn/.pyenv/versions/3.10.6/envs/mestrado/lib/python3.10/site-packages/cuml/internals/api_decorators.py\", line 188, in wrapper\n",
      "    ret = func(*args, **kwargs)\n",
      "  File \"svm_base.pyx\", line 639, in cuml.svm.svm_base.SVMBase.predict\n",
      "MemoryError: std::bad_alloc: out_of_memory: CUDA error at: /__w/cuml/cuml/python/_skbuild/linux-x86_64-3.10/cmake-build/_deps/rmm-src/include/rmm/mr/device/cuda_memory_resource.hpp:72: cudaErrorMemoryAllocation out of memory\n",
      "\n",
      "  warnings.warn(\n",
      "/home/vsn/.pyenv/versions/3.10.6/envs/mestrado/lib/python3.10/site-packages/sklearn/model_selection/_validation.py:821: UserWarning: Scoring failed. The score on this train-test partition for these parameters will be set to nan. Details: \n",
      "Traceback (most recent call last):\n",
      "  File \"/home/vsn/.pyenv/versions/3.10.6/envs/mestrado/lib/python3.10/site-packages/sklearn/model_selection/_validation.py\", line 810, in _score\n",
      "    scores = scorer(estimator, X_test, y_test)\n",
      "  File \"/home/vsn/.pyenv/versions/3.10.6/envs/mestrado/lib/python3.10/site-packages/sklearn/metrics/_scorer.py\", line 266, in __call__\n",
      "    return self._score(partial(_cached_call, None), estimator, X, y_true, **_kwargs)\n",
      "  File \"/home/vsn/.pyenv/versions/3.10.6/envs/mestrado/lib/python3.10/site-packages/sklearn/metrics/_scorer.py\", line 353, in _score\n",
      "    y_pred = method_caller(estimator, \"predict\", X)\n",
      "  File \"/home/vsn/.pyenv/versions/3.10.6/envs/mestrado/lib/python3.10/site-packages/sklearn/metrics/_scorer.py\", line 86, in _cached_call\n",
      "    result, _ = _get_response_values(\n",
      "  File \"/home/vsn/.pyenv/versions/3.10.6/envs/mestrado/lib/python3.10/site-packages/sklearn/utils/_response.py\", line 194, in _get_response_values\n",
      "    y_pred = prediction_method(X)\n",
      "  File \"/home/vsn/.pyenv/versions/3.10.6/envs/mestrado/lib/python3.10/site-packages/cuml/internals/api_decorators.py\", line 188, in wrapper\n",
      "    ret = func(*args, **kwargs)\n",
      "  File \"svc.pyx\", line 607, in cuml.svm.svc.SVC.predict\n",
      "  File \"/home/vsn/.pyenv/versions/3.10.6/envs/mestrado/lib/python3.10/site-packages/cuml/internals/api_decorators.py\", line 188, in wrapper\n",
      "    ret = func(*args, **kwargs)\n",
      "  File \"svm_base.pyx\", line 639, in cuml.svm.svm_base.SVMBase.predict\n",
      "MemoryError: std::bad_alloc: out_of_memory: CUDA error at: /__w/cuml/cuml/python/_skbuild/linux-x86_64-3.10/cmake-build/_deps/rmm-src/include/rmm/mr/device/cuda_memory_resource.hpp:72: cudaErrorMemoryAllocation out of memory\n",
      "\n",
      "  warnings.warn(\n"
     ]
    },
    {
     "data": {
      "text/html": [
       "<style>#sk-container-id-12 {color: black;}#sk-container-id-12 pre{padding: 0;}#sk-container-id-12 div.sk-toggleable {background-color: white;}#sk-container-id-12 label.sk-toggleable__label {cursor: pointer;display: block;width: 100%;margin-bottom: 0;padding: 0.3em;box-sizing: border-box;text-align: center;}#sk-container-id-12 label.sk-toggleable__label-arrow:before {content: \"▸\";float: left;margin-right: 0.25em;color: #696969;}#sk-container-id-12 label.sk-toggleable__label-arrow:hover:before {color: black;}#sk-container-id-12 div.sk-estimator:hover label.sk-toggleable__label-arrow:before {color: black;}#sk-container-id-12 div.sk-toggleable__content {max-height: 0;max-width: 0;overflow: hidden;text-align: left;background-color: #f0f8ff;}#sk-container-id-12 div.sk-toggleable__content pre {margin: 0.2em;color: black;border-radius: 0.25em;background-color: #f0f8ff;}#sk-container-id-12 input.sk-toggleable__control:checked~div.sk-toggleable__content {max-height: 200px;max-width: 100%;overflow: auto;}#sk-container-id-12 input.sk-toggleable__control:checked~label.sk-toggleable__label-arrow:before {content: \"▾\";}#sk-container-id-12 div.sk-estimator input.sk-toggleable__control:checked~label.sk-toggleable__label {background-color: #d4ebff;}#sk-container-id-12 div.sk-label input.sk-toggleable__control:checked~label.sk-toggleable__label {background-color: #d4ebff;}#sk-container-id-12 input.sk-hidden--visually {border: 0;clip: rect(1px 1px 1px 1px);clip: rect(1px, 1px, 1px, 1px);height: 1px;margin: -1px;overflow: hidden;padding: 0;position: absolute;width: 1px;}#sk-container-id-12 div.sk-estimator {font-family: monospace;background-color: #f0f8ff;border: 1px dotted black;border-radius: 0.25em;box-sizing: border-box;margin-bottom: 0.5em;}#sk-container-id-12 div.sk-estimator:hover {background-color: #d4ebff;}#sk-container-id-12 div.sk-parallel-item::after {content: \"\";width: 100%;border-bottom: 1px solid gray;flex-grow: 1;}#sk-container-id-12 div.sk-label:hover label.sk-toggleable__label {background-color: #d4ebff;}#sk-container-id-12 div.sk-serial::before {content: \"\";position: absolute;border-left: 1px solid gray;box-sizing: border-box;top: 0;bottom: 0;left: 50%;z-index: 0;}#sk-container-id-12 div.sk-serial {display: flex;flex-direction: column;align-items: center;background-color: white;padding-right: 0.2em;padding-left: 0.2em;position: relative;}#sk-container-id-12 div.sk-item {position: relative;z-index: 1;}#sk-container-id-12 div.sk-parallel {display: flex;align-items: stretch;justify-content: center;background-color: white;position: relative;}#sk-container-id-12 div.sk-item::before, #sk-container-id-12 div.sk-parallel-item::before {content: \"\";position: absolute;border-left: 1px solid gray;box-sizing: border-box;top: 0;bottom: 0;left: 50%;z-index: -1;}#sk-container-id-12 div.sk-parallel-item {display: flex;flex-direction: column;z-index: 1;position: relative;background-color: white;}#sk-container-id-12 div.sk-parallel-item:first-child::after {align-self: flex-end;width: 50%;}#sk-container-id-12 div.sk-parallel-item:last-child::after {align-self: flex-start;width: 50%;}#sk-container-id-12 div.sk-parallel-item:only-child::after {width: 0;}#sk-container-id-12 div.sk-dashed-wrapped {border: 1px dashed gray;margin: 0 0.4em 0.5em 0.4em;box-sizing: border-box;padding-bottom: 0.4em;background-color: white;}#sk-container-id-12 div.sk-label label {font-family: monospace;font-weight: bold;display: inline-block;line-height: 1.2em;}#sk-container-id-12 div.sk-label-container {text-align: center;}#sk-container-id-12 div.sk-container {/* jupyter's `normalize.less` sets `[hidden] { display: none; }` but bootstrap.min.css set `[hidden] { display: none !important; }` so we also need the `!important` here to be able to override the default hidden behavior on the sphinx rendered scikit-learn.org. See: https://github.com/scikit-learn/scikit-learn/issues/21755 */display: inline-block !important;position: relative;}#sk-container-id-12 div.sk-text-repr-fallback {display: none;}</style><div id=\"sk-container-id-12\" class=\"sk-top-container\"><div class=\"sk-text-repr-fallback\"><pre>RandomizedSearchCV(cv=5, estimator=SVC(), n_iter=500, n_jobs=-1,\n",
       "                   param_distributions={&#x27;C&#x27;: &lt;scipy.stats._distn_infrastructure.rv_continuous_frozen object at 0x7fb34c56d9f0&gt;,\n",
       "                                        &#x27;coef0&#x27;: &lt;scipy.stats._distn_infrastructure.rv_continuous_frozen object at 0x7fb34c56cbe0&gt;,\n",
       "                                        &#x27;degree&#x27;: [2, 3, 4, 5, 6],\n",
       "                                        &#x27;gamma&#x27;: [&#x27;auto&#x27;, &#x27;scale&#x27;],\n",
       "                                        &#x27;kernel&#x27;: [&#x27;poly&#x27;, &#x27;rbf&#x27;, &#x27;linear&#x27;,\n",
       "                                                   &#x27;sigmoid&#x27;]},\n",
       "                   scoring=&#x27;f1&#x27;, verbose=1)</pre><b>In a Jupyter environment, please rerun this cell to show the HTML representation or trust the notebook. <br />On GitHub, the HTML representation is unable to render, please try loading this page with nbviewer.org.</b></div><div class=\"sk-container\" hidden><div class=\"sk-item sk-dashed-wrapped\"><div class=\"sk-label-container\"><div class=\"sk-label sk-toggleable\"><input class=\"sk-toggleable__control sk-hidden--visually\" id=\"sk-estimator-id-50\" type=\"checkbox\" ><label for=\"sk-estimator-id-50\" class=\"sk-toggleable__label sk-toggleable__label-arrow\">RandomizedSearchCV</label><div class=\"sk-toggleable__content\"><pre>RandomizedSearchCV(cv=5, estimator=SVC(), n_iter=500, n_jobs=-1,\n",
       "                   param_distributions={&#x27;C&#x27;: &lt;scipy.stats._distn_infrastructure.rv_continuous_frozen object at 0x7fb34c56d9f0&gt;,\n",
       "                                        &#x27;coef0&#x27;: &lt;scipy.stats._distn_infrastructure.rv_continuous_frozen object at 0x7fb34c56cbe0&gt;,\n",
       "                                        &#x27;degree&#x27;: [2, 3, 4, 5, 6],\n",
       "                                        &#x27;gamma&#x27;: [&#x27;auto&#x27;, &#x27;scale&#x27;],\n",
       "                                        &#x27;kernel&#x27;: [&#x27;poly&#x27;, &#x27;rbf&#x27;, &#x27;linear&#x27;,\n",
       "                                                   &#x27;sigmoid&#x27;]},\n",
       "                   scoring=&#x27;f1&#x27;, verbose=1)</pre></div></div></div><div class=\"sk-parallel\"><div class=\"sk-parallel-item\"><div class=\"sk-item\"><div class=\"sk-label-container\"><div class=\"sk-label sk-toggleable\"><input class=\"sk-toggleable__control sk-hidden--visually\" id=\"sk-estimator-id-51\" type=\"checkbox\" ><label for=\"sk-estimator-id-51\" class=\"sk-toggleable__label sk-toggleable__label-arrow\">estimator: SVC</label><div class=\"sk-toggleable__content\"><pre>SVC()</pre></div></div></div><div class=\"sk-serial\"><div class=\"sk-item\"><div class=\"sk-estimator sk-toggleable\"><input class=\"sk-toggleable__control sk-hidden--visually\" id=\"sk-estimator-id-52\" type=\"checkbox\" ><label for=\"sk-estimator-id-52\" class=\"sk-toggleable__label sk-toggleable__label-arrow\">SVC</label><div class=\"sk-toggleable__content\"><pre>SVC()</pre></div></div></div></div></div></div></div></div></div></div>"
      ],
      "text/plain": [
       "RandomizedSearchCV(cv=5, estimator=SVC(), n_iter=500, n_jobs=-1,\n",
       "                   param_distributions={'C': <scipy.stats._distn_infrastructure.rv_continuous_frozen object at 0x7fb34c56d9f0>,\n",
       "                                        'coef0': <scipy.stats._distn_infrastructure.rv_continuous_frozen object at 0x7fb34c56cbe0>,\n",
       "                                        'degree': [2, 3, 4, 5, 6],\n",
       "                                        'gamma': ['auto', 'scale'],\n",
       "                                        'kernel': ['poly', 'rbf', 'linear',\n",
       "                                                   'sigmoid']},\n",
       "                   scoring='f1', verbose=1)"
      ]
     },
     "execution_count": 205,
     "metadata": {},
     "output_type": "execute_result"
    }
   ],
   "source": [
    "rand_search_svc = RandomizedSearchCV(model_svc, rand_params_svc, n_iter=500, scoring='f1', cv=5, n_jobs=-1, verbose=1)\n",
    "rand_search_svc.fit(X_train, y_train)"
   ]
  },
  {
   "cell_type": "code",
   "execution_count": 206,
   "id": "c40d853c-895c-4ebc-ad50-4b2bb672e6b5",
   "metadata": {},
   "outputs": [
    {
     "data": {
      "text/plain": [
       "{'C': 0.01103066341408766,\n",
       " 'coef0': 0.4474700935047694,\n",
       " 'degree': 2,\n",
       " 'gamma': 'scale',\n",
       " 'kernel': 'linear'}"
      ]
     },
     "execution_count": 206,
     "metadata": {},
     "output_type": "execute_result"
    }
   ],
   "source": [
    "rand_search_svc.best_params_"
   ]
  },
  {
   "cell_type": "code",
   "execution_count": 207,
   "id": "7ee2eb9c-0a35-416e-a63f-8252fa356afc",
   "metadata": {},
   "outputs": [
    {
     "data": {
      "text/plain": [
       "nan"
      ]
     },
     "execution_count": 207,
     "metadata": {},
     "output_type": "execute_result"
    }
   ],
   "source": [
    "rand_search_svc.best_score_"
   ]
  },
  {
   "cell_type": "code",
   "execution_count": 208,
   "id": "5fa48306-038c-4d3c-a858-93ae5586cd4c",
   "metadata": {},
   "outputs": [
    {
     "data": {
      "text/plain": [
       "0.3153254972875226"
      ]
     },
     "execution_count": 208,
     "metadata": {},
     "output_type": "execute_result"
    }
   ],
   "source": [
    "y_pred_svc = rand_search_svc.predict(X_test)\n",
    "f1_score(y_test, y_pred_svc)"
   ]
  },
  {
   "cell_type": "markdown",
   "id": "e2c645ce-e841-4d4a-bce6-fec7300565d8",
   "metadata": {},
   "source": [
    "### Predict to submit"
   ]
  },
  {
   "cell_type": "code",
   "execution_count": 209,
   "id": "caab265b-7a87-4d08-a9ca-f23e272efa95",
   "metadata": {},
   "outputs": [],
   "source": [
    "X_sub = preproc_pipe.fit_transform(X, y)"
   ]
  },
  {
   "cell_type": "code",
   "execution_count": 210,
   "id": "fbf3ce5e-f21f-413b-981c-324f414221f0",
   "metadata": {},
   "outputs": [
    {
     "data": {
      "text/html": [
       "<style>#sk-container-id-13 {color: black;}#sk-container-id-13 pre{padding: 0;}#sk-container-id-13 div.sk-toggleable {background-color: white;}#sk-container-id-13 label.sk-toggleable__label {cursor: pointer;display: block;width: 100%;margin-bottom: 0;padding: 0.3em;box-sizing: border-box;text-align: center;}#sk-container-id-13 label.sk-toggleable__label-arrow:before {content: \"▸\";float: left;margin-right: 0.25em;color: #696969;}#sk-container-id-13 label.sk-toggleable__label-arrow:hover:before {color: black;}#sk-container-id-13 div.sk-estimator:hover label.sk-toggleable__label-arrow:before {color: black;}#sk-container-id-13 div.sk-toggleable__content {max-height: 0;max-width: 0;overflow: hidden;text-align: left;background-color: #f0f8ff;}#sk-container-id-13 div.sk-toggleable__content pre {margin: 0.2em;color: black;border-radius: 0.25em;background-color: #f0f8ff;}#sk-container-id-13 input.sk-toggleable__control:checked~div.sk-toggleable__content {max-height: 200px;max-width: 100%;overflow: auto;}#sk-container-id-13 input.sk-toggleable__control:checked~label.sk-toggleable__label-arrow:before {content: \"▾\";}#sk-container-id-13 div.sk-estimator input.sk-toggleable__control:checked~label.sk-toggleable__label {background-color: #d4ebff;}#sk-container-id-13 div.sk-label input.sk-toggleable__control:checked~label.sk-toggleable__label {background-color: #d4ebff;}#sk-container-id-13 input.sk-hidden--visually {border: 0;clip: rect(1px 1px 1px 1px);clip: rect(1px, 1px, 1px, 1px);height: 1px;margin: -1px;overflow: hidden;padding: 0;position: absolute;width: 1px;}#sk-container-id-13 div.sk-estimator {font-family: monospace;background-color: #f0f8ff;border: 1px dotted black;border-radius: 0.25em;box-sizing: border-box;margin-bottom: 0.5em;}#sk-container-id-13 div.sk-estimator:hover {background-color: #d4ebff;}#sk-container-id-13 div.sk-parallel-item::after {content: \"\";width: 100%;border-bottom: 1px solid gray;flex-grow: 1;}#sk-container-id-13 div.sk-label:hover label.sk-toggleable__label {background-color: #d4ebff;}#sk-container-id-13 div.sk-serial::before {content: \"\";position: absolute;border-left: 1px solid gray;box-sizing: border-box;top: 0;bottom: 0;left: 50%;z-index: 0;}#sk-container-id-13 div.sk-serial {display: flex;flex-direction: column;align-items: center;background-color: white;padding-right: 0.2em;padding-left: 0.2em;position: relative;}#sk-container-id-13 div.sk-item {position: relative;z-index: 1;}#sk-container-id-13 div.sk-parallel {display: flex;align-items: stretch;justify-content: center;background-color: white;position: relative;}#sk-container-id-13 div.sk-item::before, #sk-container-id-13 div.sk-parallel-item::before {content: \"\";position: absolute;border-left: 1px solid gray;box-sizing: border-box;top: 0;bottom: 0;left: 50%;z-index: -1;}#sk-container-id-13 div.sk-parallel-item {display: flex;flex-direction: column;z-index: 1;position: relative;background-color: white;}#sk-container-id-13 div.sk-parallel-item:first-child::after {align-self: flex-end;width: 50%;}#sk-container-id-13 div.sk-parallel-item:last-child::after {align-self: flex-start;width: 50%;}#sk-container-id-13 div.sk-parallel-item:only-child::after {width: 0;}#sk-container-id-13 div.sk-dashed-wrapped {border: 1px dashed gray;margin: 0 0.4em 0.5em 0.4em;box-sizing: border-box;padding-bottom: 0.4em;background-color: white;}#sk-container-id-13 div.sk-label label {font-family: monospace;font-weight: bold;display: inline-block;line-height: 1.2em;}#sk-container-id-13 div.sk-label-container {text-align: center;}#sk-container-id-13 div.sk-container {/* jupyter's `normalize.less` sets `[hidden] { display: none; }` but bootstrap.min.css set `[hidden] { display: none !important; }` so we also need the `!important` here to be able to override the default hidden behavior on the sphinx rendered scikit-learn.org. See: https://github.com/scikit-learn/scikit-learn/issues/21755 */display: inline-block !important;position: relative;}#sk-container-id-13 div.sk-text-repr-fallback {display: none;}</style><div id=\"sk-container-id-13\" class=\"sk-top-container\"><div class=\"sk-text-repr-fallback\"><pre>SGDClassifier(alpha=0.1992468080070841, class_weight=&#x27;balanced&#x27;,\n",
       "              early_stopping=True, epsilon=0.008962892384382415,\n",
       "              eta0=0.20367302952929056, l1_ratio=0.4993083489220981,\n",
       "              learning_rate=&#x27;adaptive&#x27;, n_jobs=-1, penalty=None,\n",
       "              power_t=-0.09637021368699661)</pre><b>In a Jupyter environment, please rerun this cell to show the HTML representation or trust the notebook. <br />On GitHub, the HTML representation is unable to render, please try loading this page with nbviewer.org.</b></div><div class=\"sk-container\" hidden><div class=\"sk-item\"><div class=\"sk-estimator sk-toggleable\"><input class=\"sk-toggleable__control sk-hidden--visually\" id=\"sk-estimator-id-53\" type=\"checkbox\" checked><label for=\"sk-estimator-id-53\" class=\"sk-toggleable__label sk-toggleable__label-arrow\">SGDClassifier</label><div class=\"sk-toggleable__content\"><pre>SGDClassifier(alpha=0.1992468080070841, class_weight=&#x27;balanced&#x27;,\n",
       "              early_stopping=True, epsilon=0.008962892384382415,\n",
       "              eta0=0.20367302952929056, l1_ratio=0.4993083489220981,\n",
       "              learning_rate=&#x27;adaptive&#x27;, n_jobs=-1, penalty=None,\n",
       "              power_t=-0.09637021368699661)</pre></div></div></div></div></div>"
      ],
      "text/plain": [
       "SGDClassifier(alpha=0.1992468080070841, class_weight='balanced',\n",
       "              early_stopping=True, epsilon=0.008962892384382415,\n",
       "              eta0=0.20367302952929056, l1_ratio=0.4993083489220981,\n",
       "              learning_rate='adaptive', n_jobs=-1, penalty=None,\n",
       "              power_t=-0.09637021368699661)"
      ]
     },
     "execution_count": 210,
     "metadata": {},
     "output_type": "execute_result"
    }
   ],
   "source": [
    "best_model = rand_search.best_estimator_\n",
    "best_model.fit(X_sub, y)"
   ]
  },
  {
   "cell_type": "code",
   "execution_count": 211,
   "id": "5f191810-2d74-463d-b889-2d3388d5f208",
   "metadata": {},
   "outputs": [],
   "source": [
    "submission_df = pd.read_csv(os.path.join('..', 'raw_data', 'test.csv'))"
   ]
  },
  {
   "cell_type": "code",
   "execution_count": 212,
   "id": "bedb9697-0969-42b9-b146-54e5bda1232d",
   "metadata": {},
   "outputs": [],
   "source": [
    "sub_encounter_id = submission_df.encounter_id\n",
    "sub_clean = cleaner.transform(submission_df)\n",
    "sub_preproc = preproc_pipe.transform(sub_clean)"
   ]
  },
  {
   "cell_type": "code",
   "execution_count": 214,
   "id": "c82b429f-aa4b-4205-8c70-000279073199",
   "metadata": {},
   "outputs": [
    {
     "name": "stdout",
     "output_type": "stream",
     "text": [
      "../submissions/submission_v42.csv was created! Good luck on the score!\n"
     ]
    }
   ],
   "source": [
    "get_submission_data(best_model, sub_preproc, sub_encounter_id, '../submissions/')"
   ]
  }
 ],
 "metadata": {
  "kernelspec": {
   "display_name": "Python 3 (ipykernel)",
   "language": "python",
   "name": "python3"
  },
  "language_info": {
   "codemirror_mode": {
    "name": "ipython",
    "version": 3
   },
   "file_extension": ".py",
   "mimetype": "text/x-python",
   "name": "python",
   "nbconvert_exporter": "python",
   "pygments_lexer": "ipython3",
   "version": "3.11.5"
  }
 },
 "nbformat": 4,
 "nbformat_minor": 5
}
